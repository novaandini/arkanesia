{
 "cells": [
  {
   "cell_type": "markdown",
   "metadata": {
    "id": "hu4BkapFhbcb"
   },
   "source": [
    "# Import Library"
   ]
  },
  {
   "cell_type": "code",
   "execution_count": 1,
   "metadata": {
    "id": "ehkdpiVahaIY"
   },
   "outputs": [
    {
     "name": "stderr",
     "output_type": "stream",
     "text": [
      "c:\\Users\\ASUS\\Desktop\\arkanesia-dataset\\arkanesia_env\\Lib\\site-packages\\tqdm\\auto.py:21: TqdmWarning: IProgress not found. Please update jupyter and ipywidgets. See https://ipywidgets.readthedocs.io/en/stable/user_install.html\n",
      "  from .autonotebook import tqdm as notebook_tqdm\n",
      "[nltk_data] Downloading package stopwords to\n",
      "[nltk_data]     C:\\Users\\ASUS\\AppData\\Roaming\\nltk_data...\n",
      "[nltk_data]   Package stopwords is already up-to-date!\n"
     ]
    },
    {
     "name": "stdout",
     "output_type": "stream",
     "text": [
      "WARNING:tensorflow:From c:\\Users\\ASUS\\Desktop\\arkanesia-dataset\\arkanesia_env\\Lib\\site-packages\\tf_keras\\src\\losses.py:2976: The name tf.losses.sparse_softmax_cross_entropy is deprecated. Please use tf.compat.v1.losses.sparse_softmax_cross_entropy instead.\n",
      "\n"
     ]
    }
   ],
   "source": [
    "import sys\n",
    "import os\n",
    "import json\n",
    "sys.path.append(os.path.abspath(os.path.join(os.getcwd(), '..')))\n",
    "import pandas as pd\n",
    "from datasets import Dataset\n",
    "from utils.preprocessing import cleaningText\n",
    "from utils.preprocessing import casefoldingText\n",
    "from utils.preprocessing import stemmingText\n",
    "from utils.preprocessing import fix_slangwords\n",
    "from utils.preprocessing import tokenize\n",
    "from utils.preprocessing import filteringText\n",
    "from utils.preprocessing import tokenizingText\n",
    "from utils.preprocessing import toSentence\n",
    "from sklearn.preprocessing import LabelEncoder\n",
    "from transformers import AutoModelForSequenceClassification\n",
    "from transformers import TrainingArguments\n",
    "from transformers import Trainer\n",
    "from transformers import AutoTokenizer\n",
    "from sklearn.metrics import accuracy_score\n",
    "from sentence_transformers import SentenceTransformer, util\n",
    "from sqlalchemy import create_engine\n",
    "from flask import jsonify\n",
    "import torch\n",
    "\n",
    "os.environ[\"WANDB_DISABLED\"] = \"true\"\n",
    "tokenizer = AutoTokenizer.from_pretrained(\"indobenchmark/indobert-base-p1\")\n",
    "# Load model\n",
    "model = SentenceTransformer('distiluse-base-multilingual-cased')"
   ]
  },
  {
   "cell_type": "markdown",
   "metadata": {},
   "source": [
    "# Model Klasifikasi Intent"
   ]
  },
  {
   "cell_type": "markdown",
   "metadata": {
    "id": "kqIGImjq7PYa"
   },
   "source": [
    "## Loading Dataset"
   ]
  },
  {
   "cell_type": "code",
   "execution_count": 127,
   "metadata": {
    "colab": {
     "base_uri": "https://localhost:8080/"
    },
    "id": "codsTZgs7M5K",
    "outputId": "8f4affc5-cd8b-45bd-b25b-9d377d39ae9d"
   },
   "outputs": [
    {
     "name": "stdout",
     "output_type": "stream",
     "text": [
      "                                          Pertanyaan       Intent  \\\n",
      "0   Apa tempat wisata alam terbaik di [nama_daerah]?  wisata_alam   \n",
      "1  Di [nama_daerah], di mana saya bisa menikmati ...  wisata_alam   \n",
      "2  Tempat wisata alam apa yang wajib dikunjungi d...  wisata_alam   \n",
      "3  Ada apa saja di [nama_daerah] yang cocok untuk...  wisata_alam   \n",
      "4  Wisata alam apa yang paling terkenal di [nama_...  wisata_alam   \n",
      "\n",
      "                                             Jawaban  \n",
      "0  Di [nama_daerah], kamu bisa nemuin banyak temp...  \n",
      "1  Kalau kamu lagi di [nama_daerah] dan pengen me...  \n",
      "2  Beberapa destinasi wisata alam yang wajib kamu...  \n",
      "3  Buat pecinta alam, [nama_daerah] punya banyak ...  \n",
      "4  [rekomendasi_1] dan [rekomendasi_2] adalah wis...  \n"
     ]
    }
   ],
   "source": [
    "# Ubah URL menjadi raw URL GitHub\n",
    "chatbot_url = \"https://raw.githubusercontent.com/novaandini/arkanesia/refs/heads/main/data/chatbot.csv\"\n",
    "\n",
    "chatbot_df = pd.read_csv(chatbot_url)\n",
    "\n",
    "# Cek kolom yang ada\n",
    "print(chatbot_df.head())"
   ]
  },
  {
   "cell_type": "markdown",
   "metadata": {
    "id": "rYzOXSV2_Ppj"
   },
   "source": [
    "## Explore Chatbot Data"
   ]
  },
  {
   "cell_type": "code",
   "execution_count": 6,
   "metadata": {
    "colab": {
     "base_uri": "https://localhost:8080/"
    },
    "id": "zOlIay51IaN-",
    "outputId": "5a37d3fe-c037-4b0f-9476-e4805829513c"
   },
   "outputs": [
    {
     "data": {
      "text/plain": [
       "np.int64(0)"
      ]
     },
     "execution_count": 6,
     "metadata": {},
     "output_type": "execute_result"
    }
   ],
   "source": [
    "chatbot_df.duplicated().sum()"
   ]
  },
  {
   "cell_type": "code",
   "execution_count": 7,
   "metadata": {
    "colab": {
     "base_uri": "https://localhost:8080/",
     "height": 178
    },
    "id": "kymaz5Up2lMM",
    "outputId": "eda42550-4cc7-4590-93b0-40322fba65fe"
   },
   "outputs": [
    {
     "data": {
      "text/plain": [
       "Pertanyaan    0\n",
       "Intent        0\n",
       "Jawaban       0\n",
       "dtype: int64"
      ]
     },
     "execution_count": 7,
     "metadata": {},
     "output_type": "execute_result"
    }
   ],
   "source": [
    "chatbot_df.isnull().sum()"
   ]
  },
  {
   "cell_type": "code",
   "execution_count": 8,
   "metadata": {
    "colab": {
     "base_uri": "https://localhost:8080/",
     "height": 175
    },
    "id": "RKKt1fQ2_E9A",
    "outputId": "60ea886b-e501-4444-f48e-0ed46cd7dafa"
   },
   "outputs": [
    {
     "data": {
      "text/html": [
       "<div>\n",
       "<style scoped>\n",
       "    .dataframe tbody tr th:only-of-type {\n",
       "        vertical-align: middle;\n",
       "    }\n",
       "\n",
       "    .dataframe tbody tr th {\n",
       "        vertical-align: top;\n",
       "    }\n",
       "\n",
       "    .dataframe thead th {\n",
       "        text-align: right;\n",
       "    }\n",
       "</style>\n",
       "<table border=\"1\" class=\"dataframe\">\n",
       "  <thead>\n",
       "    <tr style=\"text-align: right;\">\n",
       "      <th></th>\n",
       "      <th>Pertanyaan</th>\n",
       "      <th>Intent</th>\n",
       "      <th>Jawaban</th>\n",
       "    </tr>\n",
       "  </thead>\n",
       "  <tbody>\n",
       "    <tr>\n",
       "      <th>count</th>\n",
       "      <td>723</td>\n",
       "      <td>723</td>\n",
       "      <td>723</td>\n",
       "    </tr>\n",
       "    <tr>\n",
       "      <th>unique</th>\n",
       "      <td>723</td>\n",
       "      <td>15</td>\n",
       "      <td>723</td>\n",
       "    </tr>\n",
       "    <tr>\n",
       "      <th>top</th>\n",
       "      <td>Bro, ini kenapa wifi ku lelet?</td>\n",
       "      <td>wisata_bahari</td>\n",
       "      <td>brooo 😵 itu mah urusan teknisi, aku mah jagony...</td>\n",
       "    </tr>\n",
       "    <tr>\n",
       "      <th>freq</th>\n",
       "      <td>1</td>\n",
       "      <td>107</td>\n",
       "      <td>1</td>\n",
       "    </tr>\n",
       "  </tbody>\n",
       "</table>\n",
       "</div>"
      ],
      "text/plain": [
       "                            Pertanyaan         Intent  \\\n",
       "count                              723            723   \n",
       "unique                             723             15   \n",
       "top     Bro, ini kenapa wifi ku lelet?  wisata_bahari   \n",
       "freq                                 1            107   \n",
       "\n",
       "                                                  Jawaban  \n",
       "count                                                 723  \n",
       "unique                                                723  \n",
       "top     brooo 😵 itu mah urusan teknisi, aku mah jagony...  \n",
       "freq                                                    1  "
      ]
     },
     "execution_count": 8,
     "metadata": {},
     "output_type": "execute_result"
    }
   ],
   "source": [
    "chatbot_df.describe()"
   ]
  },
  {
   "cell_type": "code",
   "execution_count": 9,
   "metadata": {
    "colab": {
     "base_uri": "https://localhost:8080/"
    },
    "id": "M21gOtuW_G-I",
    "outputId": "7109bf6c-2cfc-4b0a-8df2-791fb11b9622"
   },
   "outputs": [
    {
     "name": "stdout",
     "output_type": "stream",
     "text": [
      "<class 'pandas.core.frame.DataFrame'>\n",
      "RangeIndex: 723 entries, 0 to 722\n",
      "Data columns (total 3 columns):\n",
      " #   Column      Non-Null Count  Dtype \n",
      "---  ------      --------------  ----- \n",
      " 0   Pertanyaan  723 non-null    object\n",
      " 1   Intent      723 non-null    object\n",
      " 2   Jawaban     723 non-null    object\n",
      "dtypes: object(3)\n",
      "memory usage: 17.1+ KB\n"
     ]
    }
   ],
   "source": [
    "chatbot_df.info()"
   ]
  },
  {
   "cell_type": "markdown",
   "metadata": {
    "id": "j1Guq2ym7R9F"
   },
   "source": [
    "## Preprocessing Text"
   ]
  },
  {
   "cell_type": "markdown",
   "metadata": {
    "id": "pjLHWeFQ-1A_"
   },
   "source": [
    "### Cleaning Text"
   ]
  },
  {
   "cell_type": "code",
   "execution_count": 10,
   "metadata": {
    "colab": {
     "base_uri": "https://localhost:8080/",
     "height": 206
    },
    "id": "oSeO3eQI-v4s",
    "outputId": "3062f267-26fe-45f2-a6dc-32fc7bab8139"
   },
   "outputs": [
    {
     "data": {
      "text/html": [
       "<div>\n",
       "<style scoped>\n",
       "    .dataframe tbody tr th:only-of-type {\n",
       "        vertical-align: middle;\n",
       "    }\n",
       "\n",
       "    .dataframe tbody tr th {\n",
       "        vertical-align: top;\n",
       "    }\n",
       "\n",
       "    .dataframe thead th {\n",
       "        text-align: right;\n",
       "    }\n",
       "</style>\n",
       "<table border=\"1\" class=\"dataframe\">\n",
       "  <thead>\n",
       "    <tr style=\"text-align: right;\">\n",
       "      <th></th>\n",
       "      <th>question</th>\n",
       "      <th>intent</th>\n",
       "      <th>answer</th>\n",
       "    </tr>\n",
       "  </thead>\n",
       "  <tbody>\n",
       "    <tr>\n",
       "      <th>0</th>\n",
       "      <td>Apa tempat wisata alam terbaik di [nama_daerah]?</td>\n",
       "      <td>wisata_alam</td>\n",
       "      <td>Di [nama_daerah], kamu bisa nemuin banyak temp...</td>\n",
       "    </tr>\n",
       "    <tr>\n",
       "      <th>1</th>\n",
       "      <td>Di [nama_daerah], di mana saya bisa menikmati ...</td>\n",
       "      <td>wisata_alam</td>\n",
       "      <td>Kalau kamu lagi di [nama_daerah] dan pengen me...</td>\n",
       "    </tr>\n",
       "    <tr>\n",
       "      <th>2</th>\n",
       "      <td>Tempat wisata alam apa yang wajib dikunjungi d...</td>\n",
       "      <td>wisata_alam</td>\n",
       "      <td>Beberapa destinasi wisata alam yang wajib kamu...</td>\n",
       "    </tr>\n",
       "    <tr>\n",
       "      <th>3</th>\n",
       "      <td>Ada apa saja di [nama_daerah] yang cocok untuk...</td>\n",
       "      <td>wisata_alam</td>\n",
       "      <td>Buat pecinta alam, [nama_daerah] punya banyak ...</td>\n",
       "    </tr>\n",
       "    <tr>\n",
       "      <th>4</th>\n",
       "      <td>Wisata alam apa yang paling terkenal di [nama_...</td>\n",
       "      <td>wisata_alam</td>\n",
       "      <td>[rekomendasi_1] dan [rekomendasi_2] adalah wis...</td>\n",
       "    </tr>\n",
       "  </tbody>\n",
       "</table>\n",
       "</div>"
      ],
      "text/plain": [
       "                                            question       intent  \\\n",
       "0   Apa tempat wisata alam terbaik di [nama_daerah]?  wisata_alam   \n",
       "1  Di [nama_daerah], di mana saya bisa menikmati ...  wisata_alam   \n",
       "2  Tempat wisata alam apa yang wajib dikunjungi d...  wisata_alam   \n",
       "3  Ada apa saja di [nama_daerah] yang cocok untuk...  wisata_alam   \n",
       "4  Wisata alam apa yang paling terkenal di [nama_...  wisata_alam   \n",
       "\n",
       "                                              answer  \n",
       "0  Di [nama_daerah], kamu bisa nemuin banyak temp...  \n",
       "1  Kalau kamu lagi di [nama_daerah] dan pengen me...  \n",
       "2  Beberapa destinasi wisata alam yang wajib kamu...  \n",
       "3  Buat pecinta alam, [nama_daerah] punya banyak ...  \n",
       "4  [rekomendasi_1] dan [rekomendasi_2] adalah wis...  "
      ]
     },
     "execution_count": 10,
     "metadata": {},
     "output_type": "execute_result"
    }
   ],
   "source": [
    "chatbot_cleaned_df = pd.DataFrame()\n",
    "chatbot_cleaned_df['question'] = chatbot_df['Pertanyaan']\n",
    "chatbot_cleaned_df['intent'] = chatbot_df['Intent']\n",
    "chatbot_cleaned_df['answer'] = chatbot_df['Jawaban']\n",
    "chatbot_cleaned_df.head()"
   ]
  },
  {
   "cell_type": "code",
   "execution_count": 11,
   "metadata": {
    "colab": {
     "base_uri": "https://localhost:8080/",
     "height": 206
    },
    "id": "aByO4Ltv-fY2",
    "outputId": "9afb5b67-1669-415d-cf5a-e6638da5cbd9"
   },
   "outputs": [
    {
     "data": {
      "text/html": [
       "<div>\n",
       "<style scoped>\n",
       "    .dataframe tbody tr th:only-of-type {\n",
       "        vertical-align: middle;\n",
       "    }\n",
       "\n",
       "    .dataframe tbody tr th {\n",
       "        vertical-align: top;\n",
       "    }\n",
       "\n",
       "    .dataframe thead th {\n",
       "        text-align: right;\n",
       "    }\n",
       "</style>\n",
       "<table border=\"1\" class=\"dataframe\">\n",
       "  <thead>\n",
       "    <tr style=\"text-align: right;\">\n",
       "      <th></th>\n",
       "      <th>question</th>\n",
       "      <th>intent</th>\n",
       "      <th>answer</th>\n",
       "    </tr>\n",
       "  </thead>\n",
       "  <tbody>\n",
       "    <tr>\n",
       "      <th>0</th>\n",
       "      <td>Apa tempat wisata alam terbaik di namadaerah</td>\n",
       "      <td>wisata_alam</td>\n",
       "      <td>Di namadaerah kamu bisa nemuin banyak tempat w...</td>\n",
       "    </tr>\n",
       "    <tr>\n",
       "      <th>1</th>\n",
       "      <td>Di namadaerah di mana saya bisa menikmati alam</td>\n",
       "      <td>wisata_alam</td>\n",
       "      <td>Kalau kamu lagi di namadaerah dan pengen menik...</td>\n",
       "    </tr>\n",
       "    <tr>\n",
       "      <th>2</th>\n",
       "      <td>Tempat wisata alam apa yang wajib dikunjungi d...</td>\n",
       "      <td>wisata_alam</td>\n",
       "      <td>Beberapa destinasi wisata alam yang wajib kamu...</td>\n",
       "    </tr>\n",
       "    <tr>\n",
       "      <th>3</th>\n",
       "      <td>Ada apa saja di namadaerah yang cocok untuk pe...</td>\n",
       "      <td>wisata_alam</td>\n",
       "      <td>Buat pecinta alam namadaerah punya banyak spot...</td>\n",
       "    </tr>\n",
       "    <tr>\n",
       "      <th>4</th>\n",
       "      <td>Wisata alam apa yang paling terkenal di namada...</td>\n",
       "      <td>wisata_alam</td>\n",
       "      <td>rekomendasi1 dan rekomendasi2 adalah wisata al...</td>\n",
       "    </tr>\n",
       "  </tbody>\n",
       "</table>\n",
       "</div>"
      ],
      "text/plain": [
       "                                            question       intent  \\\n",
       "0       Apa tempat wisata alam terbaik di namadaerah  wisata_alam   \n",
       "1     Di namadaerah di mana saya bisa menikmati alam  wisata_alam   \n",
       "2  Tempat wisata alam apa yang wajib dikunjungi d...  wisata_alam   \n",
       "3  Ada apa saja di namadaerah yang cocok untuk pe...  wisata_alam   \n",
       "4  Wisata alam apa yang paling terkenal di namada...  wisata_alam   \n",
       "\n",
       "                                              answer  \n",
       "0  Di namadaerah kamu bisa nemuin banyak tempat w...  \n",
       "1  Kalau kamu lagi di namadaerah dan pengen menik...  \n",
       "2  Beberapa destinasi wisata alam yang wajib kamu...  \n",
       "3  Buat pecinta alam namadaerah punya banyak spot...  \n",
       "4  rekomendasi1 dan rekomendasi2 adalah wisata al...  "
      ]
     },
     "execution_count": 11,
     "metadata": {},
     "output_type": "execute_result"
    }
   ],
   "source": [
    "chatbot_cleaned_df['question'] = chatbot_cleaned_df['question'].apply(cleaningText)\n",
    "chatbot_cleaned_df['answer'] = chatbot_cleaned_df['answer'].apply(cleaningText)\n",
    "\n",
    "chatbot_cleaned_df.head()"
   ]
  },
  {
   "cell_type": "markdown",
   "metadata": {
    "id": "wX5H7yoOBrWP"
   },
   "source": [
    "### Case Folding text"
   ]
  },
  {
   "cell_type": "code",
   "execution_count": 12,
   "metadata": {
    "colab": {
     "base_uri": "https://localhost:8080/",
     "height": 206
    },
    "id": "7bs9TDLqBuKO",
    "outputId": "d8a5062f-fd1b-4206-953d-c3208e64635a"
   },
   "outputs": [
    {
     "data": {
      "text/html": [
       "<div>\n",
       "<style scoped>\n",
       "    .dataframe tbody tr th:only-of-type {\n",
       "        vertical-align: middle;\n",
       "    }\n",
       "\n",
       "    .dataframe tbody tr th {\n",
       "        vertical-align: top;\n",
       "    }\n",
       "\n",
       "    .dataframe thead th {\n",
       "        text-align: right;\n",
       "    }\n",
       "</style>\n",
       "<table border=\"1\" class=\"dataframe\">\n",
       "  <thead>\n",
       "    <tr style=\"text-align: right;\">\n",
       "      <th></th>\n",
       "      <th>question</th>\n",
       "      <th>intent</th>\n",
       "      <th>answer</th>\n",
       "    </tr>\n",
       "  </thead>\n",
       "  <tbody>\n",
       "    <tr>\n",
       "      <th>0</th>\n",
       "      <td>apa tempat wisata alam terbaik di namadaerah</td>\n",
       "      <td>wisata_alam</td>\n",
       "      <td>di namadaerah kamu bisa nemuin banyak tempat w...</td>\n",
       "    </tr>\n",
       "    <tr>\n",
       "      <th>1</th>\n",
       "      <td>di namadaerah di mana saya bisa menikmati alam</td>\n",
       "      <td>wisata_alam</td>\n",
       "      <td>kalau kamu lagi di namadaerah dan pengen menik...</td>\n",
       "    </tr>\n",
       "    <tr>\n",
       "      <th>2</th>\n",
       "      <td>tempat wisata alam apa yang wajib dikunjungi d...</td>\n",
       "      <td>wisata_alam</td>\n",
       "      <td>beberapa destinasi wisata alam yang wajib kamu...</td>\n",
       "    </tr>\n",
       "    <tr>\n",
       "      <th>3</th>\n",
       "      <td>ada apa saja di namadaerah yang cocok untuk pe...</td>\n",
       "      <td>wisata_alam</td>\n",
       "      <td>buat pecinta alam namadaerah punya banyak spot...</td>\n",
       "    </tr>\n",
       "    <tr>\n",
       "      <th>4</th>\n",
       "      <td>wisata alam apa yang paling terkenal di namada...</td>\n",
       "      <td>wisata_alam</td>\n",
       "      <td>rekomendasi1 dan rekomendasi2 adalah wisata al...</td>\n",
       "    </tr>\n",
       "  </tbody>\n",
       "</table>\n",
       "</div>"
      ],
      "text/plain": [
       "                                            question       intent  \\\n",
       "0       apa tempat wisata alam terbaik di namadaerah  wisata_alam   \n",
       "1     di namadaerah di mana saya bisa menikmati alam  wisata_alam   \n",
       "2  tempat wisata alam apa yang wajib dikunjungi d...  wisata_alam   \n",
       "3  ada apa saja di namadaerah yang cocok untuk pe...  wisata_alam   \n",
       "4  wisata alam apa yang paling terkenal di namada...  wisata_alam   \n",
       "\n",
       "                                              answer  \n",
       "0  di namadaerah kamu bisa nemuin banyak tempat w...  \n",
       "1  kalau kamu lagi di namadaerah dan pengen menik...  \n",
       "2  beberapa destinasi wisata alam yang wajib kamu...  \n",
       "3  buat pecinta alam namadaerah punya banyak spot...  \n",
       "4  rekomendasi1 dan rekomendasi2 adalah wisata al...  "
      ]
     },
     "execution_count": 12,
     "metadata": {},
     "output_type": "execute_result"
    }
   ],
   "source": [
    "chatbot_cleaned_df['question'] = chatbot_cleaned_df['question'].apply(casefoldingText)\n",
    "chatbot_cleaned_df['answer'] = chatbot_cleaned_df['answer'].apply(casefoldingText)\n",
    "chatbot_cleaned_df.head()"
   ]
  },
  {
   "cell_type": "markdown",
   "metadata": {},
   "source": [
    "### Fix Slang Words"
   ]
  },
  {
   "cell_type": "code",
   "execution_count": 13,
   "metadata": {},
   "outputs": [
    {
     "data": {
      "text/html": [
       "<div>\n",
       "<style scoped>\n",
       "    .dataframe tbody tr th:only-of-type {\n",
       "        vertical-align: middle;\n",
       "    }\n",
       "\n",
       "    .dataframe tbody tr th {\n",
       "        vertical-align: top;\n",
       "    }\n",
       "\n",
       "    .dataframe thead th {\n",
       "        text-align: right;\n",
       "    }\n",
       "</style>\n",
       "<table border=\"1\" class=\"dataframe\">\n",
       "  <thead>\n",
       "    <tr style=\"text-align: right;\">\n",
       "      <th></th>\n",
       "      <th>question</th>\n",
       "      <th>intent</th>\n",
       "      <th>answer</th>\n",
       "    </tr>\n",
       "  </thead>\n",
       "  <tbody>\n",
       "    <tr>\n",
       "      <th>0</th>\n",
       "      <td>apa tempat wisata alam terbaik di namadaerah</td>\n",
       "      <td>wisata_alam</td>\n",
       "      <td>di namadaerah kamu bisa nemuin banyak tempat w...</td>\n",
       "    </tr>\n",
       "    <tr>\n",
       "      <th>1</th>\n",
       "      <td>di namadaerah di mana saya bisa menikmati alam</td>\n",
       "      <td>wisata_alam</td>\n",
       "      <td>kalau kamu lagi di namadaerah dan pengen menik...</td>\n",
       "    </tr>\n",
       "    <tr>\n",
       "      <th>2</th>\n",
       "      <td>tempat wisata alam apa yang wajib dikunjungi d...</td>\n",
       "      <td>wisata_alam</td>\n",
       "      <td>beberapa destinasi wisata alam yang wajib kamu...</td>\n",
       "    </tr>\n",
       "    <tr>\n",
       "      <th>3</th>\n",
       "      <td>ada apa saja di namadaerah yang cocok untuk pe...</td>\n",
       "      <td>wisata_alam</td>\n",
       "      <td>buat pecinta alam namadaerah punya banyak spot...</td>\n",
       "    </tr>\n",
       "    <tr>\n",
       "      <th>4</th>\n",
       "      <td>wisata alam apa yang paling terkenal di namada...</td>\n",
       "      <td>wisata_alam</td>\n",
       "      <td>rekomendasi1 dan rekomendasi2 adalah wisata al...</td>\n",
       "    </tr>\n",
       "  </tbody>\n",
       "</table>\n",
       "</div>"
      ],
      "text/plain": [
       "                                            question       intent  \\\n",
       "0       apa tempat wisata alam terbaik di namadaerah  wisata_alam   \n",
       "1     di namadaerah di mana saya bisa menikmati alam  wisata_alam   \n",
       "2  tempat wisata alam apa yang wajib dikunjungi d...  wisata_alam   \n",
       "3  ada apa saja di namadaerah yang cocok untuk pe...  wisata_alam   \n",
       "4  wisata alam apa yang paling terkenal di namada...  wisata_alam   \n",
       "\n",
       "                                              answer  \n",
       "0  di namadaerah kamu bisa nemuin banyak tempat w...  \n",
       "1  kalau kamu lagi di namadaerah dan pengen menik...  \n",
       "2  beberapa destinasi wisata alam yang wajib kamu...  \n",
       "3  buat pecinta alam namadaerah punya banyak spot...  \n",
       "4  rekomendasi1 dan rekomendasi2 adalah wisata al...  "
      ]
     },
     "execution_count": 13,
     "metadata": {},
     "output_type": "execute_result"
    }
   ],
   "source": [
    "chatbot_cleaned_df['question'] = chatbot_cleaned_df['question'].apply(fix_slangwords)\n",
    "chatbot_cleaned_df.head()"
   ]
  },
  {
   "cell_type": "markdown",
   "metadata": {
    "id": "sZxbclwXCDsl"
   },
   "source": [
    "### Stemming Text"
   ]
  },
  {
   "cell_type": "code",
   "execution_count": 14,
   "metadata": {
    "colab": {
     "base_uri": "https://localhost:8080/",
     "height": 206
    },
    "id": "6j9H2vS0CFfl",
    "outputId": "e344c165-8e85-49b8-f6c8-ee36b86d084d"
   },
   "outputs": [
    {
     "data": {
      "text/html": [
       "<div>\n",
       "<style scoped>\n",
       "    .dataframe tbody tr th:only-of-type {\n",
       "        vertical-align: middle;\n",
       "    }\n",
       "\n",
       "    .dataframe tbody tr th {\n",
       "        vertical-align: top;\n",
       "    }\n",
       "\n",
       "    .dataframe thead th {\n",
       "        text-align: right;\n",
       "    }\n",
       "</style>\n",
       "<table border=\"1\" class=\"dataframe\">\n",
       "  <thead>\n",
       "    <tr style=\"text-align: right;\">\n",
       "      <th></th>\n",
       "      <th>question</th>\n",
       "      <th>intent</th>\n",
       "      <th>answer</th>\n",
       "    </tr>\n",
       "  </thead>\n",
       "  <tbody>\n",
       "    <tr>\n",
       "      <th>0</th>\n",
       "      <td>apa tempat wisata alam baik di namadaerah</td>\n",
       "      <td>wisata_alam</td>\n",
       "      <td>di namadaerah kamu bisa nemuin banyak tempat w...</td>\n",
       "    </tr>\n",
       "    <tr>\n",
       "      <th>1</th>\n",
       "      <td>di namadaerah di mana saya bisa nikmat alam</td>\n",
       "      <td>wisata_alam</td>\n",
       "      <td>kalau kamu lagi di namadaerah dan pengen menik...</td>\n",
       "    </tr>\n",
       "    <tr>\n",
       "      <th>2</th>\n",
       "      <td>tempat wisata alam apa yang wajib kunjung di n...</td>\n",
       "      <td>wisata_alam</td>\n",
       "      <td>beberapa destinasi wisata alam yang wajib kamu...</td>\n",
       "    </tr>\n",
       "    <tr>\n",
       "      <th>3</th>\n",
       "      <td>ada apa saja di namadaerah yang cocok untuk ci...</td>\n",
       "      <td>wisata_alam</td>\n",
       "      <td>buat pecinta alam namadaerah punya banyak spot...</td>\n",
       "    </tr>\n",
       "    <tr>\n",
       "      <th>4</th>\n",
       "      <td>wisata alam apa yang paling kenal di namadaerah</td>\n",
       "      <td>wisata_alam</td>\n",
       "      <td>rekomendasi1 dan rekomendasi2 adalah wisata al...</td>\n",
       "    </tr>\n",
       "  </tbody>\n",
       "</table>\n",
       "</div>"
      ],
      "text/plain": [
       "                                            question       intent  \\\n",
       "0          apa tempat wisata alam baik di namadaerah  wisata_alam   \n",
       "1        di namadaerah di mana saya bisa nikmat alam  wisata_alam   \n",
       "2  tempat wisata alam apa yang wajib kunjung di n...  wisata_alam   \n",
       "3  ada apa saja di namadaerah yang cocok untuk ci...  wisata_alam   \n",
       "4    wisata alam apa yang paling kenal di namadaerah  wisata_alam   \n",
       "\n",
       "                                              answer  \n",
       "0  di namadaerah kamu bisa nemuin banyak tempat w...  \n",
       "1  kalau kamu lagi di namadaerah dan pengen menik...  \n",
       "2  beberapa destinasi wisata alam yang wajib kamu...  \n",
       "3  buat pecinta alam namadaerah punya banyak spot...  \n",
       "4  rekomendasi1 dan rekomendasi2 adalah wisata al...  "
      ]
     },
     "execution_count": 14,
     "metadata": {},
     "output_type": "execute_result"
    }
   ],
   "source": [
    "chatbot_cleaned_df['question'] = chatbot_cleaned_df['question'].apply(stemmingText)\n",
    "# chatbot_cleaned_df['answer'] = chatbot_cleaned_df['answer'].apply(stemmingText)\n",
    "chatbot_cleaned_df.head()"
   ]
  },
  {
   "cell_type": "code",
   "execution_count": 15,
   "metadata": {
    "colab": {
     "base_uri": "https://localhost:8080/",
     "height": 206
    },
    "id": "csZNVK99BPxL",
    "outputId": "04990369-c6ca-4567-ab32-f33c81fae9c9"
   },
   "outputs": [],
   "source": [
    "def restore_placeholders(text):\n",
    "    text = text.replace('namadaerah', '[nama_daerah]')\n",
    "    for i in range(1, 5):\n",
    "        text = text.replace(f'rek{i}', f'[rekomendasi_{i}]')\n",
    "    return text\n",
    "\n",
    "# chatbot_cleaned_df['question'] = chatbot_cleaned_df['question'].apply(restore_placeholders)\n",
    "# chatbot_cleaned_df['answer'] = chatbot_cleaned_df['answer'].apply(restore_placeholders)\n",
    "# chatbot_cleaned_df.head()"
   ]
  },
  {
   "cell_type": "markdown",
   "metadata": {
    "id": "fP3BY9zF0TSY"
   },
   "source": [
    "### Encode Label Intent"
   ]
  },
  {
   "cell_type": "code",
   "execution_count": 16,
   "metadata": {
    "colab": {
     "base_uri": "https://localhost:8080/"
    },
    "id": "MaqbyHN30ScH",
    "outputId": "ef5b0da9-d2d3-4f98-9a1e-52e49b955245"
   },
   "outputs": [
    {
     "name": "stdout",
     "output_type": "stream",
     "text": [
      "aktivitas → 0\n",
      "budget → 1\n",
      "cuaca → 2\n",
      "detail_wisata → 3\n",
      "kuliner → 4\n",
      "lokasi_wisata → 5\n",
      "penginapan → 6\n",
      "transportasi → 7\n",
      "uncategorized → 8\n",
      "wisata_alam → 9\n",
      "wisata_bahari → 10\n",
      "wisata_budaya → 11\n",
      "wisata_edukasi → 12\n",
      "wisata_rekreasi → 13\n",
      "wisata_sejarah → 14\n"
     ]
    }
   ],
   "source": [
    "label_encoder = LabelEncoder()\n",
    "chatbot_cleaned_df['label'] = label_encoder.fit_transform(chatbot_cleaned_df['intent'])\n",
    "\n",
    "# Simpan untuk nanti decoding hasil prediksi\n",
    "label_mapping = dict(zip(label_encoder.classes_, label_encoder.transform(label_encoder.classes_)))\n",
    "for label, encoded in label_mapping.items():\n",
    "    print(f\"{label} → {encoded}\")"
   ]
  },
  {
   "cell_type": "code",
   "execution_count": 17,
   "metadata": {
    "colab": {
     "base_uri": "https://localhost:8080/",
     "height": 206
    },
    "id": "3mLOdR3c6GEp",
    "outputId": "08e72da8-56aa-4f43-d604-cb94ceeb035d"
   },
   "outputs": [
    {
     "data": {
      "text/html": [
       "<div>\n",
       "<style scoped>\n",
       "    .dataframe tbody tr th:only-of-type {\n",
       "        vertical-align: middle;\n",
       "    }\n",
       "\n",
       "    .dataframe tbody tr th {\n",
       "        vertical-align: top;\n",
       "    }\n",
       "\n",
       "    .dataframe thead th {\n",
       "        text-align: right;\n",
       "    }\n",
       "</style>\n",
       "<table border=\"1\" class=\"dataframe\">\n",
       "  <thead>\n",
       "    <tr style=\"text-align: right;\">\n",
       "      <th></th>\n",
       "      <th>question</th>\n",
       "      <th>intent</th>\n",
       "      <th>answer</th>\n",
       "      <th>label</th>\n",
       "    </tr>\n",
       "  </thead>\n",
       "  <tbody>\n",
       "    <tr>\n",
       "      <th>0</th>\n",
       "      <td>apa tempat wisata alam baik di namadaerah</td>\n",
       "      <td>wisata_alam</td>\n",
       "      <td>di namadaerah kamu bisa nemuin banyak tempat w...</td>\n",
       "      <td>9</td>\n",
       "    </tr>\n",
       "    <tr>\n",
       "      <th>1</th>\n",
       "      <td>di namadaerah di mana saya bisa nikmat alam</td>\n",
       "      <td>wisata_alam</td>\n",
       "      <td>kalau kamu lagi di namadaerah dan pengen menik...</td>\n",
       "      <td>9</td>\n",
       "    </tr>\n",
       "    <tr>\n",
       "      <th>2</th>\n",
       "      <td>tempat wisata alam apa yang wajib kunjung di n...</td>\n",
       "      <td>wisata_alam</td>\n",
       "      <td>beberapa destinasi wisata alam yang wajib kamu...</td>\n",
       "      <td>9</td>\n",
       "    </tr>\n",
       "    <tr>\n",
       "      <th>3</th>\n",
       "      <td>ada apa saja di namadaerah yang cocok untuk ci...</td>\n",
       "      <td>wisata_alam</td>\n",
       "      <td>buat pecinta alam namadaerah punya banyak spot...</td>\n",
       "      <td>9</td>\n",
       "    </tr>\n",
       "    <tr>\n",
       "      <th>4</th>\n",
       "      <td>wisata alam apa yang paling kenal di namadaerah</td>\n",
       "      <td>wisata_alam</td>\n",
       "      <td>rekomendasi1 dan rekomendasi2 adalah wisata al...</td>\n",
       "      <td>9</td>\n",
       "    </tr>\n",
       "  </tbody>\n",
       "</table>\n",
       "</div>"
      ],
      "text/plain": [
       "                                            question       intent  \\\n",
       "0          apa tempat wisata alam baik di namadaerah  wisata_alam   \n",
       "1        di namadaerah di mana saya bisa nikmat alam  wisata_alam   \n",
       "2  tempat wisata alam apa yang wajib kunjung di n...  wisata_alam   \n",
       "3  ada apa saja di namadaerah yang cocok untuk ci...  wisata_alam   \n",
       "4    wisata alam apa yang paling kenal di namadaerah  wisata_alam   \n",
       "\n",
       "                                              answer  label  \n",
       "0  di namadaerah kamu bisa nemuin banyak tempat w...      9  \n",
       "1  kalau kamu lagi di namadaerah dan pengen menik...      9  \n",
       "2  beberapa destinasi wisata alam yang wajib kamu...      9  \n",
       "3  buat pecinta alam namadaerah punya banyak spot...      9  \n",
       "4  rekomendasi1 dan rekomendasi2 adalah wisata al...      9  "
      ]
     },
     "execution_count": 17,
     "metadata": {},
     "output_type": "execute_result"
    }
   ],
   "source": [
    "chatbot_cleaned_df.head()"
   ]
  },
  {
   "cell_type": "markdown",
   "metadata": {},
   "source": [
    "### Filtering Text"
   ]
  },
  {
   "cell_type": "code",
   "execution_count": 18,
   "metadata": {},
   "outputs": [
    {
     "data": {
      "text/html": [
       "<div>\n",
       "<style scoped>\n",
       "    .dataframe tbody tr th:only-of-type {\n",
       "        vertical-align: middle;\n",
       "    }\n",
       "\n",
       "    .dataframe tbody tr th {\n",
       "        vertical-align: top;\n",
       "    }\n",
       "\n",
       "    .dataframe thead th {\n",
       "        text-align: right;\n",
       "    }\n",
       "</style>\n",
       "<table border=\"1\" class=\"dataframe\">\n",
       "  <thead>\n",
       "    <tr style=\"text-align: right;\">\n",
       "      <th></th>\n",
       "      <th>question</th>\n",
       "      <th>intent</th>\n",
       "      <th>answer</th>\n",
       "      <th>label</th>\n",
       "      <th>question_filtered</th>\n",
       "    </tr>\n",
       "  </thead>\n",
       "  <tbody>\n",
       "    <tr>\n",
       "      <th>0</th>\n",
       "      <td>apa tempat wisata alam baik di namadaerah</td>\n",
       "      <td>wisata_alam</td>\n",
       "      <td>di namadaerah kamu bisa nemuin banyak tempat w...</td>\n",
       "      <td>9</td>\n",
       "      <td>[wisata, alam, namadaerah]</td>\n",
       "    </tr>\n",
       "    <tr>\n",
       "      <th>1</th>\n",
       "      <td>di namadaerah di mana saya bisa nikmat alam</td>\n",
       "      <td>wisata_alam</td>\n",
       "      <td>kalau kamu lagi di namadaerah dan pengen menik...</td>\n",
       "      <td>9</td>\n",
       "      <td>[namadaerah, nikmat, alam]</td>\n",
       "    </tr>\n",
       "    <tr>\n",
       "      <th>2</th>\n",
       "      <td>tempat wisata alam apa yang wajib kunjung di n...</td>\n",
       "      <td>wisata_alam</td>\n",
       "      <td>beberapa destinasi wisata alam yang wajib kamu...</td>\n",
       "      <td>9</td>\n",
       "      <td>[wisata, alam, wajib, kunjung, namadaerah]</td>\n",
       "    </tr>\n",
       "    <tr>\n",
       "      <th>3</th>\n",
       "      <td>ada apa saja di namadaerah yang cocok untuk ci...</td>\n",
       "      <td>wisata_alam</td>\n",
       "      <td>buat pecinta alam namadaerah punya banyak spot...</td>\n",
       "      <td>9</td>\n",
       "      <td>[namadaerah, cocok, cinta, alam]</td>\n",
       "    </tr>\n",
       "    <tr>\n",
       "      <th>4</th>\n",
       "      <td>wisata alam apa yang paling kenal di namadaerah</td>\n",
       "      <td>wisata_alam</td>\n",
       "      <td>rekomendasi1 dan rekomendasi2 adalah wisata al...</td>\n",
       "      <td>9</td>\n",
       "      <td>[wisata, alam, kenal, namadaerah]</td>\n",
       "    </tr>\n",
       "  </tbody>\n",
       "</table>\n",
       "</div>"
      ],
      "text/plain": [
       "                                            question       intent  \\\n",
       "0          apa tempat wisata alam baik di namadaerah  wisata_alam   \n",
       "1        di namadaerah di mana saya bisa nikmat alam  wisata_alam   \n",
       "2  tempat wisata alam apa yang wajib kunjung di n...  wisata_alam   \n",
       "3  ada apa saja di namadaerah yang cocok untuk ci...  wisata_alam   \n",
       "4    wisata alam apa yang paling kenal di namadaerah  wisata_alam   \n",
       "\n",
       "                                              answer  label  \\\n",
       "0  di namadaerah kamu bisa nemuin banyak tempat w...      9   \n",
       "1  kalau kamu lagi di namadaerah dan pengen menik...      9   \n",
       "2  beberapa destinasi wisata alam yang wajib kamu...      9   \n",
       "3  buat pecinta alam namadaerah punya banyak spot...      9   \n",
       "4  rekomendasi1 dan rekomendasi2 adalah wisata al...      9   \n",
       "\n",
       "                            question_filtered  \n",
       "0                  [wisata, alam, namadaerah]  \n",
       "1                  [namadaerah, nikmat, alam]  \n",
       "2  [wisata, alam, wajib, kunjung, namadaerah]  \n",
       "3            [namadaerah, cocok, cinta, alam]  \n",
       "4           [wisata, alam, kenal, namadaerah]  "
      ]
     },
     "execution_count": 18,
     "metadata": {},
     "output_type": "execute_result"
    }
   ],
   "source": [
    "chatbot_cleaned_df['question_filtered'] = chatbot_cleaned_df['question'].apply(tokenizingText)\n",
    "chatbot_cleaned_df['question_filtered'] = chatbot_cleaned_df['question_filtered'].apply(filteringText)\n",
    "# chatbot_cleaned_df['answer'] = chatbot_cleaned_df['answer'].apply(filteringText)\n",
    "chatbot_cleaned_df.head()"
   ]
  },
  {
   "cell_type": "markdown",
   "metadata": {},
   "source": [
    "### To Sentence"
   ]
  },
  {
   "cell_type": "code",
   "execution_count": 19,
   "metadata": {},
   "outputs": [
    {
     "data": {
      "text/html": [
       "<div>\n",
       "<style scoped>\n",
       "    .dataframe tbody tr th:only-of-type {\n",
       "        vertical-align: middle;\n",
       "    }\n",
       "\n",
       "    .dataframe tbody tr th {\n",
       "        vertical-align: top;\n",
       "    }\n",
       "\n",
       "    .dataframe thead th {\n",
       "        text-align: right;\n",
       "    }\n",
       "</style>\n",
       "<table border=\"1\" class=\"dataframe\">\n",
       "  <thead>\n",
       "    <tr style=\"text-align: right;\">\n",
       "      <th></th>\n",
       "      <th>question</th>\n",
       "      <th>intent</th>\n",
       "      <th>answer</th>\n",
       "      <th>label</th>\n",
       "      <th>question_filtered</th>\n",
       "    </tr>\n",
       "  </thead>\n",
       "  <tbody>\n",
       "    <tr>\n",
       "      <th>0</th>\n",
       "      <td>wisata alam namadaerah</td>\n",
       "      <td>wisata_alam</td>\n",
       "      <td>di namadaerah kamu bisa nemuin banyak tempat w...</td>\n",
       "      <td>9</td>\n",
       "      <td>[wisata, alam, namadaerah]</td>\n",
       "    </tr>\n",
       "    <tr>\n",
       "      <th>1</th>\n",
       "      <td>namadaerah nikmat alam</td>\n",
       "      <td>wisata_alam</td>\n",
       "      <td>kalau kamu lagi di namadaerah dan pengen menik...</td>\n",
       "      <td>9</td>\n",
       "      <td>[namadaerah, nikmat, alam]</td>\n",
       "    </tr>\n",
       "    <tr>\n",
       "      <th>2</th>\n",
       "      <td>wisata alam wajib kunjung namadaerah</td>\n",
       "      <td>wisata_alam</td>\n",
       "      <td>beberapa destinasi wisata alam yang wajib kamu...</td>\n",
       "      <td>9</td>\n",
       "      <td>[wisata, alam, wajib, kunjung, namadaerah]</td>\n",
       "    </tr>\n",
       "    <tr>\n",
       "      <th>3</th>\n",
       "      <td>namadaerah cocok cinta alam</td>\n",
       "      <td>wisata_alam</td>\n",
       "      <td>buat pecinta alam namadaerah punya banyak spot...</td>\n",
       "      <td>9</td>\n",
       "      <td>[namadaerah, cocok, cinta, alam]</td>\n",
       "    </tr>\n",
       "    <tr>\n",
       "      <th>4</th>\n",
       "      <td>wisata alam kenal namadaerah</td>\n",
       "      <td>wisata_alam</td>\n",
       "      <td>rekomendasi1 dan rekomendasi2 adalah wisata al...</td>\n",
       "      <td>9</td>\n",
       "      <td>[wisata, alam, kenal, namadaerah]</td>\n",
       "    </tr>\n",
       "  </tbody>\n",
       "</table>\n",
       "</div>"
      ],
      "text/plain": [
       "                               question       intent  \\\n",
       "0                wisata alam namadaerah  wisata_alam   \n",
       "1                namadaerah nikmat alam  wisata_alam   \n",
       "2  wisata alam wajib kunjung namadaerah  wisata_alam   \n",
       "3           namadaerah cocok cinta alam  wisata_alam   \n",
       "4          wisata alam kenal namadaerah  wisata_alam   \n",
       "\n",
       "                                              answer  label  \\\n",
       "0  di namadaerah kamu bisa nemuin banyak tempat w...      9   \n",
       "1  kalau kamu lagi di namadaerah dan pengen menik...      9   \n",
       "2  beberapa destinasi wisata alam yang wajib kamu...      9   \n",
       "3  buat pecinta alam namadaerah punya banyak spot...      9   \n",
       "4  rekomendasi1 dan rekomendasi2 adalah wisata al...      9   \n",
       "\n",
       "                            question_filtered  \n",
       "0                  [wisata, alam, namadaerah]  \n",
       "1                  [namadaerah, nikmat, alam]  \n",
       "2  [wisata, alam, wajib, kunjung, namadaerah]  \n",
       "3            [namadaerah, cocok, cinta, alam]  \n",
       "4           [wisata, alam, kenal, namadaerah]  "
      ]
     },
     "execution_count": 19,
     "metadata": {},
     "output_type": "execute_result"
    }
   ],
   "source": [
    "chatbot_cleaned_df['question'] = chatbot_cleaned_df['question_filtered'].apply(toSentence)\n",
    "chatbot_cleaned_df.head()"
   ]
  },
  {
   "cell_type": "markdown",
   "metadata": {
    "id": "vl9VYeQGxw_T"
   },
   "source": [
    "### Tokenizing Text"
   ]
  },
  {
   "cell_type": "code",
   "execution_count": 20,
   "metadata": {
    "colab": {
     "base_uri": "https://localhost:8080/",
     "height": 535,
     "referenced_widgets": [
      "91dd6832e9b14a75bfb2327b742d0bca",
      "4595a53fabc5462b8bd5b863954de91d",
      "e7a590922dfc4e868266d8da51ed500f",
      "0d34f48732bb454082652c76262e7ddf",
      "4533c99bc7164ca4aedc02b7bca8e5d3",
      "2d81cffe5a4c46a69170df3a418a2072",
      "029c92824cf84b798127417cee4980e2",
      "272261cba33e4c61ac3e29690e48ceae",
      "ff6bfa2689434af78688844f5e5ac530",
      "03c5cd24371f4fa9bf5f277cb67cd169",
      "2c5ee7506432470baf2355eb2bffe8a4"
     ]
    },
    "id": "uXH0VxmJxzv_",
    "outputId": "5108682c-088c-437d-aa81-320016986292"
   },
   "outputs": [
    {
     "name": "stderr",
     "output_type": "stream",
     "text": [
      "Map:   0%|          | 0/723 [00:00<?, ? examples/s]Asking to truncate to max_length but no maximum length is provided and the model has no predefined maximum length. Default to no truncation.\n",
      "Map: 100%|██████████| 723/723 [00:00<00:00, 6449.67 examples/s]\n"
     ]
    },
    {
     "data": {
      "text/plain": [
       "{'question': 'wisata alam namadaerah',\n",
       " 'intent': 'wisata_alam',\n",
       " 'answer': 'di namadaerah kamu bisa nemuin banyak tempat wisata alam keren kayak rekomendasi1 rekomendasi2 dan rekomendasi3 semuanya punya daya tarik alam yang bikin betah',\n",
       " 'label': 9,\n",
       " 'question_filtered': ['wisata', 'alam', 'namadaerah'],\n",
       " 'input_ids': [2, 1223, 668, 712, 10224, 3, 0, 0, 0, 0, 0, 0, 0, 0],\n",
       " 'token_type_ids': [0, 0, 0, 0, 0, 0, 0, 0, 0, 0, 0, 0, 0, 0],\n",
       " 'attention_mask': [1, 1, 1, 1, 1, 1, 0, 0, 0, 0, 0, 0, 0, 0],\n",
       " 'labels': 9}"
      ]
     },
     "execution_count": 20,
     "metadata": {},
     "output_type": "execute_result"
    }
   ],
   "source": [
    "# chatbot_cleaned_df['question'] = chatbot_cleaned_df['question'].apply(tokenizingText)\n",
    "# chatbot_cleaned_df['answer'] = chatbot_cleaned_df['answer'].apply(tokenizingText)\n",
    "\n",
    "dataset = Dataset.from_pandas(chatbot_cleaned_df)\n",
    "tokenized_dataset = dataset.map(tokenize, batched=True)\n",
    "\n",
    "tokenized_dataset[0]"
   ]
  },
  {
   "cell_type": "markdown",
   "metadata": {
    "id": "w0yJM-Zg16nr"
   },
   "source": [
    "## Modeling"
   ]
  },
  {
   "cell_type": "markdown",
   "metadata": {
    "id": "m99LPRX82Ovh"
   },
   "source": [
    "### Split Dataset"
   ]
  },
  {
   "cell_type": "code",
   "execution_count": 21,
   "metadata": {
    "id": "l5w1nm362DZg"
   },
   "outputs": [],
   "source": [
    "split_dataset = tokenized_dataset.train_test_split(test_size=0.2, seed=42)"
   ]
  },
  {
   "cell_type": "markdown",
   "metadata": {
    "id": "V4tpD39h2RFv"
   },
   "source": [
    "### Load Pretrained Model"
   ]
  },
  {
   "cell_type": "code",
   "execution_count": 22,
   "metadata": {
    "colab": {
     "base_uri": "https://localhost:8080/"
    },
    "id": "YqZ60_mn2VBZ",
    "outputId": "372ef815-c677-4109-ea24-73c7f4f9828e"
   },
   "outputs": [
    {
     "name": "stderr",
     "output_type": "stream",
     "text": [
      "Some weights of BertForSequenceClassification were not initialized from the model checkpoint at indobenchmark/indobert-base-p1 and are newly initialized: ['classifier.bias', 'classifier.weight']\n",
      "You should probably TRAIN this model on a down-stream task to be able to use it for predictions and inference.\n"
     ]
    }
   ],
   "source": [
    "num_labels = len(chatbot_cleaned_df['label'].unique())\n",
    "\n",
    "model = AutoModelForSequenceClassification.from_pretrained(\n",
    "    \"indobenchmark/indobert-base-p1\",\n",
    "    num_labels=num_labels\n",
    ")"
   ]
  },
  {
   "cell_type": "markdown",
   "metadata": {
    "id": "FtCil-Hp2t1f"
   },
   "source": [
    "### Training Argument"
   ]
  },
  {
   "cell_type": "code",
   "execution_count": 23,
   "metadata": {
    "colab": {
     "base_uri": "https://localhost:8080/"
    },
    "id": "hilFNvSd2wUv",
    "outputId": "01714bf9-2307-45a0-8f07-a2184ac067c0"
   },
   "outputs": [
    {
     "name": "stderr",
     "output_type": "stream",
     "text": [
      "c:\\Users\\ASUS\\Desktop\\arkanesia-dataset\\arkanesia_env\\Lib\\site-packages\\transformers\\training_args.py:1611: FutureWarning: `evaluation_strategy` is deprecated and will be removed in version 4.46 of 🤗 Transformers. Use `eval_strategy` instead\n",
      "  warnings.warn(\n",
      "Using the `WANDB_DISABLED` environment variable is deprecated and will be removed in v5. Use the --report_to flag to control the integrations used for logging result (for instance --report_to none).\n"
     ]
    }
   ],
   "source": [
    "training_args = TrainingArguments(\n",
    "    output_dir=\"../models/results\",\n",
    "    evaluation_strategy=\"epoch\",\n",
    "    learning_rate=2e-5,\n",
    "    per_device_train_batch_size=8,\n",
    "    per_device_eval_batch_size=8,\n",
    "    num_train_epochs=4,\n",
    "    weight_decay=0.01\n",
    ")"
   ]
  },
  {
   "cell_type": "markdown",
   "metadata": {
    "id": "HbYf13zO27s1"
   },
   "source": [
    "### Training Setup"
   ]
  },
  {
   "cell_type": "code",
   "execution_count": 24,
   "metadata": {
    "colab": {
     "base_uri": "https://localhost:8080/"
    },
    "id": "ulJUeLzp29hp",
    "outputId": "1a4ad78c-f921-4e23-96e4-7d4cdc5e0a23"
   },
   "outputs": [
    {
     "name": "stderr",
     "output_type": "stream",
     "text": [
      "C:\\Users\\ASUS\\AppData\\Local\\Temp\\ipykernel_1164\\3151952263.py:5: FutureWarning: `tokenizer` is deprecated and will be removed in version 5.0.0 for `Trainer.__init__`. Use `processing_class` instead.\n",
      "  trainer = Trainer(\n"
     ]
    }
   ],
   "source": [
    "def compute_metrics(p):\n",
    "    preds = p.predictions.argmax(axis=1)\n",
    "    return {\"accuracy\": accuracy_score(p.label_ids, preds)}\n",
    "\n",
    "trainer = Trainer(\n",
    "    model=model,\n",
    "    args=training_args,\n",
    "    train_dataset=split_dataset['train'],\n",
    "    eval_dataset=split_dataset['test'],\n",
    "    tokenizer=tokenizer,\n",
    "    compute_metrics=compute_metrics\n",
    ")"
   ]
  },
  {
   "cell_type": "markdown",
   "metadata": {
    "id": "_Y7SsFDF3LwG"
   },
   "source": [
    "### Train The Model"
   ]
  },
  {
   "cell_type": "code",
   "execution_count": 25,
   "metadata": {
    "colab": {
     "base_uri": "https://localhost:8080/",
     "height": 428
    },
    "id": "1wss8dZp3Oak",
    "outputId": "ebbce6e9-892b-44c9-cd0d-bb9fefbc4908"
   },
   "outputs": [
    {
     "data": {
      "text/html": [
       "\n",
       "    <div>\n",
       "      \n",
       "      <progress value='11' max='292' style='width:300px; height:20px; vertical-align: middle;'></progress>\n",
       "      [ 11/292 00:21 < 11:12, 0.42 it/s, Epoch 0.14/4]\n",
       "    </div>\n",
       "    <table border=\"1\" class=\"dataframe\">\n",
       "  <thead>\n",
       " <tr style=\"text-align: left;\">\n",
       "      <th>Epoch</th>\n",
       "      <th>Training Loss</th>\n",
       "      <th>Validation Loss</th>\n",
       "    </tr>\n",
       "  </thead>\n",
       "  <tbody>\n",
       "  </tbody>\n",
       "</table><p>"
      ],
      "text/plain": [
       "<IPython.core.display.HTML object>"
      ]
     },
     "metadata": {},
     "output_type": "display_data"
    },
    {
     "ename": "KeyboardInterrupt",
     "evalue": "",
     "output_type": "error",
     "traceback": [
      "\u001b[1;31m---------------------------------------------------------------------------\u001b[0m",
      "\u001b[1;31mKeyboardInterrupt\u001b[0m                         Traceback (most recent call last)",
      "Cell \u001b[1;32mIn[25], line 1\u001b[0m\n\u001b[1;32m----> 1\u001b[0m \u001b[43mtrainer\u001b[49m\u001b[38;5;241;43m.\u001b[39;49m\u001b[43mtrain\u001b[49m\u001b[43m(\u001b[49m\u001b[43m)\u001b[49m\n",
      "File \u001b[1;32mc:\\Users\\ASUS\\Desktop\\arkanesia-dataset\\arkanesia_env\\Lib\\site-packages\\transformers\\trainer.py:2245\u001b[0m, in \u001b[0;36mTrainer.train\u001b[1;34m(self, resume_from_checkpoint, trial, ignore_keys_for_eval, **kwargs)\u001b[0m\n\u001b[0;32m   2243\u001b[0m         hf_hub_utils\u001b[38;5;241m.\u001b[39menable_progress_bars()\n\u001b[0;32m   2244\u001b[0m \u001b[38;5;28;01melse\u001b[39;00m:\n\u001b[1;32m-> 2245\u001b[0m     \u001b[38;5;28;01mreturn\u001b[39;00m \u001b[43minner_training_loop\u001b[49m\u001b[43m(\u001b[49m\n\u001b[0;32m   2246\u001b[0m \u001b[43m        \u001b[49m\u001b[43margs\u001b[49m\u001b[38;5;241;43m=\u001b[39;49m\u001b[43margs\u001b[49m\u001b[43m,\u001b[49m\n\u001b[0;32m   2247\u001b[0m \u001b[43m        \u001b[49m\u001b[43mresume_from_checkpoint\u001b[49m\u001b[38;5;241;43m=\u001b[39;49m\u001b[43mresume_from_checkpoint\u001b[49m\u001b[43m,\u001b[49m\n\u001b[0;32m   2248\u001b[0m \u001b[43m        \u001b[49m\u001b[43mtrial\u001b[49m\u001b[38;5;241;43m=\u001b[39;49m\u001b[43mtrial\u001b[49m\u001b[43m,\u001b[49m\n\u001b[0;32m   2249\u001b[0m \u001b[43m        \u001b[49m\u001b[43mignore_keys_for_eval\u001b[49m\u001b[38;5;241;43m=\u001b[39;49m\u001b[43mignore_keys_for_eval\u001b[49m\u001b[43m,\u001b[49m\n\u001b[0;32m   2250\u001b[0m \u001b[43m    \u001b[49m\u001b[43m)\u001b[49m\n",
      "File \u001b[1;32mc:\\Users\\ASUS\\Desktop\\arkanesia-dataset\\arkanesia_env\\Lib\\site-packages\\transformers\\trainer.py:2556\u001b[0m, in \u001b[0;36mTrainer._inner_training_loop\u001b[1;34m(self, batch_size, args, resume_from_checkpoint, trial, ignore_keys_for_eval)\u001b[0m\n\u001b[0;32m   2549\u001b[0m context \u001b[38;5;241m=\u001b[39m (\n\u001b[0;32m   2550\u001b[0m     functools\u001b[38;5;241m.\u001b[39mpartial(\u001b[38;5;28mself\u001b[39m\u001b[38;5;241m.\u001b[39maccelerator\u001b[38;5;241m.\u001b[39mno_sync, model\u001b[38;5;241m=\u001b[39mmodel)\n\u001b[0;32m   2551\u001b[0m     \u001b[38;5;28;01mif\u001b[39;00m i \u001b[38;5;241m!=\u001b[39m \u001b[38;5;28mlen\u001b[39m(batch_samples) \u001b[38;5;241m-\u001b[39m \u001b[38;5;241m1\u001b[39m\n\u001b[0;32m   2552\u001b[0m     \u001b[38;5;129;01mand\u001b[39;00m \u001b[38;5;28mself\u001b[39m\u001b[38;5;241m.\u001b[39maccelerator\u001b[38;5;241m.\u001b[39mdistributed_type \u001b[38;5;241m!=\u001b[39m DistributedType\u001b[38;5;241m.\u001b[39mDEEPSPEED\n\u001b[0;32m   2553\u001b[0m     \u001b[38;5;28;01melse\u001b[39;00m contextlib\u001b[38;5;241m.\u001b[39mnullcontext\n\u001b[0;32m   2554\u001b[0m )\n\u001b[0;32m   2555\u001b[0m \u001b[38;5;28;01mwith\u001b[39;00m context():\n\u001b[1;32m-> 2556\u001b[0m     tr_loss_step \u001b[38;5;241m=\u001b[39m \u001b[38;5;28;43mself\u001b[39;49m\u001b[38;5;241;43m.\u001b[39;49m\u001b[43mtraining_step\u001b[49m\u001b[43m(\u001b[49m\u001b[43mmodel\u001b[49m\u001b[43m,\u001b[49m\u001b[43m \u001b[49m\u001b[43minputs\u001b[49m\u001b[43m,\u001b[49m\u001b[43m \u001b[49m\u001b[43mnum_items_in_batch\u001b[49m\u001b[43m)\u001b[49m\n\u001b[0;32m   2558\u001b[0m \u001b[38;5;28;01mif\u001b[39;00m (\n\u001b[0;32m   2559\u001b[0m     args\u001b[38;5;241m.\u001b[39mlogging_nan_inf_filter\n\u001b[0;32m   2560\u001b[0m     \u001b[38;5;129;01mand\u001b[39;00m \u001b[38;5;129;01mnot\u001b[39;00m is_torch_xla_available()\n\u001b[0;32m   2561\u001b[0m     \u001b[38;5;129;01mand\u001b[39;00m (torch\u001b[38;5;241m.\u001b[39misnan(tr_loss_step) \u001b[38;5;129;01mor\u001b[39;00m torch\u001b[38;5;241m.\u001b[39misinf(tr_loss_step))\n\u001b[0;32m   2562\u001b[0m ):\n\u001b[0;32m   2563\u001b[0m     \u001b[38;5;66;03m# if loss is nan or inf simply add the average of previous logged losses\u001b[39;00m\n\u001b[0;32m   2564\u001b[0m     tr_loss \u001b[38;5;241m=\u001b[39m tr_loss \u001b[38;5;241m+\u001b[39m tr_loss \u001b[38;5;241m/\u001b[39m (\u001b[38;5;241m1\u001b[39m \u001b[38;5;241m+\u001b[39m \u001b[38;5;28mself\u001b[39m\u001b[38;5;241m.\u001b[39mstate\u001b[38;5;241m.\u001b[39mglobal_step \u001b[38;5;241m-\u001b[39m \u001b[38;5;28mself\u001b[39m\u001b[38;5;241m.\u001b[39m_globalstep_last_logged)\n",
      "File \u001b[1;32mc:\\Users\\ASUS\\Desktop\\arkanesia-dataset\\arkanesia_env\\Lib\\site-packages\\transformers\\trainer.py:3764\u001b[0m, in \u001b[0;36mTrainer.training_step\u001b[1;34m(***failed resolving arguments***)\u001b[0m\n\u001b[0;32m   3761\u001b[0m \u001b[38;5;28;01mif\u001b[39;00m \u001b[38;5;28mself\u001b[39m\u001b[38;5;241m.\u001b[39maccelerator\u001b[38;5;241m.\u001b[39mdistributed_type \u001b[38;5;241m==\u001b[39m DistributedType\u001b[38;5;241m.\u001b[39mDEEPSPEED:\n\u001b[0;32m   3762\u001b[0m     kwargs[\u001b[38;5;124m\"\u001b[39m\u001b[38;5;124mscale_wrt_gas\u001b[39m\u001b[38;5;124m\"\u001b[39m] \u001b[38;5;241m=\u001b[39m \u001b[38;5;28;01mFalse\u001b[39;00m\n\u001b[1;32m-> 3764\u001b[0m \u001b[38;5;28;43mself\u001b[39;49m\u001b[38;5;241;43m.\u001b[39;49m\u001b[43maccelerator\u001b[49m\u001b[38;5;241;43m.\u001b[39;49m\u001b[43mbackward\u001b[49m\u001b[43m(\u001b[49m\u001b[43mloss\u001b[49m\u001b[43m,\u001b[49m\u001b[43m \u001b[49m\u001b[38;5;241;43m*\u001b[39;49m\u001b[38;5;241;43m*\u001b[39;49m\u001b[43mkwargs\u001b[49m\u001b[43m)\u001b[49m\n\u001b[0;32m   3766\u001b[0m \u001b[38;5;28;01mreturn\u001b[39;00m loss\u001b[38;5;241m.\u001b[39mdetach()\n",
      "File \u001b[1;32mc:\\Users\\ASUS\\Desktop\\arkanesia-dataset\\arkanesia_env\\Lib\\site-packages\\accelerate\\accelerator.py:2454\u001b[0m, in \u001b[0;36mAccelerator.backward\u001b[1;34m(self, loss, **kwargs)\u001b[0m\n\u001b[0;32m   2452\u001b[0m     \u001b[38;5;28mself\u001b[39m\u001b[38;5;241m.\u001b[39mlomo_backward(loss, learning_rate)\n\u001b[0;32m   2453\u001b[0m \u001b[38;5;28;01melse\u001b[39;00m:\n\u001b[1;32m-> 2454\u001b[0m     \u001b[43mloss\u001b[49m\u001b[38;5;241;43m.\u001b[39;49m\u001b[43mbackward\u001b[49m\u001b[43m(\u001b[49m\u001b[38;5;241;43m*\u001b[39;49m\u001b[38;5;241;43m*\u001b[39;49m\u001b[43mkwargs\u001b[49m\u001b[43m)\u001b[49m\n",
      "File \u001b[1;32mc:\\Users\\ASUS\\Desktop\\arkanesia-dataset\\arkanesia_env\\Lib\\site-packages\\torch\\_tensor.py:626\u001b[0m, in \u001b[0;36mTensor.backward\u001b[1;34m(self, gradient, retain_graph, create_graph, inputs)\u001b[0m\n\u001b[0;32m    616\u001b[0m \u001b[38;5;28;01mif\u001b[39;00m has_torch_function_unary(\u001b[38;5;28mself\u001b[39m):\n\u001b[0;32m    617\u001b[0m     \u001b[38;5;28;01mreturn\u001b[39;00m handle_torch_function(\n\u001b[0;32m    618\u001b[0m         Tensor\u001b[38;5;241m.\u001b[39mbackward,\n\u001b[0;32m    619\u001b[0m         (\u001b[38;5;28mself\u001b[39m,),\n\u001b[1;32m   (...)\u001b[0m\n\u001b[0;32m    624\u001b[0m         inputs\u001b[38;5;241m=\u001b[39minputs,\n\u001b[0;32m    625\u001b[0m     )\n\u001b[1;32m--> 626\u001b[0m \u001b[43mtorch\u001b[49m\u001b[38;5;241;43m.\u001b[39;49m\u001b[43mautograd\u001b[49m\u001b[38;5;241;43m.\u001b[39;49m\u001b[43mbackward\u001b[49m\u001b[43m(\u001b[49m\n\u001b[0;32m    627\u001b[0m \u001b[43m    \u001b[49m\u001b[38;5;28;43mself\u001b[39;49m\u001b[43m,\u001b[49m\u001b[43m \u001b[49m\u001b[43mgradient\u001b[49m\u001b[43m,\u001b[49m\u001b[43m \u001b[49m\u001b[43mretain_graph\u001b[49m\u001b[43m,\u001b[49m\u001b[43m \u001b[49m\u001b[43mcreate_graph\u001b[49m\u001b[43m,\u001b[49m\u001b[43m \u001b[49m\u001b[43minputs\u001b[49m\u001b[38;5;241;43m=\u001b[39;49m\u001b[43minputs\u001b[49m\n\u001b[0;32m    628\u001b[0m \u001b[43m\u001b[49m\u001b[43m)\u001b[49m\n",
      "File \u001b[1;32mc:\\Users\\ASUS\\Desktop\\arkanesia-dataset\\arkanesia_env\\Lib\\site-packages\\torch\\autograd\\__init__.py:347\u001b[0m, in \u001b[0;36mbackward\u001b[1;34m(tensors, grad_tensors, retain_graph, create_graph, grad_variables, inputs)\u001b[0m\n\u001b[0;32m    342\u001b[0m     retain_graph \u001b[38;5;241m=\u001b[39m create_graph\n\u001b[0;32m    344\u001b[0m \u001b[38;5;66;03m# The reason we repeat the same comment below is that\u001b[39;00m\n\u001b[0;32m    345\u001b[0m \u001b[38;5;66;03m# some Python versions print out the first line of a multi-line function\u001b[39;00m\n\u001b[0;32m    346\u001b[0m \u001b[38;5;66;03m# calls in the traceback and some print out the last line\u001b[39;00m\n\u001b[1;32m--> 347\u001b[0m \u001b[43m_engine_run_backward\u001b[49m\u001b[43m(\u001b[49m\n\u001b[0;32m    348\u001b[0m \u001b[43m    \u001b[49m\u001b[43mtensors\u001b[49m\u001b[43m,\u001b[49m\n\u001b[0;32m    349\u001b[0m \u001b[43m    \u001b[49m\u001b[43mgrad_tensors_\u001b[49m\u001b[43m,\u001b[49m\n\u001b[0;32m    350\u001b[0m \u001b[43m    \u001b[49m\u001b[43mretain_graph\u001b[49m\u001b[43m,\u001b[49m\n\u001b[0;32m    351\u001b[0m \u001b[43m    \u001b[49m\u001b[43mcreate_graph\u001b[49m\u001b[43m,\u001b[49m\n\u001b[0;32m    352\u001b[0m \u001b[43m    \u001b[49m\u001b[43minputs\u001b[49m\u001b[43m,\u001b[49m\n\u001b[0;32m    353\u001b[0m \u001b[43m    \u001b[49m\u001b[43mallow_unreachable\u001b[49m\u001b[38;5;241;43m=\u001b[39;49m\u001b[38;5;28;43;01mTrue\u001b[39;49;00m\u001b[43m,\u001b[49m\n\u001b[0;32m    354\u001b[0m \u001b[43m    \u001b[49m\u001b[43maccumulate_grad\u001b[49m\u001b[38;5;241;43m=\u001b[39;49m\u001b[38;5;28;43;01mTrue\u001b[39;49;00m\u001b[43m,\u001b[49m\n\u001b[0;32m    355\u001b[0m \u001b[43m\u001b[49m\u001b[43m)\u001b[49m\n",
      "File \u001b[1;32mc:\\Users\\ASUS\\Desktop\\arkanesia-dataset\\arkanesia_env\\Lib\\site-packages\\torch\\autograd\\graph.py:823\u001b[0m, in \u001b[0;36m_engine_run_backward\u001b[1;34m(t_outputs, *args, **kwargs)\u001b[0m\n\u001b[0;32m    821\u001b[0m     unregister_hooks \u001b[38;5;241m=\u001b[39m _register_logging_hooks_on_whole_graph(t_outputs)\n\u001b[0;32m    822\u001b[0m \u001b[38;5;28;01mtry\u001b[39;00m:\n\u001b[1;32m--> 823\u001b[0m     \u001b[38;5;28;01mreturn\u001b[39;00m \u001b[43mVariable\u001b[49m\u001b[38;5;241;43m.\u001b[39;49m\u001b[43m_execution_engine\u001b[49m\u001b[38;5;241;43m.\u001b[39;49m\u001b[43mrun_backward\u001b[49m\u001b[43m(\u001b[49m\u001b[43m  \u001b[49m\u001b[38;5;66;43;03m# Calls into the C++ engine to run the backward pass\u001b[39;49;00m\n\u001b[0;32m    824\u001b[0m \u001b[43m        \u001b[49m\u001b[43mt_outputs\u001b[49m\u001b[43m,\u001b[49m\u001b[43m \u001b[49m\u001b[38;5;241;43m*\u001b[39;49m\u001b[43margs\u001b[49m\u001b[43m,\u001b[49m\u001b[43m \u001b[49m\u001b[38;5;241;43m*\u001b[39;49m\u001b[38;5;241;43m*\u001b[39;49m\u001b[43mkwargs\u001b[49m\n\u001b[0;32m    825\u001b[0m \u001b[43m    \u001b[49m\u001b[43m)\u001b[49m  \u001b[38;5;66;03m# Calls into the C++ engine to run the backward pass\u001b[39;00m\n\u001b[0;32m    826\u001b[0m \u001b[38;5;28;01mfinally\u001b[39;00m:\n\u001b[0;32m    827\u001b[0m     \u001b[38;5;28;01mif\u001b[39;00m attach_logging_hooks:\n",
      "\u001b[1;31mKeyboardInterrupt\u001b[0m: "
     ]
    }
   ],
   "source": [
    "trainer.train()"
   ]
  },
  {
   "cell_type": "code",
   "execution_count": null,
   "metadata": {},
   "outputs": [
    {
     "data": {
      "text/html": [
       "\n",
       "    <div>\n",
       "      \n",
       "      <progress value='19' max='19' style='width:300px; height:20px; vertical-align: middle;'></progress>\n",
       "      [19/19 00:05]\n",
       "    </div>\n",
       "    "
      ],
      "text/plain": [
       "<IPython.core.display.HTML object>"
      ]
     },
     "metadata": {},
     "output_type": "display_data"
    },
    {
     "name": "stdout",
     "output_type": "stream",
     "text": [
      "{'eval_loss': 0.5799984931945801, 'eval_accuracy': 0.8551724137931035, 'eval_runtime': 6.0788, 'eval_samples_per_second': 23.853, 'eval_steps_per_second': 3.126, 'epoch': 4.0}\n"
     ]
    }
   ],
   "source": [
    "eval_result = trainer.evaluate()\n",
    "print(eval_result)"
   ]
  },
  {
   "cell_type": "markdown",
   "metadata": {},
   "source": [
    "## Simpan Model"
   ]
  },
  {
   "cell_type": "code",
   "execution_count": 26,
   "metadata": {},
   "outputs": [],
   "source": [
    "trainer.save_model(\"../models/chatbot_bert_model\")"
   ]
  },
  {
   "cell_type": "markdown",
   "metadata": {},
   "source": [
    "# Model Rekomendasi Tempat Wisata"
   ]
  },
  {
   "cell_type": "markdown",
   "metadata": {},
   "source": [
    "## Load Dataset"
   ]
  },
  {
   "cell_type": "code",
   "execution_count": 3,
   "metadata": {},
   "outputs": [
    {
     "data": {
      "text/html": [
       "<div>\n",
       "<style scoped>\n",
       "    .dataframe tbody tr th:only-of-type {\n",
       "        vertical-align: middle;\n",
       "    }\n",
       "\n",
       "    .dataframe tbody tr th {\n",
       "        vertical-align: top;\n",
       "    }\n",
       "\n",
       "    .dataframe thead th {\n",
       "        text-align: right;\n",
       "    }\n",
       "</style>\n",
       "<table border=\"1\" class=\"dataframe\">\n",
       "  <thead>\n",
       "    <tr style=\"text-align: right;\">\n",
       "      <th></th>\n",
       "      <th>id</th>\n",
       "      <th>name</th>\n",
       "      <th>date</th>\n",
       "      <th>location</th>\n",
       "      <th>image</th>\n",
       "      <th>description</th>\n",
       "      <th>link</th>\n",
       "      <th>prices</th>\n",
       "      <th>district</th>\n",
       "      <th>province</th>\n",
       "      <th>latitude</th>\n",
       "      <th>longitude</th>\n",
       "      <th>createdAt</th>\n",
       "      <th>updatedAt</th>\n",
       "    </tr>\n",
       "  </thead>\n",
       "  <tbody>\n",
       "    <tr>\n",
       "      <th>0</th>\n",
       "      <td>1</td>\n",
       "      <td>Pantai Kuta</td>\n",
       "      <td>1936-01-01 00:00:00</td>\n",
       "      <td>Kuta, Badung</td>\n",
       "      <td>https://labirutour.com/wp-content/uploads/2020...</td>\n",
       "      <td>Pantai Kuta adalah salah satu destinasi wisata...</td>\n",
       "      <td>https://www.google.com/url?sa=i&amp;url=https%3A%2...</td>\n",
       "      <td>0.0</td>\n",
       "      <td>Kuta</td>\n",
       "      <td>Bali</td>\n",
       "      <td>-8.7177</td>\n",
       "      <td>115.1682</td>\n",
       "      <td>2025-04-14 11:12:31.346</td>\n",
       "      <td>2025-04-14 11:12:31.346</td>\n",
       "    </tr>\n",
       "    <tr>\n",
       "      <th>1</th>\n",
       "      <td>2</td>\n",
       "      <td>Pura Ulun Danu Beratan</td>\n",
       "      <td>1633-01-01 00:00:00</td>\n",
       "      <td>Bedugul, Tabanan</td>\n",
       "      <td>https://awsimages.detik.net.id/community/media...</td>\n",
       "      <td>Pura Ulun Danu Beratan adalah pura air yang te...</td>\n",
       "      <td>https://www.google.com/url?sa=i&amp;url=https%3A%2...</td>\n",
       "      <td>50000.0</td>\n",
       "      <td>Baturiti</td>\n",
       "      <td>Bali</td>\n",
       "      <td>-8.2750</td>\n",
       "      <td>115.1675</td>\n",
       "      <td>2025-04-14 11:12:31.355</td>\n",
       "      <td>2025-04-14 11:12:31.355</td>\n",
       "    </tr>\n",
       "    <tr>\n",
       "      <th>2</th>\n",
       "      <td>3</td>\n",
       "      <td>Tegallalang Rice Terrace</td>\n",
       "      <td>1800-01-01 00:00:00</td>\n",
       "      <td>Tegallalang, Gianyar</td>\n",
       "      <td>https://media.cntraveler.com/photos/5e35bdf00e...</td>\n",
       "      <td>Tegallalang Rice Terrace terkenal dengan peman...</td>\n",
       "      <td>https://www.google.com/url?sa=i&amp;url=https%3A%2...</td>\n",
       "      <td>25000.0</td>\n",
       "      <td>Tegallalang</td>\n",
       "      <td>Bali</td>\n",
       "      <td>-8.4366</td>\n",
       "      <td>115.2790</td>\n",
       "      <td>2025-04-14 11:12:31.360</td>\n",
       "      <td>2025-04-14 11:12:31.360</td>\n",
       "    </tr>\n",
       "    <tr>\n",
       "      <th>3</th>\n",
       "      <td>4</td>\n",
       "      <td>Gunung Batur</td>\n",
       "      <td>1804-01-01 00:00:00</td>\n",
       "      <td>Kintamani, Bangli</td>\n",
       "      <td>https://upload.wikimedia.org/wikipedia/commons...</td>\n",
       "      <td>Gunung Batur adalah gunung berapi aktif yang p...</td>\n",
       "      <td>https://www.google.com/url?sa=i&amp;url=https%3A%2...</td>\n",
       "      <td>30000.0</td>\n",
       "      <td>Kintamani</td>\n",
       "      <td>Bali</td>\n",
       "      <td>-8.2390</td>\n",
       "      <td>115.3750</td>\n",
       "      <td>2025-04-14 11:12:31.366</td>\n",
       "      <td>2025-04-14 11:12:31.366</td>\n",
       "    </tr>\n",
       "    <tr>\n",
       "      <th>4</th>\n",
       "      <td>5</td>\n",
       "      <td>Pantai Pandawa</td>\n",
       "      <td>2011-01-01 00:00:00</td>\n",
       "      <td>Kutuh, Badung</td>\n",
       "      <td>https://cozzy.id/uploads/0000/630/2024/09/04/c...</td>\n",
       "      <td>Pantai Pandawa dikenal dengan pasir putihnya y...</td>\n",
       "      <td>https://www.google.com/url?sa=i&amp;url=https%3A%2...</td>\n",
       "      <td>15000.0</td>\n",
       "      <td>Kutuh</td>\n",
       "      <td>Bali</td>\n",
       "      <td>-8.8486</td>\n",
       "      <td>115.1889</td>\n",
       "      <td>2025-04-14 11:12:31.371</td>\n",
       "      <td>2025-04-14 11:12:31.371</td>\n",
       "    </tr>\n",
       "  </tbody>\n",
       "</table>\n",
       "</div>"
      ],
      "text/plain": [
       "   id                      name                 date              location  \\\n",
       "0   1               Pantai Kuta  1936-01-01 00:00:00          Kuta, Badung   \n",
       "1   2    Pura Ulun Danu Beratan  1633-01-01 00:00:00      Bedugul, Tabanan   \n",
       "2   3  Tegallalang Rice Terrace  1800-01-01 00:00:00  Tegallalang, Gianyar   \n",
       "3   4              Gunung Batur  1804-01-01 00:00:00     Kintamani, Bangli   \n",
       "4   5            Pantai Pandawa  2011-01-01 00:00:00         Kutuh, Badung   \n",
       "\n",
       "                                               image  \\\n",
       "0  https://labirutour.com/wp-content/uploads/2020...   \n",
       "1  https://awsimages.detik.net.id/community/media...   \n",
       "2  https://media.cntraveler.com/photos/5e35bdf00e...   \n",
       "3  https://upload.wikimedia.org/wikipedia/commons...   \n",
       "4  https://cozzy.id/uploads/0000/630/2024/09/04/c...   \n",
       "\n",
       "                                         description  \\\n",
       "0  Pantai Kuta adalah salah satu destinasi wisata...   \n",
       "1  Pura Ulun Danu Beratan adalah pura air yang te...   \n",
       "2  Tegallalang Rice Terrace terkenal dengan peman...   \n",
       "3  Gunung Batur adalah gunung berapi aktif yang p...   \n",
       "4  Pantai Pandawa dikenal dengan pasir putihnya y...   \n",
       "\n",
       "                                                link   prices     district  \\\n",
       "0  https://www.google.com/url?sa=i&url=https%3A%2...      0.0         Kuta   \n",
       "1  https://www.google.com/url?sa=i&url=https%3A%2...  50000.0     Baturiti   \n",
       "2  https://www.google.com/url?sa=i&url=https%3A%2...  25000.0  Tegallalang   \n",
       "3  https://www.google.com/url?sa=i&url=https%3A%2...  30000.0    Kintamani   \n",
       "4  https://www.google.com/url?sa=i&url=https%3A%2...  15000.0        Kutuh   \n",
       "\n",
       "  province  latitude  longitude               createdAt  \\\n",
       "0     Bali   -8.7177   115.1682 2025-04-14 11:12:31.346   \n",
       "1     Bali   -8.2750   115.1675 2025-04-14 11:12:31.355   \n",
       "2     Bali   -8.4366   115.2790 2025-04-14 11:12:31.360   \n",
       "3     Bali   -8.2390   115.3750 2025-04-14 11:12:31.366   \n",
       "4     Bali   -8.8486   115.1889 2025-04-14 11:12:31.371   \n",
       "\n",
       "                updatedAt  \n",
       "0 2025-04-14 11:12:31.346  \n",
       "1 2025-04-14 11:12:31.355  \n",
       "2 2025-04-14 11:12:31.360  \n",
       "3 2025-04-14 11:12:31.366  \n",
       "4 2025-04-14 11:12:31.371  "
      ]
     },
     "execution_count": 3,
     "metadata": {},
     "output_type": "execute_result"
    }
   ],
   "source": [
    "# Koneksi ke MySQL\n",
    "engine = create_engine(os.getenv(\"DATABASE_URL\"))\n",
    "\n",
    "# Query SQL\n",
    "query = \"SELECT * FROM tour\"\n",
    "\n",
    "# Baca data ke DataFrame\n",
    "wisata_df = pd.read_sql(query, engine)\n",
    "\n",
    "wisata_df.head()"
   ]
  },
  {
   "cell_type": "markdown",
   "metadata": {},
   "source": [
    "## Explore Data"
   ]
  },
  {
   "cell_type": "code",
   "execution_count": 30,
   "metadata": {},
   "outputs": [
    {
     "data": {
      "text/plain": [
       "np.int64(0)"
      ]
     },
     "execution_count": 30,
     "metadata": {},
     "output_type": "execute_result"
    }
   ],
   "source": [
    "wisata_df.duplicated().sum()"
   ]
  },
  {
   "cell_type": "code",
   "execution_count": 31,
   "metadata": {},
   "outputs": [
    {
     "data": {
      "text/plain": [
       "id             0\n",
       "name           0\n",
       "date           0\n",
       "location       0\n",
       "image          0\n",
       "description    0\n",
       "link           1\n",
       "prices         0\n",
       "district       0\n",
       "province       0\n",
       "latitude       0\n",
       "longitude      0\n",
       "createdAt      0\n",
       "updatedAt      0\n",
       "dtype: int64"
      ]
     },
     "execution_count": 31,
     "metadata": {},
     "output_type": "execute_result"
    }
   ],
   "source": [
    "wisata_df.isnull().sum()"
   ]
  },
  {
   "cell_type": "code",
   "execution_count": 32,
   "metadata": {},
   "outputs": [
    {
     "data": {
      "text/html": [
       "<div>\n",
       "<style scoped>\n",
       "    .dataframe tbody tr th:only-of-type {\n",
       "        vertical-align: middle;\n",
       "    }\n",
       "\n",
       "    .dataframe tbody tr th {\n",
       "        vertical-align: top;\n",
       "    }\n",
       "\n",
       "    .dataframe thead th {\n",
       "        text-align: right;\n",
       "    }\n",
       "</style>\n",
       "<table border=\"1\" class=\"dataframe\">\n",
       "  <thead>\n",
       "    <tr style=\"text-align: right;\">\n",
       "      <th></th>\n",
       "      <th>id</th>\n",
       "      <th>prices</th>\n",
       "      <th>latitude</th>\n",
       "      <th>longitude</th>\n",
       "      <th>createdAt</th>\n",
       "      <th>updatedAt</th>\n",
       "    </tr>\n",
       "  </thead>\n",
       "  <tbody>\n",
       "    <tr>\n",
       "      <th>count</th>\n",
       "      <td>100.000000</td>\n",
       "      <td>100.000000</td>\n",
       "      <td>100.000000</td>\n",
       "      <td>100.000000</td>\n",
       "      <td>100</td>\n",
       "      <td>100</td>\n",
       "    </tr>\n",
       "    <tr>\n",
       "      <th>mean</th>\n",
       "      <td>50.500000</td>\n",
       "      <td>25160.000000</td>\n",
       "      <td>-3.726152</td>\n",
       "      <td>112.452892</td>\n",
       "      <td>2025-04-14 11:12:32.564790016</td>\n",
       "      <td>2025-04-14 11:12:32.564790016</td>\n",
       "    </tr>\n",
       "    <tr>\n",
       "      <th>min</th>\n",
       "      <td>1.000000</td>\n",
       "      <td>0.000000</td>\n",
       "      <td>-10.879400</td>\n",
       "      <td>95.317100</td>\n",
       "      <td>2025-04-14 11:12:31.346000</td>\n",
       "      <td>2025-04-14 11:12:31.346000</td>\n",
       "    </tr>\n",
       "    <tr>\n",
       "      <th>25%</th>\n",
       "      <td>25.750000</td>\n",
       "      <td>5000.000000</td>\n",
       "      <td>-7.712775</td>\n",
       "      <td>105.583175</td>\n",
       "      <td>2025-04-14 11:12:31.760499968</td>\n",
       "      <td>2025-04-14 11:12:31.760499968</td>\n",
       "    </tr>\n",
       "    <tr>\n",
       "      <th>50%</th>\n",
       "      <td>50.500000</td>\n",
       "      <td>15000.000000</td>\n",
       "      <td>-5.465600</td>\n",
       "      <td>110.390700</td>\n",
       "      <td>2025-04-14 11:12:32.408500224</td>\n",
       "      <td>2025-04-14 11:12:32.408500224</td>\n",
       "    </tr>\n",
       "    <tr>\n",
       "      <th>75%</th>\n",
       "      <td>75.250000</td>\n",
       "      <td>26250.000000</td>\n",
       "      <td>0.649775</td>\n",
       "      <td>118.747425</td>\n",
       "      <td>2025-04-14 11:12:33.154749952</td>\n",
       "      <td>2025-04-14 11:12:33.154749952</td>\n",
       "    </tr>\n",
       "    <tr>\n",
       "      <th>max</th>\n",
       "      <td>100.000000</td>\n",
       "      <td>150000.000000</td>\n",
       "      <td>5.840100</td>\n",
       "      <td>140.705600</td>\n",
       "      <td>2025-04-14 11:12:34.325000</td>\n",
       "      <td>2025-04-14 11:12:34.325000</td>\n",
       "    </tr>\n",
       "    <tr>\n",
       "      <th>std</th>\n",
       "      <td>29.011492</td>\n",
       "      <td>32759.830046</td>\n",
       "      <td>4.413499</td>\n",
       "      <td>10.479746</td>\n",
       "      <td>NaN</td>\n",
       "      <td>NaN</td>\n",
       "    </tr>\n",
       "  </tbody>\n",
       "</table>\n",
       "</div>"
      ],
      "text/plain": [
       "               id         prices    latitude   longitude  \\\n",
       "count  100.000000     100.000000  100.000000  100.000000   \n",
       "mean    50.500000   25160.000000   -3.726152  112.452892   \n",
       "min      1.000000       0.000000  -10.879400   95.317100   \n",
       "25%     25.750000    5000.000000   -7.712775  105.583175   \n",
       "50%     50.500000   15000.000000   -5.465600  110.390700   \n",
       "75%     75.250000   26250.000000    0.649775  118.747425   \n",
       "max    100.000000  150000.000000    5.840100  140.705600   \n",
       "std     29.011492   32759.830046    4.413499   10.479746   \n",
       "\n",
       "                           createdAt                      updatedAt  \n",
       "count                            100                            100  \n",
       "mean   2025-04-14 11:12:32.564790016  2025-04-14 11:12:32.564790016  \n",
       "min       2025-04-14 11:12:31.346000     2025-04-14 11:12:31.346000  \n",
       "25%    2025-04-14 11:12:31.760499968  2025-04-14 11:12:31.760499968  \n",
       "50%    2025-04-14 11:12:32.408500224  2025-04-14 11:12:32.408500224  \n",
       "75%    2025-04-14 11:12:33.154749952  2025-04-14 11:12:33.154749952  \n",
       "max       2025-04-14 11:12:34.325000     2025-04-14 11:12:34.325000  \n",
       "std                              NaN                            NaN  "
      ]
     },
     "execution_count": 32,
     "metadata": {},
     "output_type": "execute_result"
    }
   ],
   "source": [
    "wisata_df.describe()"
   ]
  },
  {
   "cell_type": "code",
   "execution_count": 33,
   "metadata": {},
   "outputs": [
    {
     "name": "stdout",
     "output_type": "stream",
     "text": [
      "<class 'pandas.core.frame.DataFrame'>\n",
      "RangeIndex: 100 entries, 0 to 99\n",
      "Data columns (total 14 columns):\n",
      " #   Column       Non-Null Count  Dtype         \n",
      "---  ------       --------------  -----         \n",
      " 0   id           100 non-null    int64         \n",
      " 1   name         100 non-null    object        \n",
      " 2   date         100 non-null    object        \n",
      " 3   location     100 non-null    object        \n",
      " 4   image        100 non-null    object        \n",
      " 5   description  100 non-null    object        \n",
      " 6   link         99 non-null     object        \n",
      " 7   prices       100 non-null    float64       \n",
      " 8   district     100 non-null    object        \n",
      " 9   province     100 non-null    object        \n",
      " 10  latitude     100 non-null    float64       \n",
      " 11  longitude    100 non-null    float64       \n",
      " 12  createdAt    100 non-null    datetime64[ns]\n",
      " 13  updatedAt    100 non-null    datetime64[ns]\n",
      "dtypes: datetime64[ns](2), float64(3), int64(1), object(8)\n",
      "memory usage: 11.1+ KB\n"
     ]
    }
   ],
   "source": [
    "wisata_df.info()"
   ]
  },
  {
   "cell_type": "markdown",
   "metadata": {},
   "source": [
    "## Preprocessing Data"
   ]
  },
  {
   "cell_type": "markdown",
   "metadata": {},
   "source": [
    "### Cleaning Data"
   ]
  },
  {
   "cell_type": "code",
   "execution_count": 10,
   "metadata": {},
   "outputs": [],
   "source": [
    "wisata_cleaned_df = pd.DataFrame(wisata_df)\n",
    "wisata_cleaned_df['name'] = wisata_cleaned_df['name'].apply(cleaningText)\n",
    "wisata_cleaned_df['location'] = wisata_cleaned_df['location'].apply(cleaningText)\n",
    "wisata_cleaned_df['description'] = wisata_cleaned_df['description'].apply(cleaningText)\n",
    "wisata_cleaned_df['district'] = wisata_cleaned_df['district'].apply(cleaningText)\n",
    "wisata_cleaned_df['province'] = wisata_cleaned_df['province'].apply(cleaningText)"
   ]
  },
  {
   "cell_type": "markdown",
   "metadata": {},
   "source": [
    "### Case Folding"
   ]
  },
  {
   "cell_type": "code",
   "execution_count": 11,
   "metadata": {},
   "outputs": [
    {
     "data": {
      "text/html": [
       "<div>\n",
       "<style scoped>\n",
       "    .dataframe tbody tr th:only-of-type {\n",
       "        vertical-align: middle;\n",
       "    }\n",
       "\n",
       "    .dataframe tbody tr th {\n",
       "        vertical-align: top;\n",
       "    }\n",
       "\n",
       "    .dataframe thead th {\n",
       "        text-align: right;\n",
       "    }\n",
       "</style>\n",
       "<table border=\"1\" class=\"dataframe\">\n",
       "  <thead>\n",
       "    <tr style=\"text-align: right;\">\n",
       "      <th></th>\n",
       "      <th>id</th>\n",
       "      <th>name</th>\n",
       "      <th>date</th>\n",
       "      <th>location</th>\n",
       "      <th>image</th>\n",
       "      <th>description</th>\n",
       "      <th>link</th>\n",
       "      <th>prices</th>\n",
       "      <th>district</th>\n",
       "      <th>province</th>\n",
       "      <th>latitude</th>\n",
       "      <th>longitude</th>\n",
       "      <th>createdAt</th>\n",
       "      <th>updatedAt</th>\n",
       "    </tr>\n",
       "  </thead>\n",
       "  <tbody>\n",
       "    <tr>\n",
       "      <th>0</th>\n",
       "      <td>1</td>\n",
       "      <td>pantai kuta</td>\n",
       "      <td>1936-01-01 00:00:00</td>\n",
       "      <td>kuta badung</td>\n",
       "      <td>https://labirutour.com/wp-content/uploads/2020...</td>\n",
       "      <td>pantai kuta adalah salah satu destinasi wisata...</td>\n",
       "      <td>https://www.google.com/url?sa=i&amp;url=https%3A%2...</td>\n",
       "      <td>0.0</td>\n",
       "      <td>kuta</td>\n",
       "      <td>bali</td>\n",
       "      <td>-8.7177</td>\n",
       "      <td>115.1682</td>\n",
       "      <td>2025-04-14 11:12:31.346</td>\n",
       "      <td>2025-04-14 11:12:31.346</td>\n",
       "    </tr>\n",
       "    <tr>\n",
       "      <th>1</th>\n",
       "      <td>2</td>\n",
       "      <td>pura ulun danu beratan</td>\n",
       "      <td>1633-01-01 00:00:00</td>\n",
       "      <td>bedugul tabanan</td>\n",
       "      <td>https://awsimages.detik.net.id/community/media...</td>\n",
       "      <td>pura ulun danu beratan adalah pura air yang te...</td>\n",
       "      <td>https://www.google.com/url?sa=i&amp;url=https%3A%2...</td>\n",
       "      <td>50000.0</td>\n",
       "      <td>baturiti</td>\n",
       "      <td>bali</td>\n",
       "      <td>-8.2750</td>\n",
       "      <td>115.1675</td>\n",
       "      <td>2025-04-14 11:12:31.355</td>\n",
       "      <td>2025-04-14 11:12:31.355</td>\n",
       "    </tr>\n",
       "    <tr>\n",
       "      <th>2</th>\n",
       "      <td>3</td>\n",
       "      <td>tegallalang rice terrace</td>\n",
       "      <td>1800-01-01 00:00:00</td>\n",
       "      <td>tegallalang gianyar</td>\n",
       "      <td>https://media.cntraveler.com/photos/5e35bdf00e...</td>\n",
       "      <td>tegallalang rice terrace terkenal dengan peman...</td>\n",
       "      <td>https://www.google.com/url?sa=i&amp;url=https%3A%2...</td>\n",
       "      <td>25000.0</td>\n",
       "      <td>tegallalang</td>\n",
       "      <td>bali</td>\n",
       "      <td>-8.4366</td>\n",
       "      <td>115.2790</td>\n",
       "      <td>2025-04-14 11:12:31.360</td>\n",
       "      <td>2025-04-14 11:12:31.360</td>\n",
       "    </tr>\n",
       "    <tr>\n",
       "      <th>3</th>\n",
       "      <td>4</td>\n",
       "      <td>gunung batur</td>\n",
       "      <td>1804-01-01 00:00:00</td>\n",
       "      <td>kintamani bangli</td>\n",
       "      <td>https://upload.wikimedia.org/wikipedia/commons...</td>\n",
       "      <td>gunung batur adalah gunung berapi aktif yang p...</td>\n",
       "      <td>https://www.google.com/url?sa=i&amp;url=https%3A%2...</td>\n",
       "      <td>30000.0</td>\n",
       "      <td>kintamani</td>\n",
       "      <td>bali</td>\n",
       "      <td>-8.2390</td>\n",
       "      <td>115.3750</td>\n",
       "      <td>2025-04-14 11:12:31.366</td>\n",
       "      <td>2025-04-14 11:12:31.366</td>\n",
       "    </tr>\n",
       "    <tr>\n",
       "      <th>4</th>\n",
       "      <td>5</td>\n",
       "      <td>pantai pandawa</td>\n",
       "      <td>2011-01-01 00:00:00</td>\n",
       "      <td>kutuh badung</td>\n",
       "      <td>https://cozzy.id/uploads/0000/630/2024/09/04/c...</td>\n",
       "      <td>pantai pandawa dikenal dengan pasir putihnya y...</td>\n",
       "      <td>https://www.google.com/url?sa=i&amp;url=https%3A%2...</td>\n",
       "      <td>15000.0</td>\n",
       "      <td>kutuh</td>\n",
       "      <td>bali</td>\n",
       "      <td>-8.8486</td>\n",
       "      <td>115.1889</td>\n",
       "      <td>2025-04-14 11:12:31.371</td>\n",
       "      <td>2025-04-14 11:12:31.371</td>\n",
       "    </tr>\n",
       "  </tbody>\n",
       "</table>\n",
       "</div>"
      ],
      "text/plain": [
       "   id                      name                 date             location  \\\n",
       "0   1               pantai kuta  1936-01-01 00:00:00          kuta badung   \n",
       "1   2    pura ulun danu beratan  1633-01-01 00:00:00      bedugul tabanan   \n",
       "2   3  tegallalang rice terrace  1800-01-01 00:00:00  tegallalang gianyar   \n",
       "3   4              gunung batur  1804-01-01 00:00:00     kintamani bangli   \n",
       "4   5            pantai pandawa  2011-01-01 00:00:00         kutuh badung   \n",
       "\n",
       "                                               image  \\\n",
       "0  https://labirutour.com/wp-content/uploads/2020...   \n",
       "1  https://awsimages.detik.net.id/community/media...   \n",
       "2  https://media.cntraveler.com/photos/5e35bdf00e...   \n",
       "3  https://upload.wikimedia.org/wikipedia/commons...   \n",
       "4  https://cozzy.id/uploads/0000/630/2024/09/04/c...   \n",
       "\n",
       "                                         description  \\\n",
       "0  pantai kuta adalah salah satu destinasi wisata...   \n",
       "1  pura ulun danu beratan adalah pura air yang te...   \n",
       "2  tegallalang rice terrace terkenal dengan peman...   \n",
       "3  gunung batur adalah gunung berapi aktif yang p...   \n",
       "4  pantai pandawa dikenal dengan pasir putihnya y...   \n",
       "\n",
       "                                                link   prices     district  \\\n",
       "0  https://www.google.com/url?sa=i&url=https%3A%2...      0.0         kuta   \n",
       "1  https://www.google.com/url?sa=i&url=https%3A%2...  50000.0     baturiti   \n",
       "2  https://www.google.com/url?sa=i&url=https%3A%2...  25000.0  tegallalang   \n",
       "3  https://www.google.com/url?sa=i&url=https%3A%2...  30000.0    kintamani   \n",
       "4  https://www.google.com/url?sa=i&url=https%3A%2...  15000.0        kutuh   \n",
       "\n",
       "  province  latitude  longitude               createdAt  \\\n",
       "0     bali   -8.7177   115.1682 2025-04-14 11:12:31.346   \n",
       "1     bali   -8.2750   115.1675 2025-04-14 11:12:31.355   \n",
       "2     bali   -8.4366   115.2790 2025-04-14 11:12:31.360   \n",
       "3     bali   -8.2390   115.3750 2025-04-14 11:12:31.366   \n",
       "4     bali   -8.8486   115.1889 2025-04-14 11:12:31.371   \n",
       "\n",
       "                updatedAt  \n",
       "0 2025-04-14 11:12:31.346  \n",
       "1 2025-04-14 11:12:31.355  \n",
       "2 2025-04-14 11:12:31.360  \n",
       "3 2025-04-14 11:12:31.366  \n",
       "4 2025-04-14 11:12:31.371  "
      ]
     },
     "execution_count": 11,
     "metadata": {},
     "output_type": "execute_result"
    }
   ],
   "source": [
    "wisata_cleaned_df['name'] = wisata_cleaned_df['name'].apply(casefoldingText)\n",
    "wisata_cleaned_df['location'] = wisata_cleaned_df['location'].apply(casefoldingText)\n",
    "wisata_cleaned_df['description'] = wisata_cleaned_df['description'].apply(casefoldingText)\n",
    "wisata_cleaned_df['district'] = wisata_cleaned_df['district'].apply(casefoldingText)\n",
    "wisata_cleaned_df['province'] = wisata_cleaned_df['province'].apply(casefoldingText)\n",
    "wisata_cleaned_df.head()"
   ]
  },
  {
   "cell_type": "markdown",
   "metadata": {},
   "source": [
    "### Stemming Text"
   ]
  },
  {
   "cell_type": "code",
   "execution_count": 36,
   "metadata": {},
   "outputs": [
    {
     "data": {
      "text/html": [
       "<div>\n",
       "<style scoped>\n",
       "    .dataframe tbody tr th:only-of-type {\n",
       "        vertical-align: middle;\n",
       "    }\n",
       "\n",
       "    .dataframe tbody tr th {\n",
       "        vertical-align: top;\n",
       "    }\n",
       "\n",
       "    .dataframe thead th {\n",
       "        text-align: right;\n",
       "    }\n",
       "</style>\n",
       "<table border=\"1\" class=\"dataframe\">\n",
       "  <thead>\n",
       "    <tr style=\"text-align: right;\">\n",
       "      <th></th>\n",
       "      <th>id</th>\n",
       "      <th>name</th>\n",
       "      <th>date</th>\n",
       "      <th>location</th>\n",
       "      <th>image</th>\n",
       "      <th>description</th>\n",
       "      <th>link</th>\n",
       "      <th>prices</th>\n",
       "      <th>district</th>\n",
       "      <th>province</th>\n",
       "      <th>latitude</th>\n",
       "      <th>longitude</th>\n",
       "      <th>createdAt</th>\n",
       "      <th>updatedAt</th>\n",
       "    </tr>\n",
       "  </thead>\n",
       "  <tbody>\n",
       "    <tr>\n",
       "      <th>0</th>\n",
       "      <td>1</td>\n",
       "      <td>pantai kuta</td>\n",
       "      <td>1936-01-01 00:00:00</td>\n",
       "      <td>kuta badung</td>\n",
       "      <td>https://labirutour.com/wp-content/uploads/2020...</td>\n",
       "      <td>pantai kuta adalah salah satu destinasi wisata...</td>\n",
       "      <td>https://www.google.com/url?sa=i&amp;url=https%3A%2...</td>\n",
       "      <td>0.0</td>\n",
       "      <td>kuta</td>\n",
       "      <td>bali</td>\n",
       "      <td>-8.7177</td>\n",
       "      <td>115.1682</td>\n",
       "      <td>2025-04-14 11:12:31.346</td>\n",
       "      <td>2025-04-14 11:12:31.346</td>\n",
       "    </tr>\n",
       "    <tr>\n",
       "      <th>1</th>\n",
       "      <td>2</td>\n",
       "      <td>pura ulun danu beratan</td>\n",
       "      <td>1633-01-01 00:00:00</td>\n",
       "      <td>bedugul tabanan</td>\n",
       "      <td>https://awsimages.detik.net.id/community/media...</td>\n",
       "      <td>pura ulun danu rat adalah pura air yang letak ...</td>\n",
       "      <td>https://www.google.com/url?sa=i&amp;url=https%3A%2...</td>\n",
       "      <td>50000.0</td>\n",
       "      <td>baturiti</td>\n",
       "      <td>bali</td>\n",
       "      <td>-8.2750</td>\n",
       "      <td>115.1675</td>\n",
       "      <td>2025-04-14 11:12:31.355</td>\n",
       "      <td>2025-04-14 11:12:31.355</td>\n",
       "    </tr>\n",
       "    <tr>\n",
       "      <th>2</th>\n",
       "      <td>3</td>\n",
       "      <td>tegallalang rice terrace</td>\n",
       "      <td>1800-01-01 00:00:00</td>\n",
       "      <td>tegallalang gianyar</td>\n",
       "      <td>https://media.cntraveler.com/photos/5e35bdf00e...</td>\n",
       "      <td>tegallalang rice terrace kenal dengan pandang ...</td>\n",
       "      <td>https://www.google.com/url?sa=i&amp;url=https%3A%2...</td>\n",
       "      <td>25000.0</td>\n",
       "      <td>tegallalang</td>\n",
       "      <td>bali</td>\n",
       "      <td>-8.4366</td>\n",
       "      <td>115.2790</td>\n",
       "      <td>2025-04-14 11:12:31.360</td>\n",
       "      <td>2025-04-14 11:12:31.360</td>\n",
       "    </tr>\n",
       "    <tr>\n",
       "      <th>3</th>\n",
       "      <td>4</td>\n",
       "      <td>gunung batur</td>\n",
       "      <td>1804-01-01 00:00:00</td>\n",
       "      <td>kintamani bangli</td>\n",
       "      <td>https://upload.wikimedia.org/wikipedia/commons...</td>\n",
       "      <td>gunung batur adalah gunung rap aktif yang popu...</td>\n",
       "      <td>https://www.google.com/url?sa=i&amp;url=https%3A%2...</td>\n",
       "      <td>30000.0</td>\n",
       "      <td>kintamani</td>\n",
       "      <td>bali</td>\n",
       "      <td>-8.2390</td>\n",
       "      <td>115.3750</td>\n",
       "      <td>2025-04-14 11:12:31.366</td>\n",
       "      <td>2025-04-14 11:12:31.366</td>\n",
       "    </tr>\n",
       "    <tr>\n",
       "      <th>4</th>\n",
       "      <td>5</td>\n",
       "      <td>pantai pandawa</td>\n",
       "      <td>2011-01-01 00:00:00</td>\n",
       "      <td>kutuh badung</td>\n",
       "      <td>https://cozzy.id/uploads/0000/630/2024/09/04/c...</td>\n",
       "      <td>pantai pandawa kenal dengan pasir putih yang b...</td>\n",
       "      <td>https://www.google.com/url?sa=i&amp;url=https%3A%2...</td>\n",
       "      <td>15000.0</td>\n",
       "      <td>kutuh</td>\n",
       "      <td>bali</td>\n",
       "      <td>-8.8486</td>\n",
       "      <td>115.1889</td>\n",
       "      <td>2025-04-14 11:12:31.371</td>\n",
       "      <td>2025-04-14 11:12:31.371</td>\n",
       "    </tr>\n",
       "  </tbody>\n",
       "</table>\n",
       "</div>"
      ],
      "text/plain": [
       "   id                      name                 date             location  \\\n",
       "0   1               pantai kuta  1936-01-01 00:00:00          kuta badung   \n",
       "1   2    pura ulun danu beratan  1633-01-01 00:00:00      bedugul tabanan   \n",
       "2   3  tegallalang rice terrace  1800-01-01 00:00:00  tegallalang gianyar   \n",
       "3   4              gunung batur  1804-01-01 00:00:00     kintamani bangli   \n",
       "4   5            pantai pandawa  2011-01-01 00:00:00         kutuh badung   \n",
       "\n",
       "                                               image  \\\n",
       "0  https://labirutour.com/wp-content/uploads/2020...   \n",
       "1  https://awsimages.detik.net.id/community/media...   \n",
       "2  https://media.cntraveler.com/photos/5e35bdf00e...   \n",
       "3  https://upload.wikimedia.org/wikipedia/commons...   \n",
       "4  https://cozzy.id/uploads/0000/630/2024/09/04/c...   \n",
       "\n",
       "                                         description  \\\n",
       "0  pantai kuta adalah salah satu destinasi wisata...   \n",
       "1  pura ulun danu rat adalah pura air yang letak ...   \n",
       "2  tegallalang rice terrace kenal dengan pandang ...   \n",
       "3  gunung batur adalah gunung rap aktif yang popu...   \n",
       "4  pantai pandawa kenal dengan pasir putih yang b...   \n",
       "\n",
       "                                                link   prices     district  \\\n",
       "0  https://www.google.com/url?sa=i&url=https%3A%2...      0.0         kuta   \n",
       "1  https://www.google.com/url?sa=i&url=https%3A%2...  50000.0     baturiti   \n",
       "2  https://www.google.com/url?sa=i&url=https%3A%2...  25000.0  tegallalang   \n",
       "3  https://www.google.com/url?sa=i&url=https%3A%2...  30000.0    kintamani   \n",
       "4  https://www.google.com/url?sa=i&url=https%3A%2...  15000.0        kutuh   \n",
       "\n",
       "  province  latitude  longitude               createdAt  \\\n",
       "0     bali   -8.7177   115.1682 2025-04-14 11:12:31.346   \n",
       "1     bali   -8.2750   115.1675 2025-04-14 11:12:31.355   \n",
       "2     bali   -8.4366   115.2790 2025-04-14 11:12:31.360   \n",
       "3     bali   -8.2390   115.3750 2025-04-14 11:12:31.366   \n",
       "4     bali   -8.8486   115.1889 2025-04-14 11:12:31.371   \n",
       "\n",
       "                updatedAt  \n",
       "0 2025-04-14 11:12:31.346  \n",
       "1 2025-04-14 11:12:31.355  \n",
       "2 2025-04-14 11:12:31.360  \n",
       "3 2025-04-14 11:12:31.366  \n",
       "4 2025-04-14 11:12:31.371  "
      ]
     },
     "execution_count": 36,
     "metadata": {},
     "output_type": "execute_result"
    }
   ],
   "source": [
    "wisata_cleaned_df['description'] = wisata_cleaned_df['description'].apply(stemmingText)\n",
    "wisata_cleaned_df.head()"
   ]
  },
  {
   "cell_type": "markdown",
   "metadata": {},
   "source": [
    "## Buat Embeddings"
   ]
  },
  {
   "cell_type": "code",
   "execution_count": 12,
   "metadata": {},
   "outputs": [],
   "source": [
    "wisata_cleaned_df['combined'] = (\n",
    "    wisata_cleaned_df['name'] + ' ' +\n",
    "    wisata_cleaned_df['district'] + ' ' +\n",
    "    wisata_cleaned_df['province'] + ' ' +\n",
    "    wisata_cleaned_df['location'] + ' ' +\n",
    "    wisata_cleaned_df['description']\n",
    ")"
   ]
  },
  {
   "cell_type": "code",
   "execution_count": 13,
   "metadata": {},
   "outputs": [],
   "source": [
    "embeddings = model.encode(wisata_cleaned_df['combined'].tolist(), convert_to_tensor=True)"
   ]
  },
  {
   "cell_type": "code",
   "execution_count": 123,
   "metadata": {},
   "outputs": [],
   "source": [
    "def rekomendasi_wisata(pertanyaan_user, top_k=3):\n",
    "    original_question = pertanyaan_user.lower()\n",
    "\n",
    "    all_provinces = wisata_cleaned_df['province'].str.lower().unique()\n",
    "\n",
    "    lokasi_filter = None\n",
    "    for prov in all_provinces:\n",
    "        if prov in original_question:\n",
    "            lokasi_filter = prov\n",
    "            break\n",
    "\n",
    "    pertanyaan_user = cleaningText(pertanyaan_user)\n",
    "    pertanyaan_user = casefoldingText(pertanyaan_user)\n",
    "    pertanyaan_user = stemmingText(pertanyaan_user)\n",
    "    query_embedding = model.encode(pertanyaan_user, convert_to_tensor=True)\n",
    "    \n",
    "    # Saat ada filter lokasi\n",
    "    if lokasi_filter:\n",
    "        mask = wisata_cleaned_df['province'].str.lower().str.contains(lokasi_filter)\n",
    "        df_filtered = wisata_cleaned_df[mask]\n",
    "        embeddings_filtered = embeddings[mask.values]  # <- filter embedding juga\n",
    "    else:\n",
    "        df_filtered = wisata_cleaned_df\n",
    "        embeddings_filtered = embeddings\n",
    "\n",
    "    # Reset index\n",
    "    df_filtered = df_filtered.reset_index(drop=True)\n",
    "    embeddings_filtered = embeddings_filtered.cpu()  # kalau tensor di GPU\n",
    "\n",
    "    # Cosine similarity terhadap embedding hasil filter\n",
    "    cos_scores = util.pytorch_cos_sim(query_embedding, embeddings_filtered)[0]\n",
    "    top_results = cos_scores.topk(k=top_k)\n",
    "\n",
    "    # Ambil hasil\n",
    "    recommendations = []\n",
    "    for score, idx in zip(top_results[0], top_results[1]):\n",
    "        idx = idx.item()\n",
    "        row = df_filtered.iloc[idx]\n",
    "        recommendations.append({\n",
    "            'lokasi': lokasi_filter,\n",
    "            'result': row['name'],\n",
    "            'score': score.item(),\n",
    "        })\n",
    "\n",
    "    return recommendations\n"
   ]
  },
  {
   "cell_type": "markdown",
   "metadata": {},
   "source": [
    "# Testing"
   ]
  },
  {
   "cell_type": "code",
   "execution_count": 128,
   "metadata": {},
   "outputs": [
    {
     "name": "stdout",
     "output_type": "stream",
     "text": [
      "[{'lokasi': 'bali', 'result': 'pantai kuta', 'score': 0.30511873960494995}, {'lokasi': 'bali', 'result': 'pantai pandawa', 'score': 0.2494456171989441}, {'lokasi': 'bali', 'result': 'pura ulun danu beratan', 'score': 0.05591677129268646}]\n"
     ]
    }
   ],
   "source": [
    "recommendation = rekomendasi_wisata(\"pantai bali\")\n",
    "print(recommendation)"
   ]
  },
  {
   "cell_type": "code",
   "execution_count": 108,
   "metadata": {},
   "outputs": [],
   "source": [
    "chatbot_model = AutoModelForSequenceClassification.from_pretrained(\"../models/chatbot_bert_model\")\n",
    "chatbot_tokenizer = AutoTokenizer.from_pretrained(\"../models/chatbot_bert_model\")\n",
    "model = SentenceTransformer('distiluse-base-multilingual-cased')\n",
    "doc_embeddings = model.encode(chatbot_df['Pertanyaan'].tolist(), convert_to_tensor=True)\n",
    "\n",
    "label_mapping = {\n",
    "    0: \"aktivitas\", 1: \"budget\", 2: \"cuaca\", 3: \"detail_wisata\",\n",
    "    4: \"kuliner\", 5: \"lokasi_wisata\", 6: \"penginapan\", 7: \"transportasi\",\n",
    "    8: \"uncategorized\", 9: \"wisata_alam\", 10: \"wisata_bahari\", 11: \"wisata_budaya\",\n",
    "    12: \"wisata_edukasi\", 13: \"wisata_rekreasi\", 14: \"wisata_sejarah\"\n",
    "}"
   ]
  },
  {
   "cell_type": "code",
   "execution_count": 125,
   "metadata": {},
   "outputs": [],
   "source": [
    "def preprocess(text):\n",
    "    cleaned_text = cleaningText(text)\n",
    "    cleaned_text = casefoldingText(cleaned_text)\n",
    "    cleaned_text = fix_slangwords(cleaned_text)\n",
    "    cleaned_text = stemmingText(cleaned_text)\n",
    "    return cleaned_text\n",
    "\n",
    "import re\n",
    "\n",
    "def predict(text, top_k=3):\n",
    "    cleaned_text = preprocess(text)\n",
    "\n",
    "    # Text classification\n",
    "    inputs = chatbot_tokenizer(cleaned_text, return_tensors=\"pt\", truncation=True, padding=True)\n",
    "    with torch.no_grad():\n",
    "        outputs = chatbot_model(**inputs)\n",
    "    probs = torch.nn.functional.softmax(outputs.logits, dim=1)\n",
    "    label = torch.argmax(probs, dim=1).item()\n",
    "    confidence = probs[0][label].item()\n",
    "\n",
    "    # Ambil rekomendasi wisata\n",
    "    recommendation = rekomendasi_wisata(text)\n",
    "    # Pilih jawaban template sesuai intent\n",
    "    answer = chatbot_df[chatbot_df['Intent'] == label_mapping[label]].sample(n=1).iloc[0]['Jawaban']\n",
    "\n",
    "    placeholders = re.findall(r\"\\[rekomendasi_(\\d+)\\]\", answer)\n",
    "    final_answer = answer\n",
    "\n",
    "    # Cek dan ganti [nama_daerah]\n",
    "    if \"[nama_daerah]\" in final_answer:\n",
    "        if recommendation[0]['lokasi'] == None:\n",
    "            final_answer = final_answer.replace(\"[nama_daerah]\", \"indonesia\")\n",
    "        else:\n",
    "            final_answer = final_answer.replace(\"[nama_daerah]\", recommendation[0]['lokasi'])\n",
    "\n",
    "    # Ganti placeholder rekomendasi\n",
    "    for ph in placeholders:\n",
    "        idx = int(ph) - 1  # karena rekomendasi_1 = recommendation[0]\n",
    "        if idx < len(recommendation):\n",
    "            final_answer = final_answer.replace(f\"[rekomendasi_{ph}]\", recommendation[idx]['result'])\n",
    "        else:\n",
    "            final_answer = final_answer.replace(f\"[rekomendasi_{ph}]\", \"-\")\n",
    "\n",
    "    result = {\n",
    "        'answer': final_answer,\n",
    "        'intent': label_mapping[label],\n",
    "        'score': confidence\n",
    "    }\n",
    "    return result\n"
   ]
  },
  {
   "cell_type": "code",
   "execution_count": 126,
   "metadata": {},
   "outputs": [
    {
     "data": {
      "text/plain": [
       "{'answer': 'Lu wajib banget ke pantai kuta, kayak ngestep ke zaman dulu tapi fun!',\n",
       " 'intent': 'wisata_sejarah',\n",
       " 'score': 0.9301119446754456}"
      ]
     },
     "execution_count": 126,
     "metadata": {},
     "output_type": "execute_result"
    }
   ],
   "source": [
    "predict(\"ada rekomendasi tempat wisata yang bisa sambil belajar sejarah di bali\")"
   ]
  }
 ],
 "metadata": {
  "colab": {
   "provenance": []
  },
  "kernelspec": {
   "display_name": "Python 3",
   "name": "python3"
  },
  "language_info": {
   "codemirror_mode": {
    "name": "ipython",
    "version": 3
   },
   "file_extension": ".py",
   "mimetype": "text/x-python",
   "name": "python",
   "nbconvert_exporter": "python",
   "pygments_lexer": "ipython3",
   "version": "3.11.5"
  }
 },
 "nbformat": 4,
 "nbformat_minor": 0
}
