{
 "cells": [
  {
   "cell_type": "markdown",
   "metadata": {
    "id": "hu4BkapFhbcb"
   },
   "source": [
    "# Import Library"
   ]
  },
  {
   "cell_type": "code",
   "execution_count": 4,
   "metadata": {
    "id": "ehkdpiVahaIY"
   },
   "outputs": [],
   "source": [
    "import sys\n",
    "import os\n",
    "sys.path.append(os.path.abspath(os.path.join(os.getcwd(), '..')))\n",
    "import pandas as pd\n",
    "from datasets import Dataset\n",
    "from utils.preprocessing import cleaningText\n",
    "from utils.preprocessing import casefoldingText\n",
    "from utils.preprocessing import stemmingText\n",
    "from utils.preprocessing import fix_slangwords\n",
    "from utils.preprocessing import tokenize\n",
    "from utils.preprocessing import filteringText\n",
    "from utils.preprocessing import tokenizingText\n",
    "from utils.preprocessing import toSentence\n",
    "from sklearn.preprocessing import LabelEncoder\n",
    "from transformers import AutoModelForSequenceClassification\n",
    "from transformers import TrainingArguments\n",
    "from transformers import Trainer\n",
    "from transformers import AutoTokenizer\n",
    "from sklearn.metrics import accuracy_score\n",
    "os.environ[\"WANDB_DISABLED\"] = \"true\"\n",
    "tokenizer = AutoTokenizer.from_pretrained(\"indobenchmark/indobert-base-p1\")"
   ]
  },
  {
   "cell_type": "markdown",
   "metadata": {
    "id": "kqIGImjq7PYa"
   },
   "source": [
    "# Loading Dataset"
   ]
  },
  {
   "cell_type": "code",
   "execution_count": 5,
   "metadata": {
    "colab": {
     "base_uri": "https://localhost:8080/"
    },
    "id": "codsTZgs7M5K",
    "outputId": "8f4affc5-cd8b-45bd-b25b-9d377d39ae9d"
   },
   "outputs": [
    {
     "name": "stdout",
     "output_type": "stream",
     "text": [
      "                                          Pertanyaan         Intent  \\\n",
      "0                     Bro, ini kenapa wifi ku lelet?  uncategorized   \n",
      "1   Apa tempat wisata alam terbaik di [nama_daerah]?    wisata_alam   \n",
      "2  Di [nama_daerah], di mana saya bisa menikmati ...    wisata_alam   \n",
      "3  Tempat wisata alam apa yang wajib dikunjungi d...    wisata_alam   \n",
      "4  Ada apa saja di [nama_daerah] yang cocok untuk...    wisata_alam   \n",
      "\n",
      "                                             Jawaban  \n",
      "0  brooo 😵 itu mah urusan teknisi, aku mah jagony...  \n",
      "1  Di [nama_daerah], kamu bisa nemuin banyak temp...  \n",
      "2  Kalau kamu lagi di [nama_daerah] dan pengen me...  \n",
      "3  Beberapa destinasi wisata alam yang wajib kamu...  \n",
      "4  Buat pecinta alam, [nama_daerah] punya banyak ...  \n"
     ]
    }
   ],
   "source": [
    "# Ubah URL menjadi raw URL GitHub\n",
    "chatbot_url = \"https://raw.githubusercontent.com/novaandini/arkanesia/refs/heads/main/data/chatbot.csv\"\n",
    "\n",
    "# Baca CSV (ganti 'nama_file.csv' dengan file yang diunggah)\n",
    "chatbot_df = pd.read_csv(chatbot_url)\n",
    "\n",
    "# Cek kolom yang ada\n",
    "print(chatbot_df.head())"
   ]
  },
  {
   "cell_type": "markdown",
   "metadata": {
    "id": "rYzOXSV2_Ppj"
   },
   "source": [
    "## Explore Chatbot Data"
   ]
  },
  {
   "cell_type": "code",
   "execution_count": 6,
   "metadata": {
    "colab": {
     "base_uri": "https://localhost:8080/"
    },
    "id": "zOlIay51IaN-",
    "outputId": "5a37d3fe-c037-4b0f-9476-e4805829513c"
   },
   "outputs": [
    {
     "data": {
      "text/plain": [
       "np.int64(0)"
      ]
     },
     "execution_count": 6,
     "metadata": {},
     "output_type": "execute_result"
    }
   ],
   "source": [
    "chatbot_df.duplicated().sum()"
   ]
  },
  {
   "cell_type": "code",
   "execution_count": 7,
   "metadata": {
    "colab": {
     "base_uri": "https://localhost:8080/",
     "height": 178
    },
    "id": "kymaz5Up2lMM",
    "outputId": "eda42550-4cc7-4590-93b0-40322fba65fe"
   },
   "outputs": [
    {
     "data": {
      "text/plain": [
       "Pertanyaan    0\n",
       "Intent        0\n",
       "Jawaban       0\n",
       "dtype: int64"
      ]
     },
     "execution_count": 7,
     "metadata": {},
     "output_type": "execute_result"
    }
   ],
   "source": [
    "chatbot_df.isnull().sum()"
   ]
  },
  {
   "cell_type": "code",
   "execution_count": 8,
   "metadata": {
    "colab": {
     "base_uri": "https://localhost:8080/",
     "height": 175
    },
    "id": "RKKt1fQ2_E9A",
    "outputId": "60ea886b-e501-4444-f48e-0ed46cd7dafa"
   },
   "outputs": [
    {
     "data": {
      "text/html": [
       "<div>\n",
       "<style scoped>\n",
       "    .dataframe tbody tr th:only-of-type {\n",
       "        vertical-align: middle;\n",
       "    }\n",
       "\n",
       "    .dataframe tbody tr th {\n",
       "        vertical-align: top;\n",
       "    }\n",
       "\n",
       "    .dataframe thead th {\n",
       "        text-align: right;\n",
       "    }\n",
       "</style>\n",
       "<table border=\"1\" class=\"dataframe\">\n",
       "  <thead>\n",
       "    <tr style=\"text-align: right;\">\n",
       "      <th></th>\n",
       "      <th>Pertanyaan</th>\n",
       "      <th>Intent</th>\n",
       "      <th>Jawaban</th>\n",
       "    </tr>\n",
       "  </thead>\n",
       "  <tbody>\n",
       "    <tr>\n",
       "      <th>count</th>\n",
       "      <td>723</td>\n",
       "      <td>723</td>\n",
       "      <td>723</td>\n",
       "    </tr>\n",
       "    <tr>\n",
       "      <th>unique</th>\n",
       "      <td>723</td>\n",
       "      <td>15</td>\n",
       "      <td>723</td>\n",
       "    </tr>\n",
       "    <tr>\n",
       "      <th>top</th>\n",
       "      <td>Bisa bantuin skripsi gk?</td>\n",
       "      <td>wisata_bahari</td>\n",
       "      <td>hihihi gpp luh 😆 aku bkn ai skripsian, ai libu...</td>\n",
       "    </tr>\n",
       "    <tr>\n",
       "      <th>freq</th>\n",
       "      <td>1</td>\n",
       "      <td>107</td>\n",
       "      <td>1</td>\n",
       "    </tr>\n",
       "  </tbody>\n",
       "</table>\n",
       "</div>"
      ],
      "text/plain": [
       "                      Pertanyaan         Intent  \\\n",
       "count                        723            723   \n",
       "unique                       723             15   \n",
       "top     Bisa bantuin skripsi gk?  wisata_bahari   \n",
       "freq                           1            107   \n",
       "\n",
       "                                                  Jawaban  \n",
       "count                                                 723  \n",
       "unique                                                723  \n",
       "top     hihihi gpp luh 😆 aku bkn ai skripsian, ai libu...  \n",
       "freq                                                    1  "
      ]
     },
     "execution_count": 8,
     "metadata": {},
     "output_type": "execute_result"
    }
   ],
   "source": [
    "chatbot_df.describe()"
   ]
  },
  {
   "cell_type": "code",
   "execution_count": 9,
   "metadata": {
    "colab": {
     "base_uri": "https://localhost:8080/"
    },
    "id": "M21gOtuW_G-I",
    "outputId": "7109bf6c-2cfc-4b0a-8df2-791fb11b9622"
   },
   "outputs": [
    {
     "name": "stdout",
     "output_type": "stream",
     "text": [
      "<class 'pandas.core.frame.DataFrame'>\n",
      "RangeIndex: 723 entries, 0 to 722\n",
      "Data columns (total 3 columns):\n",
      " #   Column      Non-Null Count  Dtype \n",
      "---  ------      --------------  ----- \n",
      " 0   Pertanyaan  723 non-null    object\n",
      " 1   Intent      723 non-null    object\n",
      " 2   Jawaban     723 non-null    object\n",
      "dtypes: object(3)\n",
      "memory usage: 17.1+ KB\n"
     ]
    }
   ],
   "source": [
    "chatbot_df.info()"
   ]
  },
  {
   "cell_type": "markdown",
   "metadata": {
    "id": "j1Guq2ym7R9F"
   },
   "source": [
    "# Preprocessing Text"
   ]
  },
  {
   "cell_type": "markdown",
   "metadata": {
    "id": "pjLHWeFQ-1A_"
   },
   "source": [
    "## Cleaning Text"
   ]
  },
  {
   "cell_type": "code",
   "execution_count": 10,
   "metadata": {
    "colab": {
     "base_uri": "https://localhost:8080/",
     "height": 206
    },
    "id": "oSeO3eQI-v4s",
    "outputId": "3062f267-26fe-45f2-a6dc-32fc7bab8139"
   },
   "outputs": [
    {
     "data": {
      "text/html": [
       "<div>\n",
       "<style scoped>\n",
       "    .dataframe tbody tr th:only-of-type {\n",
       "        vertical-align: middle;\n",
       "    }\n",
       "\n",
       "    .dataframe tbody tr th {\n",
       "        vertical-align: top;\n",
       "    }\n",
       "\n",
       "    .dataframe thead th {\n",
       "        text-align: right;\n",
       "    }\n",
       "</style>\n",
       "<table border=\"1\" class=\"dataframe\">\n",
       "  <thead>\n",
       "    <tr style=\"text-align: right;\">\n",
       "      <th></th>\n",
       "      <th>question</th>\n",
       "      <th>intent</th>\n",
       "      <th>answer</th>\n",
       "    </tr>\n",
       "  </thead>\n",
       "  <tbody>\n",
       "    <tr>\n",
       "      <th>0</th>\n",
       "      <td>Bro, ini kenapa wifi ku lelet?</td>\n",
       "      <td>uncategorized</td>\n",
       "      <td>brooo 😵 itu mah urusan teknisi, aku mah jagony...</td>\n",
       "    </tr>\n",
       "    <tr>\n",
       "      <th>1</th>\n",
       "      <td>Apa tempat wisata alam terbaik di [nama_daerah]?</td>\n",
       "      <td>wisata_alam</td>\n",
       "      <td>Di [nama_daerah], kamu bisa nemuin banyak temp...</td>\n",
       "    </tr>\n",
       "    <tr>\n",
       "      <th>2</th>\n",
       "      <td>Di [nama_daerah], di mana saya bisa menikmati ...</td>\n",
       "      <td>wisata_alam</td>\n",
       "      <td>Kalau kamu lagi di [nama_daerah] dan pengen me...</td>\n",
       "    </tr>\n",
       "    <tr>\n",
       "      <th>3</th>\n",
       "      <td>Tempat wisata alam apa yang wajib dikunjungi d...</td>\n",
       "      <td>wisata_alam</td>\n",
       "      <td>Beberapa destinasi wisata alam yang wajib kamu...</td>\n",
       "    </tr>\n",
       "    <tr>\n",
       "      <th>4</th>\n",
       "      <td>Ada apa saja di [nama_daerah] yang cocok untuk...</td>\n",
       "      <td>wisata_alam</td>\n",
       "      <td>Buat pecinta alam, [nama_daerah] punya banyak ...</td>\n",
       "    </tr>\n",
       "  </tbody>\n",
       "</table>\n",
       "</div>"
      ],
      "text/plain": [
       "                                            question         intent  \\\n",
       "0                     Bro, ini kenapa wifi ku lelet?  uncategorized   \n",
       "1   Apa tempat wisata alam terbaik di [nama_daerah]?    wisata_alam   \n",
       "2  Di [nama_daerah], di mana saya bisa menikmati ...    wisata_alam   \n",
       "3  Tempat wisata alam apa yang wajib dikunjungi d...    wisata_alam   \n",
       "4  Ada apa saja di [nama_daerah] yang cocok untuk...    wisata_alam   \n",
       "\n",
       "                                              answer  \n",
       "0  brooo 😵 itu mah urusan teknisi, aku mah jagony...  \n",
       "1  Di [nama_daerah], kamu bisa nemuin banyak temp...  \n",
       "2  Kalau kamu lagi di [nama_daerah] dan pengen me...  \n",
       "3  Beberapa destinasi wisata alam yang wajib kamu...  \n",
       "4  Buat pecinta alam, [nama_daerah] punya banyak ...  "
      ]
     },
     "execution_count": 10,
     "metadata": {},
     "output_type": "execute_result"
    }
   ],
   "source": [
    "chatbot_cleaned_df = pd.DataFrame()\n",
    "chatbot_cleaned_df['question'] = chatbot_df['Pertanyaan']\n",
    "chatbot_cleaned_df['intent'] = chatbot_df['Intent']\n",
    "chatbot_cleaned_df['answer'] = chatbot_df['Jawaban']\n",
    "chatbot_cleaned_df.head()"
   ]
  },
  {
   "cell_type": "code",
   "execution_count": 11,
   "metadata": {
    "colab": {
     "base_uri": "https://localhost:8080/",
     "height": 206
    },
    "id": "aByO4Ltv-fY2",
    "outputId": "9afb5b67-1669-415d-cf5a-e6638da5cbd9"
   },
   "outputs": [
    {
     "data": {
      "text/html": [
       "<div>\n",
       "<style scoped>\n",
       "    .dataframe tbody tr th:only-of-type {\n",
       "        vertical-align: middle;\n",
       "    }\n",
       "\n",
       "    .dataframe tbody tr th {\n",
       "        vertical-align: top;\n",
       "    }\n",
       "\n",
       "    .dataframe thead th {\n",
       "        text-align: right;\n",
       "    }\n",
       "</style>\n",
       "<table border=\"1\" class=\"dataframe\">\n",
       "  <thead>\n",
       "    <tr style=\"text-align: right;\">\n",
       "      <th></th>\n",
       "      <th>question</th>\n",
       "      <th>intent</th>\n",
       "      <th>answer</th>\n",
       "    </tr>\n",
       "  </thead>\n",
       "  <tbody>\n",
       "    <tr>\n",
       "      <th>0</th>\n",
       "      <td>Bro ini kenapa wifi ku lelet</td>\n",
       "      <td>uncategorized</td>\n",
       "      <td>brooo  itu mah urusan teknisi aku mah jagonya ...</td>\n",
       "    </tr>\n",
       "    <tr>\n",
       "      <th>1</th>\n",
       "      <td>Apa tempat wisata alam terbaik di namadaerah</td>\n",
       "      <td>wisata_alam</td>\n",
       "      <td>Di namadaerah kamu bisa nemuin banyak tempat w...</td>\n",
       "    </tr>\n",
       "    <tr>\n",
       "      <th>2</th>\n",
       "      <td>Di namadaerah di mana saya bisa menikmati alam</td>\n",
       "      <td>wisata_alam</td>\n",
       "      <td>Kalau kamu lagi di namadaerah dan pengen menik...</td>\n",
       "    </tr>\n",
       "    <tr>\n",
       "      <th>3</th>\n",
       "      <td>Tempat wisata alam apa yang wajib dikunjungi d...</td>\n",
       "      <td>wisata_alam</td>\n",
       "      <td>Beberapa destinasi wisata alam yang wajib kamu...</td>\n",
       "    </tr>\n",
       "    <tr>\n",
       "      <th>4</th>\n",
       "      <td>Ada apa saja di namadaerah yang cocok untuk pe...</td>\n",
       "      <td>wisata_alam</td>\n",
       "      <td>Buat pecinta alam namadaerah punya banyak spot...</td>\n",
       "    </tr>\n",
       "  </tbody>\n",
       "</table>\n",
       "</div>"
      ],
      "text/plain": [
       "                                            question         intent  \\\n",
       "0                       Bro ini kenapa wifi ku lelet  uncategorized   \n",
       "1       Apa tempat wisata alam terbaik di namadaerah    wisata_alam   \n",
       "2     Di namadaerah di mana saya bisa menikmati alam    wisata_alam   \n",
       "3  Tempat wisata alam apa yang wajib dikunjungi d...    wisata_alam   \n",
       "4  Ada apa saja di namadaerah yang cocok untuk pe...    wisata_alam   \n",
       "\n",
       "                                              answer  \n",
       "0  brooo  itu mah urusan teknisi aku mah jagonya ...  \n",
       "1  Di namadaerah kamu bisa nemuin banyak tempat w...  \n",
       "2  Kalau kamu lagi di namadaerah dan pengen menik...  \n",
       "3  Beberapa destinasi wisata alam yang wajib kamu...  \n",
       "4  Buat pecinta alam namadaerah punya banyak spot...  "
      ]
     },
     "execution_count": 11,
     "metadata": {},
     "output_type": "execute_result"
    }
   ],
   "source": [
    "chatbot_cleaned_df['question'] = chatbot_cleaned_df['question'].apply(cleaningText)\n",
    "chatbot_cleaned_df['answer'] = chatbot_cleaned_df['answer'].apply(cleaningText)\n",
    "\n",
    "chatbot_cleaned_df.head()"
   ]
  },
  {
   "cell_type": "markdown",
   "metadata": {
    "id": "wX5H7yoOBrWP"
   },
   "source": [
    "## Case Folding text"
   ]
  },
  {
   "cell_type": "code",
   "execution_count": 12,
   "metadata": {
    "colab": {
     "base_uri": "https://localhost:8080/",
     "height": 206
    },
    "id": "7bs9TDLqBuKO",
    "outputId": "d8a5062f-fd1b-4206-953d-c3208e64635a"
   },
   "outputs": [
    {
     "data": {
      "text/html": [
       "<div>\n",
       "<style scoped>\n",
       "    .dataframe tbody tr th:only-of-type {\n",
       "        vertical-align: middle;\n",
       "    }\n",
       "\n",
       "    .dataframe tbody tr th {\n",
       "        vertical-align: top;\n",
       "    }\n",
       "\n",
       "    .dataframe thead th {\n",
       "        text-align: right;\n",
       "    }\n",
       "</style>\n",
       "<table border=\"1\" class=\"dataframe\">\n",
       "  <thead>\n",
       "    <tr style=\"text-align: right;\">\n",
       "      <th></th>\n",
       "      <th>question</th>\n",
       "      <th>intent</th>\n",
       "      <th>answer</th>\n",
       "    </tr>\n",
       "  </thead>\n",
       "  <tbody>\n",
       "    <tr>\n",
       "      <th>0</th>\n",
       "      <td>bro ini kenapa wifi ku lelet</td>\n",
       "      <td>uncategorized</td>\n",
       "      <td>brooo  itu mah urusan teknisi aku mah jagonya ...</td>\n",
       "    </tr>\n",
       "    <tr>\n",
       "      <th>1</th>\n",
       "      <td>apa tempat wisata alam terbaik di namadaerah</td>\n",
       "      <td>wisata_alam</td>\n",
       "      <td>di namadaerah kamu bisa nemuin banyak tempat w...</td>\n",
       "    </tr>\n",
       "    <tr>\n",
       "      <th>2</th>\n",
       "      <td>di namadaerah di mana saya bisa menikmati alam</td>\n",
       "      <td>wisata_alam</td>\n",
       "      <td>kalau kamu lagi di namadaerah dan pengen menik...</td>\n",
       "    </tr>\n",
       "    <tr>\n",
       "      <th>3</th>\n",
       "      <td>tempat wisata alam apa yang wajib dikunjungi d...</td>\n",
       "      <td>wisata_alam</td>\n",
       "      <td>beberapa destinasi wisata alam yang wajib kamu...</td>\n",
       "    </tr>\n",
       "    <tr>\n",
       "      <th>4</th>\n",
       "      <td>ada apa saja di namadaerah yang cocok untuk pe...</td>\n",
       "      <td>wisata_alam</td>\n",
       "      <td>buat pecinta alam namadaerah punya banyak spot...</td>\n",
       "    </tr>\n",
       "  </tbody>\n",
       "</table>\n",
       "</div>"
      ],
      "text/plain": [
       "                                            question         intent  \\\n",
       "0                       bro ini kenapa wifi ku lelet  uncategorized   \n",
       "1       apa tempat wisata alam terbaik di namadaerah    wisata_alam   \n",
       "2     di namadaerah di mana saya bisa menikmati alam    wisata_alam   \n",
       "3  tempat wisata alam apa yang wajib dikunjungi d...    wisata_alam   \n",
       "4  ada apa saja di namadaerah yang cocok untuk pe...    wisata_alam   \n",
       "\n",
       "                                              answer  \n",
       "0  brooo  itu mah urusan teknisi aku mah jagonya ...  \n",
       "1  di namadaerah kamu bisa nemuin banyak tempat w...  \n",
       "2  kalau kamu lagi di namadaerah dan pengen menik...  \n",
       "3  beberapa destinasi wisata alam yang wajib kamu...  \n",
       "4  buat pecinta alam namadaerah punya banyak spot...  "
      ]
     },
     "execution_count": 12,
     "metadata": {},
     "output_type": "execute_result"
    }
   ],
   "source": [
    "chatbot_cleaned_df['question'] = chatbot_cleaned_df['question'].apply(casefoldingText)\n",
    "chatbot_cleaned_df['answer'] = chatbot_cleaned_df['answer'].apply(casefoldingText)\n",
    "chatbot_cleaned_df.head()"
   ]
  },
  {
   "cell_type": "markdown",
   "metadata": {},
   "source": [
    "## Fix Slang Words"
   ]
  },
  {
   "cell_type": "code",
   "execution_count": 13,
   "metadata": {},
   "outputs": [
    {
     "data": {
      "text/html": [
       "<div>\n",
       "<style scoped>\n",
       "    .dataframe tbody tr th:only-of-type {\n",
       "        vertical-align: middle;\n",
       "    }\n",
       "\n",
       "    .dataframe tbody tr th {\n",
       "        vertical-align: top;\n",
       "    }\n",
       "\n",
       "    .dataframe thead th {\n",
       "        text-align: right;\n",
       "    }\n",
       "</style>\n",
       "<table border=\"1\" class=\"dataframe\">\n",
       "  <thead>\n",
       "    <tr style=\"text-align: right;\">\n",
       "      <th></th>\n",
       "      <th>question</th>\n",
       "      <th>intent</th>\n",
       "      <th>answer</th>\n",
       "    </tr>\n",
       "  </thead>\n",
       "  <tbody>\n",
       "    <tr>\n",
       "      <th>0</th>\n",
       "      <td>saudara laki-laki ini kenapa wifi ku lambat</td>\n",
       "      <td>uncategorized</td>\n",
       "      <td>brooo  itu mah urusan teknisi aku mah jagonya ...</td>\n",
       "    </tr>\n",
       "    <tr>\n",
       "      <th>1</th>\n",
       "      <td>apa tempat wisata alam terbaik di namadaerah</td>\n",
       "      <td>wisata_alam</td>\n",
       "      <td>di namadaerah kamu bisa nemuin banyak tempat w...</td>\n",
       "    </tr>\n",
       "    <tr>\n",
       "      <th>2</th>\n",
       "      <td>di namadaerah di mana saya bisa menikmati alam</td>\n",
       "      <td>wisata_alam</td>\n",
       "      <td>kalau kamu lagi di namadaerah dan pengen menik...</td>\n",
       "    </tr>\n",
       "    <tr>\n",
       "      <th>3</th>\n",
       "      <td>tempat wisata alam apa yang wajib dikunjungi d...</td>\n",
       "      <td>wisata_alam</td>\n",
       "      <td>beberapa destinasi wisata alam yang wajib kamu...</td>\n",
       "    </tr>\n",
       "    <tr>\n",
       "      <th>4</th>\n",
       "      <td>ada apa saja di namadaerah yang cocok untuk pe...</td>\n",
       "      <td>wisata_alam</td>\n",
       "      <td>buat pecinta alam namadaerah punya banyak spot...</td>\n",
       "    </tr>\n",
       "  </tbody>\n",
       "</table>\n",
       "</div>"
      ],
      "text/plain": [
       "                                            question         intent  \\\n",
       "0        saudara laki-laki ini kenapa wifi ku lambat  uncategorized   \n",
       "1       apa tempat wisata alam terbaik di namadaerah    wisata_alam   \n",
       "2     di namadaerah di mana saya bisa menikmati alam    wisata_alam   \n",
       "3  tempat wisata alam apa yang wajib dikunjungi d...    wisata_alam   \n",
       "4  ada apa saja di namadaerah yang cocok untuk pe...    wisata_alam   \n",
       "\n",
       "                                              answer  \n",
       "0  brooo  itu mah urusan teknisi aku mah jagonya ...  \n",
       "1  di namadaerah kamu bisa nemuin banyak tempat w...  \n",
       "2  kalau kamu lagi di namadaerah dan pengen menik...  \n",
       "3  beberapa destinasi wisata alam yang wajib kamu...  \n",
       "4  buat pecinta alam namadaerah punya banyak spot...  "
      ]
     },
     "execution_count": 13,
     "metadata": {},
     "output_type": "execute_result"
    }
   ],
   "source": [
    "chatbot_cleaned_df['question'] = chatbot_cleaned_df['question'].apply(fix_slangwords)\n",
    "chatbot_cleaned_df.head()"
   ]
  },
  {
   "cell_type": "markdown",
   "metadata": {
    "id": "sZxbclwXCDsl"
   },
   "source": [
    "## Stemming Text"
   ]
  },
  {
   "cell_type": "code",
   "execution_count": 14,
   "metadata": {
    "colab": {
     "base_uri": "https://localhost:8080/",
     "height": 206
    },
    "id": "6j9H2vS0CFfl",
    "outputId": "e344c165-8e85-49b8-f6c8-ee36b86d084d"
   },
   "outputs": [
    {
     "data": {
      "text/html": [
       "<div>\n",
       "<style scoped>\n",
       "    .dataframe tbody tr th:only-of-type {\n",
       "        vertical-align: middle;\n",
       "    }\n",
       "\n",
       "    .dataframe tbody tr th {\n",
       "        vertical-align: top;\n",
       "    }\n",
       "\n",
       "    .dataframe thead th {\n",
       "        text-align: right;\n",
       "    }\n",
       "</style>\n",
       "<table border=\"1\" class=\"dataframe\">\n",
       "  <thead>\n",
       "    <tr style=\"text-align: right;\">\n",
       "      <th></th>\n",
       "      <th>question</th>\n",
       "      <th>intent</th>\n",
       "      <th>answer</th>\n",
       "    </tr>\n",
       "  </thead>\n",
       "  <tbody>\n",
       "    <tr>\n",
       "      <th>0</th>\n",
       "      <td>saudara laki ini kenapa wifi ku lambat</td>\n",
       "      <td>uncategorized</td>\n",
       "      <td>brooo  itu mah urusan teknisi aku mah jagonya ...</td>\n",
       "    </tr>\n",
       "    <tr>\n",
       "      <th>1</th>\n",
       "      <td>apa tempat wisata alam baik di namadaerah</td>\n",
       "      <td>wisata_alam</td>\n",
       "      <td>di namadaerah kamu bisa nemuin banyak tempat w...</td>\n",
       "    </tr>\n",
       "    <tr>\n",
       "      <th>2</th>\n",
       "      <td>di namadaerah di mana saya bisa nikmat alam</td>\n",
       "      <td>wisata_alam</td>\n",
       "      <td>kalau kamu lagi di namadaerah dan pengen menik...</td>\n",
       "    </tr>\n",
       "    <tr>\n",
       "      <th>3</th>\n",
       "      <td>tempat wisata alam apa yang wajib kunjung di n...</td>\n",
       "      <td>wisata_alam</td>\n",
       "      <td>beberapa destinasi wisata alam yang wajib kamu...</td>\n",
       "    </tr>\n",
       "    <tr>\n",
       "      <th>4</th>\n",
       "      <td>ada apa saja di namadaerah yang cocok untuk ci...</td>\n",
       "      <td>wisata_alam</td>\n",
       "      <td>buat pecinta alam namadaerah punya banyak spot...</td>\n",
       "    </tr>\n",
       "  </tbody>\n",
       "</table>\n",
       "</div>"
      ],
      "text/plain": [
       "                                            question         intent  \\\n",
       "0             saudara laki ini kenapa wifi ku lambat  uncategorized   \n",
       "1          apa tempat wisata alam baik di namadaerah    wisata_alam   \n",
       "2        di namadaerah di mana saya bisa nikmat alam    wisata_alam   \n",
       "3  tempat wisata alam apa yang wajib kunjung di n...    wisata_alam   \n",
       "4  ada apa saja di namadaerah yang cocok untuk ci...    wisata_alam   \n",
       "\n",
       "                                              answer  \n",
       "0  brooo  itu mah urusan teknisi aku mah jagonya ...  \n",
       "1  di namadaerah kamu bisa nemuin banyak tempat w...  \n",
       "2  kalau kamu lagi di namadaerah dan pengen menik...  \n",
       "3  beberapa destinasi wisata alam yang wajib kamu...  \n",
       "4  buat pecinta alam namadaerah punya banyak spot...  "
      ]
     },
     "execution_count": 14,
     "metadata": {},
     "output_type": "execute_result"
    }
   ],
   "source": [
    "chatbot_cleaned_df['question'] = chatbot_cleaned_df['question'].apply(stemmingText)\n",
    "# chatbot_cleaned_df['answer'] = chatbot_cleaned_df['answer'].apply(stemmingText)\n",
    "chatbot_cleaned_df.head()"
   ]
  },
  {
   "cell_type": "code",
   "execution_count": 15,
   "metadata": {
    "colab": {
     "base_uri": "https://localhost:8080/",
     "height": 206
    },
    "id": "csZNVK99BPxL",
    "outputId": "04990369-c6ca-4567-ab32-f33c81fae9c9"
   },
   "outputs": [],
   "source": [
    "def restore_placeholders(text):\n",
    "    text = text.replace('namadaerah', '[nama_daerah]')\n",
    "    for i in range(1, 5):\n",
    "        text = text.replace(f'rek{i}', f'[rekomendasi_{i}]')\n",
    "    return text\n",
    "\n",
    "# chatbot_cleaned_df['question'] = chatbot_cleaned_df['question'].apply(restore_placeholders)\n",
    "# chatbot_cleaned_df['answer'] = chatbot_cleaned_df['answer'].apply(restore_placeholders)\n",
    "# chatbot_cleaned_df.head()"
   ]
  },
  {
   "cell_type": "markdown",
   "metadata": {
    "id": "fP3BY9zF0TSY"
   },
   "source": [
    "## Encode Label Intent"
   ]
  },
  {
   "cell_type": "code",
   "execution_count": 16,
   "metadata": {
    "colab": {
     "base_uri": "https://localhost:8080/"
    },
    "id": "MaqbyHN30ScH",
    "outputId": "ef5b0da9-d2d3-4f98-9a1e-52e49b955245"
   },
   "outputs": [
    {
     "name": "stdout",
     "output_type": "stream",
     "text": [
      "aktivitas → 0\n",
      "budget → 1\n",
      "cuaca → 2\n",
      "detail_wisata → 3\n",
      "kuliner → 4\n",
      "lokasi_wisata → 5\n",
      "penginapan → 6\n",
      "transportasi → 7\n",
      "uncategorized → 8\n",
      "wisata_alam → 9\n",
      "wisata_bahari → 10\n",
      "wisata_budaya → 11\n",
      "wisata_edukasi → 12\n",
      "wisata_rekreasi → 13\n",
      "wisata_sejarah → 14\n"
     ]
    }
   ],
   "source": [
    "label_encoder = LabelEncoder()\n",
    "chatbot_cleaned_df['label'] = label_encoder.fit_transform(chatbot_cleaned_df['intent'])\n",
    "\n",
    "# Simpan untuk nanti decoding hasil prediksi\n",
    "label_mapping = dict(zip(label_encoder.classes_, label_encoder.transform(label_encoder.classes_)))\n",
    "for label, encoded in label_mapping.items():\n",
    "    print(f\"{label} → {encoded}\")"
   ]
  },
  {
   "cell_type": "code",
   "execution_count": 17,
   "metadata": {
    "colab": {
     "base_uri": "https://localhost:8080/",
     "height": 206
    },
    "id": "3mLOdR3c6GEp",
    "outputId": "08e72da8-56aa-4f43-d604-cb94ceeb035d"
   },
   "outputs": [
    {
     "data": {
      "text/html": [
       "<div>\n",
       "<style scoped>\n",
       "    .dataframe tbody tr th:only-of-type {\n",
       "        vertical-align: middle;\n",
       "    }\n",
       "\n",
       "    .dataframe tbody tr th {\n",
       "        vertical-align: top;\n",
       "    }\n",
       "\n",
       "    .dataframe thead th {\n",
       "        text-align: right;\n",
       "    }\n",
       "</style>\n",
       "<table border=\"1\" class=\"dataframe\">\n",
       "  <thead>\n",
       "    <tr style=\"text-align: right;\">\n",
       "      <th></th>\n",
       "      <th>question</th>\n",
       "      <th>intent</th>\n",
       "      <th>answer</th>\n",
       "      <th>label</th>\n",
       "    </tr>\n",
       "  </thead>\n",
       "  <tbody>\n",
       "    <tr>\n",
       "      <th>0</th>\n",
       "      <td>saudara laki ini kenapa wifi ku lambat</td>\n",
       "      <td>uncategorized</td>\n",
       "      <td>brooo  itu mah urusan teknisi aku mah jagonya ...</td>\n",
       "      <td>8</td>\n",
       "    </tr>\n",
       "    <tr>\n",
       "      <th>1</th>\n",
       "      <td>apa tempat wisata alam baik di namadaerah</td>\n",
       "      <td>wisata_alam</td>\n",
       "      <td>di namadaerah kamu bisa nemuin banyak tempat w...</td>\n",
       "      <td>9</td>\n",
       "    </tr>\n",
       "    <tr>\n",
       "      <th>2</th>\n",
       "      <td>di namadaerah di mana saya bisa nikmat alam</td>\n",
       "      <td>wisata_alam</td>\n",
       "      <td>kalau kamu lagi di namadaerah dan pengen menik...</td>\n",
       "      <td>9</td>\n",
       "    </tr>\n",
       "    <tr>\n",
       "      <th>3</th>\n",
       "      <td>tempat wisata alam apa yang wajib kunjung di n...</td>\n",
       "      <td>wisata_alam</td>\n",
       "      <td>beberapa destinasi wisata alam yang wajib kamu...</td>\n",
       "      <td>9</td>\n",
       "    </tr>\n",
       "    <tr>\n",
       "      <th>4</th>\n",
       "      <td>ada apa saja di namadaerah yang cocok untuk ci...</td>\n",
       "      <td>wisata_alam</td>\n",
       "      <td>buat pecinta alam namadaerah punya banyak spot...</td>\n",
       "      <td>9</td>\n",
       "    </tr>\n",
       "  </tbody>\n",
       "</table>\n",
       "</div>"
      ],
      "text/plain": [
       "                                            question         intent  \\\n",
       "0             saudara laki ini kenapa wifi ku lambat  uncategorized   \n",
       "1          apa tempat wisata alam baik di namadaerah    wisata_alam   \n",
       "2        di namadaerah di mana saya bisa nikmat alam    wisata_alam   \n",
       "3  tempat wisata alam apa yang wajib kunjung di n...    wisata_alam   \n",
       "4  ada apa saja di namadaerah yang cocok untuk ci...    wisata_alam   \n",
       "\n",
       "                                              answer  label  \n",
       "0  brooo  itu mah urusan teknisi aku mah jagonya ...      8  \n",
       "1  di namadaerah kamu bisa nemuin banyak tempat w...      9  \n",
       "2  kalau kamu lagi di namadaerah dan pengen menik...      9  \n",
       "3  beberapa destinasi wisata alam yang wajib kamu...      9  \n",
       "4  buat pecinta alam namadaerah punya banyak spot...      9  "
      ]
     },
     "execution_count": 17,
     "metadata": {},
     "output_type": "execute_result"
    }
   ],
   "source": [
    "chatbot_cleaned_df.head()"
   ]
  },
  {
   "cell_type": "markdown",
   "metadata": {},
   "source": [
    "## Filtering Text"
   ]
  },
  {
   "cell_type": "code",
   "execution_count": 18,
   "metadata": {},
   "outputs": [
    {
     "data": {
      "text/html": [
       "<div>\n",
       "<style scoped>\n",
       "    .dataframe tbody tr th:only-of-type {\n",
       "        vertical-align: middle;\n",
       "    }\n",
       "\n",
       "    .dataframe tbody tr th {\n",
       "        vertical-align: top;\n",
       "    }\n",
       "\n",
       "    .dataframe thead th {\n",
       "        text-align: right;\n",
       "    }\n",
       "</style>\n",
       "<table border=\"1\" class=\"dataframe\">\n",
       "  <thead>\n",
       "    <tr style=\"text-align: right;\">\n",
       "      <th></th>\n",
       "      <th>question</th>\n",
       "      <th>intent</th>\n",
       "      <th>answer</th>\n",
       "      <th>label</th>\n",
       "      <th>question_filtered</th>\n",
       "    </tr>\n",
       "  </thead>\n",
       "  <tbody>\n",
       "    <tr>\n",
       "      <th>0</th>\n",
       "      <td>saudara laki ini kenapa wifi ku lambat</td>\n",
       "      <td>uncategorized</td>\n",
       "      <td>brooo  itu mah urusan teknisi aku mah jagonya ...</td>\n",
       "      <td>8</td>\n",
       "      <td>[saudara, laki, wifi, lambat]</td>\n",
       "    </tr>\n",
       "    <tr>\n",
       "      <th>1</th>\n",
       "      <td>apa tempat wisata alam baik di namadaerah</td>\n",
       "      <td>wisata_alam</td>\n",
       "      <td>di namadaerah kamu bisa nemuin banyak tempat w...</td>\n",
       "      <td>9</td>\n",
       "      <td>[wisata, alam, namadaerah]</td>\n",
       "    </tr>\n",
       "    <tr>\n",
       "      <th>2</th>\n",
       "      <td>di namadaerah di mana saya bisa nikmat alam</td>\n",
       "      <td>wisata_alam</td>\n",
       "      <td>kalau kamu lagi di namadaerah dan pengen menik...</td>\n",
       "      <td>9</td>\n",
       "      <td>[namadaerah, nikmat, alam]</td>\n",
       "    </tr>\n",
       "    <tr>\n",
       "      <th>3</th>\n",
       "      <td>tempat wisata alam apa yang wajib kunjung di n...</td>\n",
       "      <td>wisata_alam</td>\n",
       "      <td>beberapa destinasi wisata alam yang wajib kamu...</td>\n",
       "      <td>9</td>\n",
       "      <td>[wisata, alam, wajib, kunjung, namadaerah]</td>\n",
       "    </tr>\n",
       "    <tr>\n",
       "      <th>4</th>\n",
       "      <td>ada apa saja di namadaerah yang cocok untuk ci...</td>\n",
       "      <td>wisata_alam</td>\n",
       "      <td>buat pecinta alam namadaerah punya banyak spot...</td>\n",
       "      <td>9</td>\n",
       "      <td>[namadaerah, cocok, cinta, alam]</td>\n",
       "    </tr>\n",
       "  </tbody>\n",
       "</table>\n",
       "</div>"
      ],
      "text/plain": [
       "                                            question         intent  \\\n",
       "0             saudara laki ini kenapa wifi ku lambat  uncategorized   \n",
       "1          apa tempat wisata alam baik di namadaerah    wisata_alam   \n",
       "2        di namadaerah di mana saya bisa nikmat alam    wisata_alam   \n",
       "3  tempat wisata alam apa yang wajib kunjung di n...    wisata_alam   \n",
       "4  ada apa saja di namadaerah yang cocok untuk ci...    wisata_alam   \n",
       "\n",
       "                                              answer  label  \\\n",
       "0  brooo  itu mah urusan teknisi aku mah jagonya ...      8   \n",
       "1  di namadaerah kamu bisa nemuin banyak tempat w...      9   \n",
       "2  kalau kamu lagi di namadaerah dan pengen menik...      9   \n",
       "3  beberapa destinasi wisata alam yang wajib kamu...      9   \n",
       "4  buat pecinta alam namadaerah punya banyak spot...      9   \n",
       "\n",
       "                            question_filtered  \n",
       "0               [saudara, laki, wifi, lambat]  \n",
       "1                  [wisata, alam, namadaerah]  \n",
       "2                  [namadaerah, nikmat, alam]  \n",
       "3  [wisata, alam, wajib, kunjung, namadaerah]  \n",
       "4            [namadaerah, cocok, cinta, alam]  "
      ]
     },
     "execution_count": 18,
     "metadata": {},
     "output_type": "execute_result"
    }
   ],
   "source": [
    "chatbot_cleaned_df['question_filtered'] = chatbot_cleaned_df['question'].apply(tokenizingText)\n",
    "chatbot_cleaned_df['question_filtered'] = chatbot_cleaned_df['question_filtered'].apply(filteringText)\n",
    "# chatbot_cleaned_df['answer'] = chatbot_cleaned_df['answer'].apply(filteringText)\n",
    "chatbot_cleaned_df.head()"
   ]
  },
  {
   "cell_type": "markdown",
   "metadata": {},
   "source": [
    "## To Sentence"
   ]
  },
  {
   "cell_type": "code",
   "execution_count": 19,
   "metadata": {},
   "outputs": [
    {
     "data": {
      "text/html": [
       "<div>\n",
       "<style scoped>\n",
       "    .dataframe tbody tr th:only-of-type {\n",
       "        vertical-align: middle;\n",
       "    }\n",
       "\n",
       "    .dataframe tbody tr th {\n",
       "        vertical-align: top;\n",
       "    }\n",
       "\n",
       "    .dataframe thead th {\n",
       "        text-align: right;\n",
       "    }\n",
       "</style>\n",
       "<table border=\"1\" class=\"dataframe\">\n",
       "  <thead>\n",
       "    <tr style=\"text-align: right;\">\n",
       "      <th></th>\n",
       "      <th>question</th>\n",
       "      <th>intent</th>\n",
       "      <th>answer</th>\n",
       "      <th>label</th>\n",
       "      <th>question_filtered</th>\n",
       "    </tr>\n",
       "  </thead>\n",
       "  <tbody>\n",
       "    <tr>\n",
       "      <th>0</th>\n",
       "      <td>saudara laki wifi lambat</td>\n",
       "      <td>uncategorized</td>\n",
       "      <td>brooo  itu mah urusan teknisi aku mah jagonya ...</td>\n",
       "      <td>8</td>\n",
       "      <td>[saudara, laki, wifi, lambat]</td>\n",
       "    </tr>\n",
       "    <tr>\n",
       "      <th>1</th>\n",
       "      <td>wisata alam namadaerah</td>\n",
       "      <td>wisata_alam</td>\n",
       "      <td>di namadaerah kamu bisa nemuin banyak tempat w...</td>\n",
       "      <td>9</td>\n",
       "      <td>[wisata, alam, namadaerah]</td>\n",
       "    </tr>\n",
       "    <tr>\n",
       "      <th>2</th>\n",
       "      <td>namadaerah nikmat alam</td>\n",
       "      <td>wisata_alam</td>\n",
       "      <td>kalau kamu lagi di namadaerah dan pengen menik...</td>\n",
       "      <td>9</td>\n",
       "      <td>[namadaerah, nikmat, alam]</td>\n",
       "    </tr>\n",
       "    <tr>\n",
       "      <th>3</th>\n",
       "      <td>wisata alam wajib kunjung namadaerah</td>\n",
       "      <td>wisata_alam</td>\n",
       "      <td>beberapa destinasi wisata alam yang wajib kamu...</td>\n",
       "      <td>9</td>\n",
       "      <td>[wisata, alam, wajib, kunjung, namadaerah]</td>\n",
       "    </tr>\n",
       "    <tr>\n",
       "      <th>4</th>\n",
       "      <td>namadaerah cocok cinta alam</td>\n",
       "      <td>wisata_alam</td>\n",
       "      <td>buat pecinta alam namadaerah punya banyak spot...</td>\n",
       "      <td>9</td>\n",
       "      <td>[namadaerah, cocok, cinta, alam]</td>\n",
       "    </tr>\n",
       "  </tbody>\n",
       "</table>\n",
       "</div>"
      ],
      "text/plain": [
       "                               question         intent  \\\n",
       "0              saudara laki wifi lambat  uncategorized   \n",
       "1                wisata alam namadaerah    wisata_alam   \n",
       "2                namadaerah nikmat alam    wisata_alam   \n",
       "3  wisata alam wajib kunjung namadaerah    wisata_alam   \n",
       "4           namadaerah cocok cinta alam    wisata_alam   \n",
       "\n",
       "                                              answer  label  \\\n",
       "0  brooo  itu mah urusan teknisi aku mah jagonya ...      8   \n",
       "1  di namadaerah kamu bisa nemuin banyak tempat w...      9   \n",
       "2  kalau kamu lagi di namadaerah dan pengen menik...      9   \n",
       "3  beberapa destinasi wisata alam yang wajib kamu...      9   \n",
       "4  buat pecinta alam namadaerah punya banyak spot...      9   \n",
       "\n",
       "                            question_filtered  \n",
       "0               [saudara, laki, wifi, lambat]  \n",
       "1                  [wisata, alam, namadaerah]  \n",
       "2                  [namadaerah, nikmat, alam]  \n",
       "3  [wisata, alam, wajib, kunjung, namadaerah]  \n",
       "4            [namadaerah, cocok, cinta, alam]  "
      ]
     },
     "execution_count": 19,
     "metadata": {},
     "output_type": "execute_result"
    }
   ],
   "source": [
    "chatbot_cleaned_df['question'] = chatbot_cleaned_df['question_filtered'].apply(toSentence)\n",
    "chatbot_cleaned_df.head()"
   ]
  },
  {
   "cell_type": "markdown",
   "metadata": {
    "id": "vl9VYeQGxw_T"
   },
   "source": [
    "## Tokenizing Text"
   ]
  },
  {
   "cell_type": "code",
   "execution_count": 20,
   "metadata": {
    "colab": {
     "base_uri": "https://localhost:8080/",
     "height": 535,
     "referenced_widgets": [
      "91dd6832e9b14a75bfb2327b742d0bca",
      "4595a53fabc5462b8bd5b863954de91d",
      "e7a590922dfc4e868266d8da51ed500f",
      "0d34f48732bb454082652c76262e7ddf",
      "4533c99bc7164ca4aedc02b7bca8e5d3",
      "2d81cffe5a4c46a69170df3a418a2072",
      "029c92824cf84b798127417cee4980e2",
      "272261cba33e4c61ac3e29690e48ceae",
      "ff6bfa2689434af78688844f5e5ac530",
      "03c5cd24371f4fa9bf5f277cb67cd169",
      "2c5ee7506432470baf2355eb2bffe8a4"
     ]
    },
    "id": "uXH0VxmJxzv_",
    "outputId": "5108682c-088c-437d-aa81-320016986292"
   },
   "outputs": [
    {
     "name": "stderr",
     "output_type": "stream",
     "text": [
      "Map:   0%|          | 0/723 [00:00<?, ? examples/s]Asking to truncate to max_length but no maximum length is provided and the model has no predefined maximum length. Default to no truncation.\n",
      "Map: 100%|██████████| 723/723 [00:00<00:00, 4714.77 examples/s]\n"
     ]
    },
    {
     "data": {
      "text/plain": [
       "{'question': 'saudara laki wifi lambat',\n",
       " 'intent': 'uncategorized',\n",
       " 'answer': 'brooo  itu mah urusan teknisi aku mah jagonya cari tmpt sinyal baguss buat ngonten wkwk',\n",
       " 'label': 8,\n",
       " 'question_filtered': ['saudara', 'laki', 'wifi', 'lambat'],\n",
       " 'input_ids': [2, 3650, 7041, 6007, 5163, 3, 0, 0, 0, 0, 0, 0, 0, 0],\n",
       " 'token_type_ids': [0, 0, 0, 0, 0, 0, 0, 0, 0, 0, 0, 0, 0, 0],\n",
       " 'attention_mask': [1, 1, 1, 1, 1, 1, 0, 0, 0, 0, 0, 0, 0, 0],\n",
       " 'labels': 8}"
      ]
     },
     "execution_count": 20,
     "metadata": {},
     "output_type": "execute_result"
    }
   ],
   "source": [
    "# chatbot_cleaned_df['question'] = chatbot_cleaned_df['question'].apply(tokenizingText)\n",
    "# chatbot_cleaned_df['answer'] = chatbot_cleaned_df['answer'].apply(tokenizingText)\n",
    "\n",
    "dataset = Dataset.from_pandas(chatbot_cleaned_df)\n",
    "tokenized_dataset = dataset.map(tokenize, batched=True)\n",
    "\n",
    "tokenized_dataset[0]"
   ]
  },
  {
   "cell_type": "markdown",
   "metadata": {
    "id": "w0yJM-Zg16nr"
   },
   "source": [
    "# Modeling"
   ]
  },
  {
   "cell_type": "markdown",
   "metadata": {
    "id": "m99LPRX82Ovh"
   },
   "source": [
    "## Split Dataset"
   ]
  },
  {
   "cell_type": "code",
   "execution_count": 21,
   "metadata": {
    "id": "l5w1nm362DZg"
   },
   "outputs": [],
   "source": [
    "split_dataset = tokenized_dataset.train_test_split(test_size=0.2, seed=42)"
   ]
  },
  {
   "cell_type": "markdown",
   "metadata": {
    "id": "V4tpD39h2RFv"
   },
   "source": [
    "## Load Pretrained Model"
   ]
  },
  {
   "cell_type": "code",
   "execution_count": 22,
   "metadata": {
    "colab": {
     "base_uri": "https://localhost:8080/"
    },
    "id": "YqZ60_mn2VBZ",
    "outputId": "372ef815-c677-4109-ea24-73c7f4f9828e"
   },
   "outputs": [
    {
     "name": "stderr",
     "output_type": "stream",
     "text": [
      "Some weights of BertForSequenceClassification were not initialized from the model checkpoint at indobenchmark/indobert-base-p1 and are newly initialized: ['classifier.bias', 'classifier.weight']\n",
      "You should probably TRAIN this model on a down-stream task to be able to use it for predictions and inference.\n"
     ]
    }
   ],
   "source": [
    "num_labels = len(chatbot_cleaned_df['label'].unique())\n",
    "\n",
    "model = AutoModelForSequenceClassification.from_pretrained(\n",
    "    \"indobenchmark/indobert-base-p1\",\n",
    "    num_labels=num_labels\n",
    ")"
   ]
  },
  {
   "cell_type": "markdown",
   "metadata": {
    "id": "FtCil-Hp2t1f"
   },
   "source": [
    "## Training Argument"
   ]
  },
  {
   "cell_type": "code",
   "execution_count": 23,
   "metadata": {
    "colab": {
     "base_uri": "https://localhost:8080/"
    },
    "id": "hilFNvSd2wUv",
    "outputId": "01714bf9-2307-45a0-8f07-a2184ac067c0"
   },
   "outputs": [
    {
     "name": "stderr",
     "output_type": "stream",
     "text": [
      "c:\\Users\\ASUS\\Desktop\\arkanesia-dataset\\arkanesia_env\\Lib\\site-packages\\transformers\\training_args.py:1611: FutureWarning: `evaluation_strategy` is deprecated and will be removed in version 4.46 of 🤗 Transformers. Use `eval_strategy` instead\n",
      "  warnings.warn(\n",
      "Using the `WANDB_DISABLED` environment variable is deprecated and will be removed in v5. Use the --report_to flag to control the integrations used for logging result (for instance --report_to none).\n"
     ]
    }
   ],
   "source": [
    "training_args = TrainingArguments(\n",
    "    output_dir=\"../models/results\",\n",
    "    evaluation_strategy=\"epoch\",\n",
    "    learning_rate=2e-5,\n",
    "    per_device_train_batch_size=8,\n",
    "    per_device_eval_batch_size=8,\n",
    "    num_train_epochs=4,\n",
    "    weight_decay=0.01\n",
    ")"
   ]
  },
  {
   "cell_type": "markdown",
   "metadata": {
    "id": "HbYf13zO27s1"
   },
   "source": [
    "## Training Setup"
   ]
  },
  {
   "cell_type": "code",
   "execution_count": 24,
   "metadata": {
    "colab": {
     "base_uri": "https://localhost:8080/"
    },
    "id": "ulJUeLzp29hp",
    "outputId": "1a4ad78c-f921-4e23-96e4-7d4cdc5e0a23"
   },
   "outputs": [
    {
     "name": "stderr",
     "output_type": "stream",
     "text": [
      "C:\\Users\\ASUS\\AppData\\Local\\Temp\\ipykernel_3760\\3151952263.py:5: FutureWarning: `tokenizer` is deprecated and will be removed in version 5.0.0 for `Trainer.__init__`. Use `processing_class` instead.\n",
      "  trainer = Trainer(\n"
     ]
    }
   ],
   "source": [
    "def compute_metrics(p):\n",
    "    preds = p.predictions.argmax(axis=1)\n",
    "    return {\"accuracy\": accuracy_score(p.label_ids, preds)}\n",
    "\n",
    "trainer = Trainer(\n",
    "    model=model,\n",
    "    args=training_args,\n",
    "    train_dataset=split_dataset['train'],\n",
    "    eval_dataset=split_dataset['test'],\n",
    "    tokenizer=tokenizer,\n",
    "    compute_metrics=compute_metrics\n",
    ")"
   ]
  },
  {
   "cell_type": "markdown",
   "metadata": {
    "id": "_Y7SsFDF3LwG"
   },
   "source": [
    "## Train The Model"
   ]
  },
  {
   "cell_type": "code",
   "execution_count": 25,
   "metadata": {
    "colab": {
     "base_uri": "https://localhost:8080/",
     "height": 428
    },
    "id": "1wss8dZp3Oak",
    "outputId": "ebbce6e9-892b-44c9-cd0d-bb9fefbc4908"
   },
   "outputs": [
    {
     "data": {
      "text/html": [
       "\n",
       "    <div>\n",
       "      \n",
       "      <progress value='292' max='292' style='width:300px; height:20px; vertical-align: middle;'></progress>\n",
       "      [292/292 11:12, Epoch 4/4]\n",
       "    </div>\n",
       "    <table border=\"1\" class=\"dataframe\">\n",
       "  <thead>\n",
       " <tr style=\"text-align: left;\">\n",
       "      <th>Epoch</th>\n",
       "      <th>Training Loss</th>\n",
       "      <th>Validation Loss</th>\n",
       "      <th>Accuracy</th>\n",
       "    </tr>\n",
       "  </thead>\n",
       "  <tbody>\n",
       "    <tr>\n",
       "      <td>1</td>\n",
       "      <td>No log</td>\n",
       "      <td>1.111138</td>\n",
       "      <td>0.737931</td>\n",
       "    </tr>\n",
       "    <tr>\n",
       "      <td>2</td>\n",
       "      <td>No log</td>\n",
       "      <td>0.695673</td>\n",
       "      <td>0.827586</td>\n",
       "    </tr>\n",
       "    <tr>\n",
       "      <td>3</td>\n",
       "      <td>No log</td>\n",
       "      <td>0.637040</td>\n",
       "      <td>0.820690</td>\n",
       "    </tr>\n",
       "    <tr>\n",
       "      <td>4</td>\n",
       "      <td>No log</td>\n",
       "      <td>0.579998</td>\n",
       "      <td>0.855172</td>\n",
       "    </tr>\n",
       "  </tbody>\n",
       "</table><p>"
      ],
      "text/plain": [
       "<IPython.core.display.HTML object>"
      ]
     },
     "metadata": {},
     "output_type": "display_data"
    },
    {
     "data": {
      "text/plain": [
       "TrainOutput(global_step=292, training_loss=0.8849016999545163, metrics={'train_runtime': 676.335, 'train_samples_per_second': 3.418, 'train_steps_per_second': 0.432, 'total_flos': 16635493528416.0, 'train_loss': 0.8849016999545163, 'epoch': 4.0})"
      ]
     },
     "execution_count": 25,
     "metadata": {},
     "output_type": "execute_result"
    }
   ],
   "source": [
    "trainer.train()"
   ]
  },
  {
   "cell_type": "code",
   "execution_count": 28,
   "metadata": {},
   "outputs": [
    {
     "data": {
      "text/html": [
       "\n",
       "    <div>\n",
       "      \n",
       "      <progress value='19' max='19' style='width:300px; height:20px; vertical-align: middle;'></progress>\n",
       "      [19/19 00:05]\n",
       "    </div>\n",
       "    "
      ],
      "text/plain": [
       "<IPython.core.display.HTML object>"
      ]
     },
     "metadata": {},
     "output_type": "display_data"
    },
    {
     "name": "stdout",
     "output_type": "stream",
     "text": [
      "{'eval_loss': 0.5799984931945801, 'eval_accuracy': 0.8551724137931035, 'eval_runtime': 6.0788, 'eval_samples_per_second': 23.853, 'eval_steps_per_second': 3.126, 'epoch': 4.0}\n"
     ]
    }
   ],
   "source": [
    "eval_result = trainer.evaluate()\n",
    "print(eval_result)"
   ]
  },
  {
   "cell_type": "markdown",
   "metadata": {},
   "source": [
    "# Simpan Model"
   ]
  },
  {
   "cell_type": "code",
   "execution_count": 26,
   "metadata": {},
   "outputs": [],
   "source": [
    "trainer.save_model(\"../models/chatbot_bert_model\")"
   ]
  },
  {
   "cell_type": "code",
   "execution_count": 50,
   "metadata": {},
   "outputs": [
    {
     "name": "stderr",
     "output_type": "stream",
     "text": [
      "Asking to truncate to max_length but no maximum length is provided and the model has no predefined maximum length. Default to no truncation.\n"
     ]
    },
    {
     "data": {
      "text/plain": [
       "('wisata_bahari', 0.8435835838317871)"
      ]
     },
     "execution_count": 50,
     "metadata": {},
     "output_type": "execute_result"
    }
   ],
   "source": [
    "from transformers import AutoTokenizer, AutoModelForSequenceClassification\n",
    "import torch\n",
    "\n",
    "model = AutoModelForSequenceClassification.from_pretrained(\"../models/chatbot_bert_model\")\n",
    "tokenizer = AutoTokenizer.from_pretrained(\"../models/chatbot_bert_model\")\n",
    "\n",
    "\n",
    "label_mapping = {\n",
    "    0: \"aktivitas\", 1: \"budget\", 2: \"cuaca\", 3: \"detail_wisata\",\n",
    "    4: \"kuliner\", 5: \"lokasi_wisata\", 6: \"penginapan\", 7: \"transportasi\",\n",
    "    8: \"uncategorized\", 9: \"wisata_alam\", 10: \"wisata_bahari\", 11: \"wisata_budaya\",\n",
    "    12: \"wisata_edukasi\", 13: \"wisata_rekreasi\", 14: \"wisata_sejarah\"\n",
    "}\n",
    "\n",
    "def preprocess(text):\n",
    "    cleaned_text = cleaningText(text)\n",
    "    cleaned_text = casefoldingText(cleaned_text)\n",
    "    cleaned_text = fix_slangwords(cleaned_text)\n",
    "    cleaned_text = stemmingText(cleaned_text)\n",
    "    return cleaned_text\n",
    "\n",
    "def predict(text):\n",
    "    cleaned_text = preprocess(text)\n",
    "    inputs = tokenizer(cleaned_text, return_tensors=\"pt\", truncation=True, padding=True)\n",
    "    with torch.no_grad():\n",
    "        outputs = model(**inputs)\n",
    "    probs = torch.nn.functional.softmax(outputs.logits, dim=1)\n",
    "    label = torch.argmax(probs, dim=1).item()\n",
    "    confidence = probs[0][label].item()\n",
    "    return label_mapping[label], confidence\n",
    "\n",
    "# Tes input\n",
    "predict(\"kamu pernah jaln jalan ke singapore?\")\n"
   ]
  }
 ],
 "metadata": {
  "colab": {
   "provenance": []
  },
  "kernelspec": {
   "display_name": "Python 3",
   "name": "python3"
  },
  "language_info": {
   "codemirror_mode": {
    "name": "ipython",
    "version": 3
   },
   "file_extension": ".py",
   "mimetype": "text/x-python",
   "name": "python",
   "nbconvert_exporter": "python",
   "pygments_lexer": "ipython3",
   "version": "3.11.5"
  }
 },
 "nbformat": 4,
 "nbformat_minor": 0
}
