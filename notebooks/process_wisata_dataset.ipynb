{
 "cells": [
  {
   "cell_type": "markdown",
   "metadata": {},
   "source": [
    "# Import Library"
   ]
  },
  {
   "cell_type": "code",
   "execution_count": 3,
   "metadata": {},
   "outputs": [
    {
     "name": "stderr",
     "output_type": "stream",
     "text": [
      "[nltk_data] Downloading package stopwords to\n",
      "[nltk_data]     C:\\Users\\ASUS\\AppData\\Roaming\\nltk_data...\n",
      "[nltk_data]   Package stopwords is already up-to-date!\n",
      "c:\\Users\\ASUS\\Desktop\\arkanesia-dataset\\arkanesia_env\\Lib\\site-packages\\tqdm\\auto.py:21: TqdmWarning: IProgress not found. Please update jupyter and ipywidgets. See https://ipywidgets.readthedocs.io/en/stable/user_install.html\n",
      "  from .autonotebook import tqdm as notebook_tqdm\n"
     ]
    },
    {
     "name": "stdout",
     "output_type": "stream",
     "text": [
      "WARNING:tensorflow:From c:\\Users\\ASUS\\Desktop\\arkanesia-dataset\\arkanesia_env\\Lib\\site-packages\\tf_keras\\src\\losses.py:2976: The name tf.losses.sparse_softmax_cross_entropy is deprecated. Please use tf.compat.v1.losses.sparse_softmax_cross_entropy instead.\n",
      "\n"
     ]
    }
   ],
   "source": [
    "import sys\n",
    "import os\n",
    "sys.path.append(os.path.abspath(os.path.join(os.getcwd(), '..')))\n",
    "import pandas as pd\n",
    "from utils.preprocessing import cleaningText\n",
    "from utils.preprocessing import casefoldingText\n",
    "from utils.preprocessing import stemmingText\n",
    "from utils.preprocessing import filteringText\n",
    "from sentence_transformers import SentenceTransformer, util\n",
    "import pandas as pd\n",
    "\n",
    "# Load model\n",
    "model = SentenceTransformer('distiluse-base-multilingual-cased')"
   ]
  },
  {
   "cell_type": "markdown",
   "metadata": {},
   "source": [
    "# Load Dataset"
   ]
  },
  {
   "cell_type": "code",
   "execution_count": 4,
   "metadata": {},
   "outputs": [
    {
     "data": {
      "text/html": [
       "<div>\n",
       "<style scoped>\n",
       "    .dataframe tbody tr th:only-of-type {\n",
       "        vertical-align: middle;\n",
       "    }\n",
       "\n",
       "    .dataframe tbody tr th {\n",
       "        vertical-align: top;\n",
       "    }\n",
       "\n",
       "    .dataframe thead th {\n",
       "        text-align: right;\n",
       "    }\n",
       "</style>\n",
       "<table border=\"1\" class=\"dataframe\">\n",
       "  <thead>\n",
       "    <tr style=\"text-align: right;\">\n",
       "      <th></th>\n",
       "      <th>name</th>\n",
       "      <th>address</th>\n",
       "      <th>category</th>\n",
       "      <th>city</th>\n",
       "      <th>regency</th>\n",
       "      <th>province</th>\n",
       "      <th>description</th>\n",
       "      <th>keywords</th>\n",
       "      <th>price</th>\n",
       "    </tr>\n",
       "  </thead>\n",
       "  <tbody>\n",
       "    <tr>\n",
       "      <th>0</th>\n",
       "      <td>Pantai Lampuuk</td>\n",
       "      <td>Lampuuk, Lhoknga</td>\n",
       "      <td>Wisata Bahari</td>\n",
       "      <td>Banda Aceh</td>\n",
       "      <td>Aceh Besar</td>\n",
       "      <td>Aceh</td>\n",
       "      <td>Pantai indah dengan pasir putih dan ombak yang...</td>\n",
       "      <td>Pantai, Lampuuk, Lhoknga, Aceh, Surfing</td>\n",
       "      <td>0</td>\n",
       "    </tr>\n",
       "    <tr>\n",
       "      <th>1</th>\n",
       "      <td>Pulau Weh</td>\n",
       "      <td>Pulau Weh, Sabang</td>\n",
       "      <td>Wisata Bahari</td>\n",
       "      <td>Sabang</td>\n",
       "      <td>Sabang</td>\n",
       "      <td>Aceh</td>\n",
       "      <td>Pulau yang terkenal dengan keindahan alam bawa...</td>\n",
       "      <td>Pulau, Weh, Sabang, Wisata Bahari, Diving</td>\n",
       "      <td>0</td>\n",
       "    </tr>\n",
       "    <tr>\n",
       "      <th>2</th>\n",
       "      <td>Pantai Ujong Blang</td>\n",
       "      <td>Ujong Blang, Lhokseumawe</td>\n",
       "      <td>Wisata Bahari</td>\n",
       "      <td>Lhokseumawe</td>\n",
       "      <td>Aceh Utara</td>\n",
       "      <td>Aceh</td>\n",
       "      <td>Pantai yang cocok untuk bersantai dengan peman...</td>\n",
       "      <td>Pantai, Ujong Blang, Lhokseumawe, Aceh Utara</td>\n",
       "      <td>0</td>\n",
       "    </tr>\n",
       "    <tr>\n",
       "      <th>3</th>\n",
       "      <td>Pantai Kuala Merisi</td>\n",
       "      <td>Kuala Merisi, Aceh Timur</td>\n",
       "      <td>Wisata Bahari</td>\n",
       "      <td>Langsa</td>\n",
       "      <td>Aceh Timur</td>\n",
       "      <td>Aceh</td>\n",
       "      <td>Pantai yang menawarkan keindahan alam dan kete...</td>\n",
       "      <td>Pantai, Kuala Merisi, Langsa, Aceh Timur</td>\n",
       "      <td>0</td>\n",
       "    </tr>\n",
       "    <tr>\n",
       "      <th>4</th>\n",
       "      <td>Pantai Lagoi</td>\n",
       "      <td>Lagoi, Bener Meriah</td>\n",
       "      <td>Wisata Bahari</td>\n",
       "      <td>Bener Meriah</td>\n",
       "      <td>Aceh</td>\n",
       "      <td>Aceh</td>\n",
       "      <td>Pantai eksotis dengan air laut yang jernih dan...</td>\n",
       "      <td>Pantai, Lagoi, Bener Meriah, Aceh</td>\n",
       "      <td>0</td>\n",
       "    </tr>\n",
       "  </tbody>\n",
       "</table>\n",
       "</div>"
      ],
      "text/plain": [
       "                  name                   address       category          city  \\\n",
       "0       Pantai Lampuuk          Lampuuk, Lhoknga  Wisata Bahari    Banda Aceh   \n",
       "1            Pulau Weh         Pulau Weh, Sabang  Wisata Bahari        Sabang   \n",
       "2   Pantai Ujong Blang  Ujong Blang, Lhokseumawe  Wisata Bahari   Lhokseumawe   \n",
       "3  Pantai Kuala Merisi  Kuala Merisi, Aceh Timur  Wisata Bahari        Langsa   \n",
       "4         Pantai Lagoi       Lagoi, Bener Meriah  Wisata Bahari  Bener Meriah   \n",
       "\n",
       "      regency province                                        description  \\\n",
       "0  Aceh Besar     Aceh  Pantai indah dengan pasir putih dan ombak yang...   \n",
       "1      Sabang     Aceh  Pulau yang terkenal dengan keindahan alam bawa...   \n",
       "2  Aceh Utara     Aceh  Pantai yang cocok untuk bersantai dengan peman...   \n",
       "3  Aceh Timur     Aceh  Pantai yang menawarkan keindahan alam dan kete...   \n",
       "4        Aceh     Aceh  Pantai eksotis dengan air laut yang jernih dan...   \n",
       "\n",
       "                                       keywords price  \n",
       "0       Pantai, Lampuuk, Lhoknga, Aceh, Surfing     0  \n",
       "1     Pulau, Weh, Sabang, Wisata Bahari, Diving     0  \n",
       "2  Pantai, Ujong Blang, Lhokseumawe, Aceh Utara     0  \n",
       "3      Pantai, Kuala Merisi, Langsa, Aceh Timur     0  \n",
       "4             Pantai, Lagoi, Bener Meriah, Aceh     0  "
      ]
     },
     "execution_count": 4,
     "metadata": {},
     "output_type": "execute_result"
    }
   ],
   "source": [
    "wisata_url = \"https://raw.githubusercontent.com/novaandini/arkanesia/refs/heads/main/data/wisata_indonesia.csv\"\n",
    "\n",
    "wisata_df = pd.read_csv(wisata_url)\n",
    "wisata_df.head()"
   ]
  },
  {
   "cell_type": "markdown",
   "metadata": {},
   "source": [
    "# Explore Data"
   ]
  },
  {
   "cell_type": "code",
   "execution_count": 5,
   "metadata": {},
   "outputs": [
    {
     "data": {
      "text/plain": [
       "np.int64(0)"
      ]
     },
     "execution_count": 5,
     "metadata": {},
     "output_type": "execute_result"
    }
   ],
   "source": [
    "wisata_df.duplicated().sum()"
   ]
  },
  {
   "cell_type": "code",
   "execution_count": 6,
   "metadata": {},
   "outputs": [
    {
     "data": {
      "text/plain": [
       "name             0\n",
       "address         49\n",
       "category       430\n",
       "city            17\n",
       "regency          0\n",
       "province         0\n",
       "description      0\n",
       "keywords         0\n",
       "price            0\n",
       "dtype: int64"
      ]
     },
     "execution_count": 6,
     "metadata": {},
     "output_type": "execute_result"
    }
   ],
   "source": [
    "wisata_df.isnull().sum()"
   ]
  },
  {
   "cell_type": "code",
   "execution_count": 7,
   "metadata": {},
   "outputs": [
    {
     "data": {
      "text/html": [
       "<div>\n",
       "<style scoped>\n",
       "    .dataframe tbody tr th:only-of-type {\n",
       "        vertical-align: middle;\n",
       "    }\n",
       "\n",
       "    .dataframe tbody tr th {\n",
       "        vertical-align: top;\n",
       "    }\n",
       "\n",
       "    .dataframe thead th {\n",
       "        text-align: right;\n",
       "    }\n",
       "</style>\n",
       "<table border=\"1\" class=\"dataframe\">\n",
       "  <thead>\n",
       "    <tr style=\"text-align: right;\">\n",
       "      <th></th>\n",
       "      <th>name</th>\n",
       "      <th>address</th>\n",
       "      <th>category</th>\n",
       "      <th>city</th>\n",
       "      <th>regency</th>\n",
       "      <th>province</th>\n",
       "      <th>description</th>\n",
       "      <th>keywords</th>\n",
       "      <th>price</th>\n",
       "    </tr>\n",
       "  </thead>\n",
       "  <tbody>\n",
       "    <tr>\n",
       "      <th>count</th>\n",
       "      <td>5875</td>\n",
       "      <td>5826</td>\n",
       "      <td>5445</td>\n",
       "      <td>5858</td>\n",
       "      <td>5875</td>\n",
       "      <td>5875</td>\n",
       "      <td>5875</td>\n",
       "      <td>5875</td>\n",
       "      <td>5875</td>\n",
       "    </tr>\n",
       "    <tr>\n",
       "      <th>unique</th>\n",
       "      <td>5253</td>\n",
       "      <td>3794</td>\n",
       "      <td>336</td>\n",
       "      <td>589</td>\n",
       "      <td>389</td>\n",
       "      <td>47</td>\n",
       "      <td>5790</td>\n",
       "      <td>5257</td>\n",
       "      <td>166</td>\n",
       "    </tr>\n",
       "    <tr>\n",
       "      <th>top</th>\n",
       "      <td>Taman Makam Pahlawan</td>\n",
       "      <td>Merauke, Papua Selatan</td>\n",
       "      <td>Tempat Bermain</td>\n",
       "      <td>Sorong</td>\n",
       "      <td>Manokwari</td>\n",
       "      <td>Aceh</td>\n",
       "      <td>Banten</td>\n",
       "      <td>gunung, pendakian, alam</td>\n",
       "      <td>0</td>\n",
       "    </tr>\n",
       "    <tr>\n",
       "      <th>freq</th>\n",
       "      <td>10</td>\n",
       "      <td>177</td>\n",
       "      <td>526</td>\n",
       "      <td>216</td>\n",
       "      <td>203</td>\n",
       "      <td>228</td>\n",
       "      <td>36</td>\n",
       "      <td>23</td>\n",
       "      <td>2812</td>\n",
       "    </tr>\n",
       "  </tbody>\n",
       "</table>\n",
       "</div>"
      ],
      "text/plain": [
       "                        name                 address        category    city  \\\n",
       "count                   5875                    5826            5445    5858   \n",
       "unique                  5253                    3794             336     589   \n",
       "top     Taman Makam Pahlawan  Merauke, Papua Selatan  Tempat Bermain  Sorong   \n",
       "freq                      10                     177             526     216   \n",
       "\n",
       "          regency province description                 keywords price  \n",
       "count        5875     5875        5875                     5875  5875  \n",
       "unique        389       47        5790                     5257   166  \n",
       "top     Manokwari     Aceh      Banten  gunung, pendakian, alam     0  \n",
       "freq          203      228          36                       23  2812  "
      ]
     },
     "execution_count": 7,
     "metadata": {},
     "output_type": "execute_result"
    }
   ],
   "source": [
    "wisata_df.describe()"
   ]
  },
  {
   "cell_type": "code",
   "execution_count": 8,
   "metadata": {},
   "outputs": [
    {
     "name": "stdout",
     "output_type": "stream",
     "text": [
      "<class 'pandas.core.frame.DataFrame'>\n",
      "RangeIndex: 5875 entries, 0 to 5874\n",
      "Data columns (total 9 columns):\n",
      " #   Column       Non-Null Count  Dtype \n",
      "---  ------       --------------  ----- \n",
      " 0   name         5875 non-null   object\n",
      " 1   address      5826 non-null   object\n",
      " 2   category     5445 non-null   object\n",
      " 3   city         5858 non-null   object\n",
      " 4   regency      5875 non-null   object\n",
      " 5   province     5875 non-null   object\n",
      " 6   description  5875 non-null   object\n",
      " 7   keywords     5875 non-null   object\n",
      " 8   price        5875 non-null   object\n",
      "dtypes: object(9)\n",
      "memory usage: 413.2+ KB\n"
     ]
    }
   ],
   "source": [
    "wisata_df.info()"
   ]
  },
  {
   "cell_type": "markdown",
   "metadata": {},
   "source": [
    "# Handle Null Data"
   ]
  },
  {
   "cell_type": "code",
   "execution_count": 10,
   "metadata": {},
   "outputs": [
    {
     "ename": "KeyError",
     "evalue": "'regency'",
     "output_type": "error",
     "traceback": [
      "\u001b[31m---------------------------------------------------------------------------\u001b[39m",
      "\u001b[31mKeyError\u001b[39m                                  Traceback (most recent call last)",
      "\u001b[36mFile \u001b[39m\u001b[32mc:\\Users\\ASUS\\Desktop\\arkanesia-dataset\\arkanesia_env\\Lib\\site-packages\\pandas\\core\\indexes\\base.py:3805\u001b[39m, in \u001b[36mIndex.get_loc\u001b[39m\u001b[34m(self, key)\u001b[39m\n\u001b[32m   3804\u001b[39m \u001b[38;5;28;01mtry\u001b[39;00m:\n\u001b[32m-> \u001b[39m\u001b[32m3805\u001b[39m     \u001b[38;5;28;01mreturn\u001b[39;00m \u001b[38;5;28;43mself\u001b[39;49m\u001b[43m.\u001b[49m\u001b[43m_engine\u001b[49m\u001b[43m.\u001b[49m\u001b[43mget_loc\u001b[49m\u001b[43m(\u001b[49m\u001b[43mcasted_key\u001b[49m\u001b[43m)\u001b[49m\n\u001b[32m   3806\u001b[39m \u001b[38;5;28;01mexcept\u001b[39;00m \u001b[38;5;167;01mKeyError\u001b[39;00m \u001b[38;5;28;01mas\u001b[39;00m err:\n",
      "\u001b[36mFile \u001b[39m\u001b[32mindex.pyx:167\u001b[39m, in \u001b[36mpandas._libs.index.IndexEngine.get_loc\u001b[39m\u001b[34m()\u001b[39m\n",
      "\u001b[36mFile \u001b[39m\u001b[32mindex.pyx:196\u001b[39m, in \u001b[36mpandas._libs.index.IndexEngine.get_loc\u001b[39m\u001b[34m()\u001b[39m\n",
      "\u001b[36mFile \u001b[39m\u001b[32mpandas\\\\_libs\\\\hashtable_class_helper.pxi:7081\u001b[39m, in \u001b[36mpandas._libs.hashtable.PyObjectHashTable.get_item\u001b[39m\u001b[34m()\u001b[39m\n",
      "\u001b[36mFile \u001b[39m\u001b[32mpandas\\\\_libs\\\\hashtable_class_helper.pxi:7089\u001b[39m, in \u001b[36mpandas._libs.hashtable.PyObjectHashTable.get_item\u001b[39m\u001b[34m()\u001b[39m\n",
      "\u001b[31mKeyError\u001b[39m: 'regency'",
      "\nThe above exception was the direct cause of the following exception:\n",
      "\u001b[31mKeyError\u001b[39m                                  Traceback (most recent call last)",
      "\u001b[36mCell\u001b[39m\u001b[36m \u001b[39m\u001b[32mIn[10]\u001b[39m\u001b[32m, line 1\u001b[39m\n\u001b[32m----> \u001b[39m\u001b[32m1\u001b[39m wisata_df[\u001b[33m'\u001b[39m\u001b[33mregion\u001b[39m\u001b[33m'\u001b[39m] = \u001b[43mwisata_df\u001b[49m\u001b[43m[\u001b[49m\u001b[33;43m'\u001b[39;49m\u001b[33;43mregency\u001b[39;49m\u001b[33;43m'\u001b[39;49m\u001b[43m]\u001b[49m\n\u001b[32m      2\u001b[39m wisata_df.drop([\u001b[33m'\u001b[39m\u001b[33mcategory\u001b[39m\u001b[33m'\u001b[39m, \u001b[33m'\u001b[39m\u001b[33mcity\u001b[39m\u001b[33m'\u001b[39m, \u001b[33m'\u001b[39m\u001b[33mregency\u001b[39m\u001b[33m'\u001b[39m], axis=\u001b[32m1\u001b[39m, inplace=\u001b[38;5;28;01mTrue\u001b[39;00m)\n\u001b[32m      3\u001b[39m wisata_df.to_csv(\u001b[33m\"\u001b[39m\u001b[33m../data/wisata.csv\u001b[39m\u001b[33m\"\u001b[39m, index=\u001b[38;5;28;01mFalse\u001b[39;00m)\n",
      "\u001b[36mFile \u001b[39m\u001b[32mc:\\Users\\ASUS\\Desktop\\arkanesia-dataset\\arkanesia_env\\Lib\\site-packages\\pandas\\core\\frame.py:4102\u001b[39m, in \u001b[36mDataFrame.__getitem__\u001b[39m\u001b[34m(self, key)\u001b[39m\n\u001b[32m   4100\u001b[39m \u001b[38;5;28;01mif\u001b[39;00m \u001b[38;5;28mself\u001b[39m.columns.nlevels > \u001b[32m1\u001b[39m:\n\u001b[32m   4101\u001b[39m     \u001b[38;5;28;01mreturn\u001b[39;00m \u001b[38;5;28mself\u001b[39m._getitem_multilevel(key)\n\u001b[32m-> \u001b[39m\u001b[32m4102\u001b[39m indexer = \u001b[38;5;28;43mself\u001b[39;49m\u001b[43m.\u001b[49m\u001b[43mcolumns\u001b[49m\u001b[43m.\u001b[49m\u001b[43mget_loc\u001b[49m\u001b[43m(\u001b[49m\u001b[43mkey\u001b[49m\u001b[43m)\u001b[49m\n\u001b[32m   4103\u001b[39m \u001b[38;5;28;01mif\u001b[39;00m is_integer(indexer):\n\u001b[32m   4104\u001b[39m     indexer = [indexer]\n",
      "\u001b[36mFile \u001b[39m\u001b[32mc:\\Users\\ASUS\\Desktop\\arkanesia-dataset\\arkanesia_env\\Lib\\site-packages\\pandas\\core\\indexes\\base.py:3812\u001b[39m, in \u001b[36mIndex.get_loc\u001b[39m\u001b[34m(self, key)\u001b[39m\n\u001b[32m   3807\u001b[39m     \u001b[38;5;28;01mif\u001b[39;00m \u001b[38;5;28misinstance\u001b[39m(casted_key, \u001b[38;5;28mslice\u001b[39m) \u001b[38;5;129;01mor\u001b[39;00m (\n\u001b[32m   3808\u001b[39m         \u001b[38;5;28misinstance\u001b[39m(casted_key, abc.Iterable)\n\u001b[32m   3809\u001b[39m         \u001b[38;5;129;01mand\u001b[39;00m \u001b[38;5;28many\u001b[39m(\u001b[38;5;28misinstance\u001b[39m(x, \u001b[38;5;28mslice\u001b[39m) \u001b[38;5;28;01mfor\u001b[39;00m x \u001b[38;5;129;01min\u001b[39;00m casted_key)\n\u001b[32m   3810\u001b[39m     ):\n\u001b[32m   3811\u001b[39m         \u001b[38;5;28;01mraise\u001b[39;00m InvalidIndexError(key)\n\u001b[32m-> \u001b[39m\u001b[32m3812\u001b[39m     \u001b[38;5;28;01mraise\u001b[39;00m \u001b[38;5;167;01mKeyError\u001b[39;00m(key) \u001b[38;5;28;01mfrom\u001b[39;00m\u001b[38;5;250m \u001b[39m\u001b[34;01merr\u001b[39;00m\n\u001b[32m   3813\u001b[39m \u001b[38;5;28;01mexcept\u001b[39;00m \u001b[38;5;167;01mTypeError\u001b[39;00m:\n\u001b[32m   3814\u001b[39m     \u001b[38;5;66;03m# If we have a listlike key, _check_indexing_error will raise\u001b[39;00m\n\u001b[32m   3815\u001b[39m     \u001b[38;5;66;03m#  InvalidIndexError. Otherwise we fall through and re-raise\u001b[39;00m\n\u001b[32m   3816\u001b[39m     \u001b[38;5;66;03m#  the TypeError.\u001b[39;00m\n\u001b[32m   3817\u001b[39m     \u001b[38;5;28mself\u001b[39m._check_indexing_error(key)\n",
      "\u001b[31mKeyError\u001b[39m: 'regency'"
     ]
    }
   ],
   "source": [
    "wisata_df['region'] = wisata_df['regency']\n",
    "wisata_df.drop(['category', 'city', 'regency'], axis=1, inplace=True)\n"
   ]
  },
  {
   "cell_type": "code",
   "execution_count": 13,
   "metadata": {},
   "outputs": [],
   "source": [
    "wisata_df.to_csv(\"../data/wisata.csv\", index=True)"
   ]
  },
  {
   "cell_type": "code",
   "execution_count": 88,
   "metadata": {},
   "outputs": [],
   "source": [
    "wisata_df['address'] = wisata_df['address'].fillna('unknown')"
   ]
  },
  {
   "cell_type": "code",
   "execution_count": 89,
   "metadata": {},
   "outputs": [
    {
     "data": {
      "text/plain": [
       "name           0\n",
       "address        0\n",
       "province       0\n",
       "description    0\n",
       "keywords       0\n",
       "price          0\n",
       "region         0\n",
       "dtype: int64"
      ]
     },
     "execution_count": 89,
     "metadata": {},
     "output_type": "execute_result"
    }
   ],
   "source": [
    "wisata_df.isnull().sum()"
   ]
  },
  {
   "cell_type": "markdown",
   "metadata": {},
   "source": [
    "# Preprocessing Data"
   ]
  },
  {
   "cell_type": "markdown",
   "metadata": {},
   "source": [
    "## Cleaning Data"
   ]
  },
  {
   "cell_type": "code",
   "execution_count": 90,
   "metadata": {},
   "outputs": [],
   "source": [
    "wisata_cleaned_df = pd.DataFrame(wisata_df)\n",
    "wisata_cleaned_df['description'] = wisata_cleaned_df['description'].apply(cleaningText)\n",
    "wisata_cleaned_df['keywords'] = wisata_cleaned_df['keywords'].apply(cleaningText)\n",
    "wisata_cleaned_df['region'] = wisata_cleaned_df['region'].apply(cleaningText)\n",
    "wisata_cleaned_df['province'] = wisata_cleaned_df['province'].apply(cleaningText)"
   ]
  },
  {
   "cell_type": "markdown",
   "metadata": {},
   "source": [
    "## Case Folding Data"
   ]
  },
  {
   "cell_type": "code",
   "execution_count": 91,
   "metadata": {},
   "outputs": [
    {
     "data": {
      "text/html": [
       "<div>\n",
       "<style scoped>\n",
       "    .dataframe tbody tr th:only-of-type {\n",
       "        vertical-align: middle;\n",
       "    }\n",
       "\n",
       "    .dataframe tbody tr th {\n",
       "        vertical-align: top;\n",
       "    }\n",
       "\n",
       "    .dataframe thead th {\n",
       "        text-align: right;\n",
       "    }\n",
       "</style>\n",
       "<table border=\"1\" class=\"dataframe\">\n",
       "  <thead>\n",
       "    <tr style=\"text-align: right;\">\n",
       "      <th></th>\n",
       "      <th>name</th>\n",
       "      <th>address</th>\n",
       "      <th>province</th>\n",
       "      <th>description</th>\n",
       "      <th>keywords</th>\n",
       "      <th>price</th>\n",
       "      <th>region</th>\n",
       "    </tr>\n",
       "  </thead>\n",
       "  <tbody>\n",
       "    <tr>\n",
       "      <th>0</th>\n",
       "      <td>Pantai Lampuuk</td>\n",
       "      <td>Lampuuk, Lhoknga</td>\n",
       "      <td>aceh</td>\n",
       "      <td>pantai indah dengan pasir putih dan ombak yang...</td>\n",
       "      <td>pantai lampuuk lhoknga aceh surfing</td>\n",
       "      <td>0</td>\n",
       "      <td>aceh besar</td>\n",
       "    </tr>\n",
       "    <tr>\n",
       "      <th>1</th>\n",
       "      <td>Pulau Weh</td>\n",
       "      <td>Pulau Weh, Sabang</td>\n",
       "      <td>aceh</td>\n",
       "      <td>pulau yang terkenal dengan keindahan alam bawa...</td>\n",
       "      <td>pulau weh sabang wisata bahari diving</td>\n",
       "      <td>0</td>\n",
       "      <td>sabang</td>\n",
       "    </tr>\n",
       "    <tr>\n",
       "      <th>2</th>\n",
       "      <td>Pantai Ujong Blang</td>\n",
       "      <td>Ujong Blang, Lhokseumawe</td>\n",
       "      <td>aceh</td>\n",
       "      <td>pantai yang cocok untuk bersantai dengan peman...</td>\n",
       "      <td>pantai ujong blang lhokseumawe aceh utara</td>\n",
       "      <td>0</td>\n",
       "      <td>aceh utara</td>\n",
       "    </tr>\n",
       "    <tr>\n",
       "      <th>3</th>\n",
       "      <td>Pantai Kuala Merisi</td>\n",
       "      <td>Kuala Merisi, Aceh Timur</td>\n",
       "      <td>aceh</td>\n",
       "      <td>pantai yang menawarkan keindahan alam dan kete...</td>\n",
       "      <td>pantai kuala merisi langsa aceh timur</td>\n",
       "      <td>0</td>\n",
       "      <td>aceh timur</td>\n",
       "    </tr>\n",
       "    <tr>\n",
       "      <th>4</th>\n",
       "      <td>Pantai Lagoi</td>\n",
       "      <td>Lagoi, Bener Meriah</td>\n",
       "      <td>aceh</td>\n",
       "      <td>pantai eksotis dengan air laut yang jernih dan...</td>\n",
       "      <td>pantai lagoi bener meriah aceh</td>\n",
       "      <td>0</td>\n",
       "      <td>aceh</td>\n",
       "    </tr>\n",
       "  </tbody>\n",
       "</table>\n",
       "</div>"
      ],
      "text/plain": [
       "                  name                   address province  \\\n",
       "0       Pantai Lampuuk          Lampuuk, Lhoknga     aceh   \n",
       "1            Pulau Weh         Pulau Weh, Sabang     aceh   \n",
       "2   Pantai Ujong Blang  Ujong Blang, Lhokseumawe     aceh   \n",
       "3  Pantai Kuala Merisi  Kuala Merisi, Aceh Timur     aceh   \n",
       "4         Pantai Lagoi       Lagoi, Bener Meriah     aceh   \n",
       "\n",
       "                                         description  \\\n",
       "0  pantai indah dengan pasir putih dan ombak yang...   \n",
       "1  pulau yang terkenal dengan keindahan alam bawa...   \n",
       "2  pantai yang cocok untuk bersantai dengan peman...   \n",
       "3  pantai yang menawarkan keindahan alam dan kete...   \n",
       "4  pantai eksotis dengan air laut yang jernih dan...   \n",
       "\n",
       "                                    keywords price      region  \n",
       "0        pantai lampuuk lhoknga aceh surfing     0  aceh besar  \n",
       "1      pulau weh sabang wisata bahari diving     0      sabang  \n",
       "2  pantai ujong blang lhokseumawe aceh utara     0  aceh utara  \n",
       "3      pantai kuala merisi langsa aceh timur     0  aceh timur  \n",
       "4             pantai lagoi bener meriah aceh     0        aceh  "
      ]
     },
     "execution_count": 91,
     "metadata": {},
     "output_type": "execute_result"
    }
   ],
   "source": [
    "wisata_cleaned_df['description'] = wisata_cleaned_df['description'].apply(casefoldingText)\n",
    "wisata_cleaned_df['keywords'] = wisata_cleaned_df['keywords'].apply(casefoldingText)\n",
    "wisata_cleaned_df['region'] = wisata_cleaned_df['region'].apply(casefoldingText)\n",
    "wisata_cleaned_df['province'] = wisata_cleaned_df['province'].apply(casefoldingText)\n",
    "wisata_cleaned_df.head()"
   ]
  },
  {
   "cell_type": "markdown",
   "metadata": {},
   "source": [
    "### Stemming Text"
   ]
  },
  {
   "cell_type": "code",
   "execution_count": 92,
   "metadata": {},
   "outputs": [
    {
     "data": {
      "text/html": [
       "<div>\n",
       "<style scoped>\n",
       "    .dataframe tbody tr th:only-of-type {\n",
       "        vertical-align: middle;\n",
       "    }\n",
       "\n",
       "    .dataframe tbody tr th {\n",
       "        vertical-align: top;\n",
       "    }\n",
       "\n",
       "    .dataframe thead th {\n",
       "        text-align: right;\n",
       "    }\n",
       "</style>\n",
       "<table border=\"1\" class=\"dataframe\">\n",
       "  <thead>\n",
       "    <tr style=\"text-align: right;\">\n",
       "      <th></th>\n",
       "      <th>name</th>\n",
       "      <th>address</th>\n",
       "      <th>province</th>\n",
       "      <th>description</th>\n",
       "      <th>keywords</th>\n",
       "      <th>price</th>\n",
       "      <th>region</th>\n",
       "    </tr>\n",
       "  </thead>\n",
       "  <tbody>\n",
       "    <tr>\n",
       "      <th>0</th>\n",
       "      <td>Pantai Lampuuk</td>\n",
       "      <td>Lampuuk, Lhoknga</td>\n",
       "      <td>aceh</td>\n",
       "      <td>pantai indah dengan pasir putih dan ombak yang...</td>\n",
       "      <td>pantai lampuuk lhoknga aceh surfing</td>\n",
       "      <td>0</td>\n",
       "      <td>aceh besar</td>\n",
       "    </tr>\n",
       "    <tr>\n",
       "      <th>1</th>\n",
       "      <td>Pulau Weh</td>\n",
       "      <td>Pulau Weh, Sabang</td>\n",
       "      <td>aceh</td>\n",
       "      <td>pulau yang kenal dengan indah alam bawah laut ...</td>\n",
       "      <td>pulau weh sabang wisata bahari diving</td>\n",
       "      <td>0</td>\n",
       "      <td>sabang</td>\n",
       "    </tr>\n",
       "    <tr>\n",
       "      <th>2</th>\n",
       "      <td>Pantai Ujong Blang</td>\n",
       "      <td>Ujong Blang, Lhokseumawe</td>\n",
       "      <td>aceh</td>\n",
       "      <td>pantai yang cocok untuk santa dengan pandang l...</td>\n",
       "      <td>pantai ujong blang lhokseumawe aceh utara</td>\n",
       "      <td>0</td>\n",
       "      <td>aceh utara</td>\n",
       "    </tr>\n",
       "    <tr>\n",
       "      <th>3</th>\n",
       "      <td>Pantai Kuala Merisi</td>\n",
       "      <td>Kuala Merisi, Aceh Timur</td>\n",
       "      <td>aceh</td>\n",
       "      <td>pantai yang tawar indah alam dan tenang ideal ...</td>\n",
       "      <td>pantai kuala merisi langsa aceh timur</td>\n",
       "      <td>0</td>\n",
       "      <td>aceh timur</td>\n",
       "    </tr>\n",
       "    <tr>\n",
       "      <th>4</th>\n",
       "      <td>Pantai Lagoi</td>\n",
       "      <td>Lagoi, Bener Meriah</td>\n",
       "      <td>aceh</td>\n",
       "      <td>pantai eksotis dengan air laut yang jernih dan...</td>\n",
       "      <td>pantai lagoi bener meriah aceh</td>\n",
       "      <td>0</td>\n",
       "      <td>aceh</td>\n",
       "    </tr>\n",
       "  </tbody>\n",
       "</table>\n",
       "</div>"
      ],
      "text/plain": [
       "                  name                   address province  \\\n",
       "0       Pantai Lampuuk          Lampuuk, Lhoknga     aceh   \n",
       "1            Pulau Weh         Pulau Weh, Sabang     aceh   \n",
       "2   Pantai Ujong Blang  Ujong Blang, Lhokseumawe     aceh   \n",
       "3  Pantai Kuala Merisi  Kuala Merisi, Aceh Timur     aceh   \n",
       "4         Pantai Lagoi       Lagoi, Bener Meriah     aceh   \n",
       "\n",
       "                                         description  \\\n",
       "0  pantai indah dengan pasir putih dan ombak yang...   \n",
       "1  pulau yang kenal dengan indah alam bawah laut ...   \n",
       "2  pantai yang cocok untuk santa dengan pandang l...   \n",
       "3  pantai yang tawar indah alam dan tenang ideal ...   \n",
       "4  pantai eksotis dengan air laut yang jernih dan...   \n",
       "\n",
       "                                    keywords price      region  \n",
       "0        pantai lampuuk lhoknga aceh surfing     0  aceh besar  \n",
       "1      pulau weh sabang wisata bahari diving     0      sabang  \n",
       "2  pantai ujong blang lhokseumawe aceh utara     0  aceh utara  \n",
       "3      pantai kuala merisi langsa aceh timur     0  aceh timur  \n",
       "4             pantai lagoi bener meriah aceh     0        aceh  "
      ]
     },
     "execution_count": 92,
     "metadata": {},
     "output_type": "execute_result"
    }
   ],
   "source": [
    "wisata_cleaned_df['description'] = wisata_cleaned_df['description'].apply(stemmingText)\n",
    "wisata_cleaned_df.head()"
   ]
  },
  {
   "cell_type": "markdown",
   "metadata": {},
   "source": [
    "### Filtering text"
   ]
  },
  {
   "cell_type": "code",
   "execution_count": 93,
   "metadata": {},
   "outputs": [],
   "source": [
    "# wisata_cleaned_df['description'] = wisata_cleaned_df['description'].apply(filteringText)\n",
    "# wisata_cleaned_df.head()"
   ]
  },
  {
   "cell_type": "markdown",
   "metadata": {},
   "source": [
    "## Buat Embeddings"
   ]
  },
  {
   "cell_type": "code",
   "execution_count": 94,
   "metadata": {},
   "outputs": [],
   "source": [
    "wisata_cleaned_df['combined'] = (\n",
    "    wisata_cleaned_df['name'] + ' ' +\n",
    "    wisata_cleaned_df['region'] + ' ' +\n",
    "    wisata_cleaned_df['province'] + ' ' +\n",
    "    wisata_cleaned_df['keywords'] + ' ' +\n",
    "    wisata_cleaned_df['description']\n",
    ")"
   ]
  },
  {
   "cell_type": "code",
   "execution_count": 95,
   "metadata": {},
   "outputs": [],
   "source": [
    "# Buat embeddings\n",
    "embeddings = model.encode(wisata_cleaned_df['combined'].tolist(), convert_to_tensor=True)"
   ]
  },
  {
   "cell_type": "code",
   "execution_count": 126,
   "metadata": {},
   "outputs": [],
   "source": [
    "def rekomendasi_wisata(pertanyaan_user, top_k=3):\n",
    "    # 1. Simpan pertanyaan asli untuk pengecekan lokasi\n",
    "    original_question = pertanyaan_user.lower()\n",
    "\n",
    "    # 2. Optional: list provinsi dari dataset\n",
    "    all_provinces = wisata_cleaned_df['province'].str.lower().unique()\n",
    "\n",
    "    # 3. Cek apakah pertanyaan mengandung nama provinsi\n",
    "    lokasi_filter = None\n",
    "    for prov in all_provinces:\n",
    "        if prov in original_question:\n",
    "            lokasi_filter = prov\n",
    "            break\n",
    "\n",
    "    # 4. Filter berdasarkan lokasi (jika ada)\n",
    "    if lokasi_filter:\n",
    "        df_filtered = wisata_cleaned_df[wisata_cleaned_df['province'].str.lower().str.contains(lokasi_filter)]\n",
    "        if df_filtered.empty:\n",
    "            print(f\"Tidak ada data wisata di lokasi '{lokasi_filter.title()}', menampilkan hasil umum...\\n\")\n",
    "            df_filtered = wisata_cleaned_df\n",
    "    else:\n",
    "        df_filtered = wisata_cleaned_df\n",
    "\n",
    "    # 5. Preprocessing pertanyaan user\n",
    "    pertanyaan_user = cleaningText(pertanyaan_user)\n",
    "    pertanyaan_user = casefoldingText(pertanyaan_user)\n",
    "    pertanyaan_user = stemmingText(pertanyaan_user)\n",
    "\n",
    "    # 6. Embedding pertanyaan user\n",
    "    query_embedding = model.encode(pertanyaan_user, convert_to_tensor=True)\n",
    "\n",
    "    # 7. Embedding destinasi dari dataframe terfilter\n",
    "    doc_embeddings = model.encode(df_filtered['combined'].tolist(), convert_to_tensor=True)\n",
    "\n",
    "    # 8. Hitung cosine similarity\n",
    "    cos_scores = util.pytorch_cos_sim(query_embedding, doc_embeddings)[0]\n",
    "\n",
    "    # 9. Ambil top_k hasil\n",
    "    top_results = cos_scores.topk(k=top_k)\n",
    "\n",
    "    # 10. Tampilkan hasil\n",
    "    for score, idx in zip(top_results[0], top_results[1]):\n",
    "        idx = idx.item()\n",
    "        row = df_filtered.iloc[idx]\n",
    "        print(f\"{row['name']} ({row['province']}) - Skor: {score:.4f}\")\n",
    "        print(f\"Deskripsi: {row['description']}\")\n",
    "        print(\"-\" * 50)\n"
   ]
  },
  {
   "cell_type": "code",
   "execution_count": 127,
   "metadata": {},
   "outputs": [
    {
     "name": "stdout",
     "output_type": "stream",
     "text": [
      "Pantai Penyabong (bangka belitung) - Skor: 0.4474\n",
      "Deskripsi: pantai yang indah dengan giat main air dan nikmat indah alam sekitar\n",
      "--------------------------------------------------\n",
      "Pantai Tanjung Bemban (bangka belitung) - Skor: 0.4238\n",
      "Deskripsi: pantai yang tenang ideal untuk main pasir dan renang sama keluarga\n",
      "--------------------------------------------------\n",
      "Pantai Bukit Berahu (bangka belitung) - Skor: 0.4209\n",
      "Deskripsi: pantai dengan suasana tenang cocok untuk renang dan main pasir putih\n",
      "--------------------------------------------------\n"
     ]
    }
   ],
   "source": [
    "rekomendasi_wisata(\"pantai di provinsi bangka belitung\")"
   ]
  }
 ],
 "metadata": {
  "kernelspec": {
   "display_name": "arkanesia_env",
   "language": "python",
   "name": "python3"
  },
  "language_info": {
   "codemirror_mode": {
    "name": "ipython",
    "version": 3
   },
   "file_extension": ".py",
   "mimetype": "text/x-python",
   "name": "python",
   "nbconvert_exporter": "python",
   "pygments_lexer": "ipython3",
   "version": "3.11.5"
  }
 },
 "nbformat": 4,
 "nbformat_minor": 2
}
