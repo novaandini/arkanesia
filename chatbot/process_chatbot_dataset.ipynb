{
  "cells": [
    {
      "cell_type": "markdown",
      "metadata": {
        "id": "hu4BkapFhbcb"
      },
      "source": [
        "# Import Library"
      ]
    },
    {
      "cell_type": "code",
      "execution_count": 24,
      "metadata": {
        "id": "ehkdpiVahaIY"
      },
      "outputs": [],
      "source": [
        "import sys\n",
        "import os\n",
        "sys.path.append(os.path.abspath(os.path.join(os.getcwd(), '..')))\n",
        "import pandas as pd\n",
        "from datasets import Dataset\n",
        "from datasets import DatasetDict\n",
        "from utils.preprocessing import cleaningText\n",
        "from utils.preprocessing import casefoldingText\n",
        "from utils.preprocessing import stemmingText\n",
        "from utils.preprocessing import fix_slangwords\n",
        "from utils.preprocessing import tokenize\n",
        "from utils.preprocessing import filteringText\n",
        "from utils.preprocessing import tokenizingText\n",
        "from Sastrawi.Stemmer.StemmerFactory import StemmerFactory\n",
        "from sklearn.preprocessing import LabelEncoder\n",
        "from transformers import AutoModelForSequenceClassification\n",
        "from transformers import TrainingArguments\n",
        "from transformers import Trainer\n",
        "from transformers import AutoTokenizer\n",
        "from sklearn.metrics import accuracy_score\n",
        "\n",
        "tokenizer = AutoTokenizer.from_pretrained(\"indobenchmark/indobert-base-p1\")"
      ]
    },
    {
      "cell_type": "markdown",
      "metadata": {
        "id": "kqIGImjq7PYa"
      },
      "source": [
        "# Loading Dataset"
      ]
    },
    {
      "cell_type": "code",
      "execution_count": 2,
      "metadata": {
        "colab": {
          "base_uri": "https://localhost:8080/"
        },
        "id": "codsTZgs7M5K",
        "outputId": "8f4affc5-cd8b-45bd-b25b-9d377d39ae9d"
      },
      "outputs": [
        {
          "name": "stdout",
          "output_type": "stream",
          "text": [
            "                                         Pertanyaan       Intent  \\\n",
            "0  Apa tempat wisata alam terbaik di [nama_daerah]?  wisata_alam   \n",
            "1  Apa tempat wisata alam terbaik di [nama_daerah]?  wisata_alam   \n",
            "2  Apa tempat wisata alam terbaik di [nama_daerah]?  wisata_alam   \n",
            "3  Apa tempat wisata alam terbaik di [nama_daerah]?  wisata_alam   \n",
            "4  Apa tempat wisata alam terbaik di [nama_daerah]?  wisata_alam   \n",
            "\n",
            "                                             Jawaban  \n",
            "0  Di [nama_daerah], Anda bisa mengunjungi [rekom...  \n",
            "1  [Nama_daerah] memiliki banyak tempat wisata al...  \n",
            "2  Tempat wisata alam terbaik di [nama_daerah] te...  \n",
            "3  [Nama_daerah] adalah surga bagi pecinta alam, ...  \n",
            "4  Jika Anda mencari wisata alam di [nama_daerah]...  \n"
          ]
        }
      ],
      "source": [
        "# Ubah URL menjadi raw URL GitHub\n",
        "chatbot_url = \"https://raw.githubusercontent.com/novaandini/arkanesia/refs/heads/main/data/chatbot.csv\"\n",
        "\n",
        "# Baca CSV (ganti 'nama_file.csv' dengan file yang diunggah)\n",
        "chatbot_df = pd.read_csv(chatbot_url)\n",
        "\n",
        "# Cek kolom yang ada\n",
        "print(chatbot_df.head())"
      ]
    },
    {
      "cell_type": "markdown",
      "metadata": {
        "id": "rYzOXSV2_Ppj"
      },
      "source": [
        "## Explore Chatbot Data"
      ]
    },
    {
      "cell_type": "code",
      "execution_count": 3,
      "metadata": {
        "colab": {
          "base_uri": "https://localhost:8080/"
        },
        "id": "zOlIay51IaN-",
        "outputId": "5a37d3fe-c037-4b0f-9476-e4805829513c"
      },
      "outputs": [
        {
          "data": {
            "text/plain": [
              "np.int64(0)"
            ]
          },
          "execution_count": 3,
          "metadata": {},
          "output_type": "execute_result"
        }
      ],
      "source": [
        "chatbot_df.duplicated().sum()"
      ]
    },
    {
      "cell_type": "code",
      "execution_count": 4,
      "metadata": {
        "colab": {
          "base_uri": "https://localhost:8080/",
          "height": 178
        },
        "id": "kymaz5Up2lMM",
        "outputId": "eda42550-4cc7-4590-93b0-40322fba65fe"
      },
      "outputs": [
        {
          "data": {
            "text/plain": [
              "Pertanyaan    0\n",
              "Intent        0\n",
              "Jawaban       0\n",
              "dtype: int64"
            ]
          },
          "execution_count": 4,
          "metadata": {},
          "output_type": "execute_result"
        }
      ],
      "source": [
        "chatbot_df.isnull().sum()"
      ]
    },
    {
      "cell_type": "code",
      "execution_count": 5,
      "metadata": {
        "colab": {
          "base_uri": "https://localhost:8080/",
          "height": 175
        },
        "id": "RKKt1fQ2_E9A",
        "outputId": "60ea886b-e501-4444-f48e-0ed46cd7dafa"
      },
      "outputs": [
        {
          "data": {
            "text/html": [
              "<div>\n",
              "<style scoped>\n",
              "    .dataframe tbody tr th:only-of-type {\n",
              "        vertical-align: middle;\n",
              "    }\n",
              "\n",
              "    .dataframe tbody tr th {\n",
              "        vertical-align: top;\n",
              "    }\n",
              "\n",
              "    .dataframe thead th {\n",
              "        text-align: right;\n",
              "    }\n",
              "</style>\n",
              "<table border=\"1\" class=\"dataframe\">\n",
              "  <thead>\n",
              "    <tr style=\"text-align: right;\">\n",
              "      <th></th>\n",
              "      <th>Pertanyaan</th>\n",
              "      <th>Intent</th>\n",
              "      <th>Jawaban</th>\n",
              "    </tr>\n",
              "  </thead>\n",
              "  <tbody>\n",
              "    <tr>\n",
              "      <th>count</th>\n",
              "      <td>1100</td>\n",
              "      <td>1100</td>\n",
              "      <td>1100</td>\n",
              "    </tr>\n",
              "    <tr>\n",
              "      <th>unique</th>\n",
              "      <td>110</td>\n",
              "      <td>14</td>\n",
              "      <td>140</td>\n",
              "    </tr>\n",
              "    <tr>\n",
              "      <th>top</th>\n",
              "      <td>Apa tempat wisata alam terbaik di [nama_daerah]?</td>\n",
              "      <td>wisata_alam</td>\n",
              "      <td>Di [nama_daerah], Anda bisa mengunjungi [rekom...</td>\n",
              "    </tr>\n",
              "    <tr>\n",
              "      <th>freq</th>\n",
              "      <td>10</td>\n",
              "      <td>100</td>\n",
              "      <td>10</td>\n",
              "    </tr>\n",
              "  </tbody>\n",
              "</table>\n",
              "</div>"
            ],
            "text/plain": [
              "                                              Pertanyaan       Intent  \\\n",
              "count                                               1100         1100   \n",
              "unique                                               110           14   \n",
              "top     Apa tempat wisata alam terbaik di [nama_daerah]?  wisata_alam   \n",
              "freq                                                  10          100   \n",
              "\n",
              "                                                  Jawaban  \n",
              "count                                                1100  \n",
              "unique                                                140  \n",
              "top     Di [nama_daerah], Anda bisa mengunjungi [rekom...  \n",
              "freq                                                   10  "
            ]
          },
          "execution_count": 5,
          "metadata": {},
          "output_type": "execute_result"
        }
      ],
      "source": [
        "chatbot_df.describe()"
      ]
    },
    {
      "cell_type": "code",
      "execution_count": 6,
      "metadata": {
        "colab": {
          "base_uri": "https://localhost:8080/"
        },
        "id": "M21gOtuW_G-I",
        "outputId": "7109bf6c-2cfc-4b0a-8df2-791fb11b9622"
      },
      "outputs": [
        {
          "name": "stdout",
          "output_type": "stream",
          "text": [
            "<class 'pandas.core.frame.DataFrame'>\n",
            "RangeIndex: 1100 entries, 0 to 1099\n",
            "Data columns (total 3 columns):\n",
            " #   Column      Non-Null Count  Dtype \n",
            "---  ------      --------------  ----- \n",
            " 0   Pertanyaan  1100 non-null   object\n",
            " 1   Intent      1100 non-null   object\n",
            " 2   Jawaban     1100 non-null   object\n",
            "dtypes: object(3)\n",
            "memory usage: 25.9+ KB\n"
          ]
        }
      ],
      "source": [
        "chatbot_df.info()"
      ]
    },
    {
      "cell_type": "markdown",
      "metadata": {
        "id": "j1Guq2ym7R9F"
      },
      "source": [
        "# Preprocessing Text"
      ]
    },
    {
      "cell_type": "markdown",
      "metadata": {
        "id": "pjLHWeFQ-1A_"
      },
      "source": [
        "## Cleaning Text"
      ]
    },
    {
      "cell_type": "code",
      "execution_count": 7,
      "metadata": {
        "colab": {
          "base_uri": "https://localhost:8080/",
          "height": 206
        },
        "id": "oSeO3eQI-v4s",
        "outputId": "3062f267-26fe-45f2-a6dc-32fc7bab8139"
      },
      "outputs": [
        {
          "data": {
            "text/html": [
              "<div>\n",
              "<style scoped>\n",
              "    .dataframe tbody tr th:only-of-type {\n",
              "        vertical-align: middle;\n",
              "    }\n",
              "\n",
              "    .dataframe tbody tr th {\n",
              "        vertical-align: top;\n",
              "    }\n",
              "\n",
              "    .dataframe thead th {\n",
              "        text-align: right;\n",
              "    }\n",
              "</style>\n",
              "<table border=\"1\" class=\"dataframe\">\n",
              "  <thead>\n",
              "    <tr style=\"text-align: right;\">\n",
              "      <th></th>\n",
              "      <th>question</th>\n",
              "      <th>intent</th>\n",
              "      <th>answer</th>\n",
              "    </tr>\n",
              "  </thead>\n",
              "  <tbody>\n",
              "    <tr>\n",
              "      <th>0</th>\n",
              "      <td>Apa tempat wisata alam terbaik di [nama_daerah]?</td>\n",
              "      <td>wisata_alam</td>\n",
              "      <td>Di [nama_daerah], Anda bisa mengunjungi [rekom...</td>\n",
              "    </tr>\n",
              "    <tr>\n",
              "      <th>1</th>\n",
              "      <td>Apa tempat wisata alam terbaik di [nama_daerah]?</td>\n",
              "      <td>wisata_alam</td>\n",
              "      <td>[Nama_daerah] memiliki banyak tempat wisata al...</td>\n",
              "    </tr>\n",
              "    <tr>\n",
              "      <th>2</th>\n",
              "      <td>Apa tempat wisata alam terbaik di [nama_daerah]?</td>\n",
              "      <td>wisata_alam</td>\n",
              "      <td>Tempat wisata alam terbaik di [nama_daerah] te...</td>\n",
              "    </tr>\n",
              "    <tr>\n",
              "      <th>3</th>\n",
              "      <td>Apa tempat wisata alam terbaik di [nama_daerah]?</td>\n",
              "      <td>wisata_alam</td>\n",
              "      <td>[Nama_daerah] adalah surga bagi pecinta alam, ...</td>\n",
              "    </tr>\n",
              "    <tr>\n",
              "      <th>4</th>\n",
              "      <td>Apa tempat wisata alam terbaik di [nama_daerah]?</td>\n",
              "      <td>wisata_alam</td>\n",
              "      <td>Jika Anda mencari wisata alam di [nama_daerah]...</td>\n",
              "    </tr>\n",
              "  </tbody>\n",
              "</table>\n",
              "</div>"
            ],
            "text/plain": [
              "                                           question       intent  \\\n",
              "0  Apa tempat wisata alam terbaik di [nama_daerah]?  wisata_alam   \n",
              "1  Apa tempat wisata alam terbaik di [nama_daerah]?  wisata_alam   \n",
              "2  Apa tempat wisata alam terbaik di [nama_daerah]?  wisata_alam   \n",
              "3  Apa tempat wisata alam terbaik di [nama_daerah]?  wisata_alam   \n",
              "4  Apa tempat wisata alam terbaik di [nama_daerah]?  wisata_alam   \n",
              "\n",
              "                                              answer  \n",
              "0  Di [nama_daerah], Anda bisa mengunjungi [rekom...  \n",
              "1  [Nama_daerah] memiliki banyak tempat wisata al...  \n",
              "2  Tempat wisata alam terbaik di [nama_daerah] te...  \n",
              "3  [Nama_daerah] adalah surga bagi pecinta alam, ...  \n",
              "4  Jika Anda mencari wisata alam di [nama_daerah]...  "
            ]
          },
          "execution_count": 7,
          "metadata": {},
          "output_type": "execute_result"
        }
      ],
      "source": [
        "def protect_placeholders(text):\n",
        "    text = text.replace('[nama_daerah]', '__NAMA_DAERAH__')\n",
        "    for i in range(1, 5):\n",
        "        text = text.replace(f'[rekomendasi_{i}]', f'__REK{i}__')\n",
        "    return text\n",
        "\n",
        "chatbot_cleaned_df = pd.DataFrame()\n",
        "chatbot_cleaned_df['question'] = chatbot_df['Pertanyaan']\n",
        "chatbot_cleaned_df['intent'] = chatbot_df['Intent']\n",
        "chatbot_cleaned_df['answer'] = chatbot_df['Jawaban']\n",
        "chatbot_cleaned_df.head()"
      ]
    },
    {
      "cell_type": "code",
      "execution_count": 8,
      "metadata": {
        "colab": {
          "base_uri": "https://localhost:8080/",
          "height": 206
        },
        "id": "aByO4Ltv-fY2",
        "outputId": "9afb5b67-1669-415d-cf5a-e6638da5cbd9"
      },
      "outputs": [
        {
          "data": {
            "text/html": [
              "<div>\n",
              "<style scoped>\n",
              "    .dataframe tbody tr th:only-of-type {\n",
              "        vertical-align: middle;\n",
              "    }\n",
              "\n",
              "    .dataframe tbody tr th {\n",
              "        vertical-align: top;\n",
              "    }\n",
              "\n",
              "    .dataframe thead th {\n",
              "        text-align: right;\n",
              "    }\n",
              "</style>\n",
              "<table border=\"1\" class=\"dataframe\">\n",
              "  <thead>\n",
              "    <tr style=\"text-align: right;\">\n",
              "      <th></th>\n",
              "      <th>question</th>\n",
              "      <th>intent</th>\n",
              "      <th>answer</th>\n",
              "    </tr>\n",
              "  </thead>\n",
              "  <tbody>\n",
              "    <tr>\n",
              "      <th>0</th>\n",
              "      <td>Apa tempat wisata alam terbaik di namadaerah</td>\n",
              "      <td>wisata_alam</td>\n",
              "      <td>Di namadaerah Anda bisa mengunjungi rekomendas...</td>\n",
              "    </tr>\n",
              "    <tr>\n",
              "      <th>1</th>\n",
              "      <td>Apa tempat wisata alam terbaik di namadaerah</td>\n",
              "      <td>wisata_alam</td>\n",
              "      <td>Namadaerah memiliki banyak tempat wisata alam ...</td>\n",
              "    </tr>\n",
              "    <tr>\n",
              "      <th>2</th>\n",
              "      <td>Apa tempat wisata alam terbaik di namadaerah</td>\n",
              "      <td>wisata_alam</td>\n",
              "      <td>Tempat wisata alam terbaik di namadaerah terma...</td>\n",
              "    </tr>\n",
              "    <tr>\n",
              "      <th>3</th>\n",
              "      <td>Apa tempat wisata alam terbaik di namadaerah</td>\n",
              "      <td>wisata_alam</td>\n",
              "      <td>Namadaerah adalah surga bagi pecinta alam deng...</td>\n",
              "    </tr>\n",
              "    <tr>\n",
              "      <th>4</th>\n",
              "      <td>Apa tempat wisata alam terbaik di namadaerah</td>\n",
              "      <td>wisata_alam</td>\n",
              "      <td>Jika Anda mencari wisata alam di namadaerah pa...</td>\n",
              "    </tr>\n",
              "  </tbody>\n",
              "</table>\n",
              "</div>"
            ],
            "text/plain": [
              "                                       question       intent  \\\n",
              "0  Apa tempat wisata alam terbaik di namadaerah  wisata_alam   \n",
              "1  Apa tempat wisata alam terbaik di namadaerah  wisata_alam   \n",
              "2  Apa tempat wisata alam terbaik di namadaerah  wisata_alam   \n",
              "3  Apa tempat wisata alam terbaik di namadaerah  wisata_alam   \n",
              "4  Apa tempat wisata alam terbaik di namadaerah  wisata_alam   \n",
              "\n",
              "                                              answer  \n",
              "0  Di namadaerah Anda bisa mengunjungi rekomendas...  \n",
              "1  Namadaerah memiliki banyak tempat wisata alam ...  \n",
              "2  Tempat wisata alam terbaik di namadaerah terma...  \n",
              "3  Namadaerah adalah surga bagi pecinta alam deng...  \n",
              "4  Jika Anda mencari wisata alam di namadaerah pa...  "
            ]
          },
          "execution_count": 8,
          "metadata": {},
          "output_type": "execute_result"
        }
      ],
      "source": [
        "chatbot_cleaned_df['question'] = chatbot_cleaned_df['question'].apply(cleaningText)\n",
        "chatbot_cleaned_df['answer'] = chatbot_cleaned_df['answer'].apply(cleaningText)\n",
        "\n",
        "chatbot_cleaned_df.head()"
      ]
    },
    {
      "cell_type": "markdown",
      "metadata": {
        "id": "wX5H7yoOBrWP"
      },
      "source": [
        "## Case Folding text"
      ]
    },
    {
      "cell_type": "code",
      "execution_count": 9,
      "metadata": {
        "colab": {
          "base_uri": "https://localhost:8080/",
          "height": 206
        },
        "id": "7bs9TDLqBuKO",
        "outputId": "d8a5062f-fd1b-4206-953d-c3208e64635a"
      },
      "outputs": [
        {
          "data": {
            "text/html": [
              "<div>\n",
              "<style scoped>\n",
              "    .dataframe tbody tr th:only-of-type {\n",
              "        vertical-align: middle;\n",
              "    }\n",
              "\n",
              "    .dataframe tbody tr th {\n",
              "        vertical-align: top;\n",
              "    }\n",
              "\n",
              "    .dataframe thead th {\n",
              "        text-align: right;\n",
              "    }\n",
              "</style>\n",
              "<table border=\"1\" class=\"dataframe\">\n",
              "  <thead>\n",
              "    <tr style=\"text-align: right;\">\n",
              "      <th></th>\n",
              "      <th>question</th>\n",
              "      <th>intent</th>\n",
              "      <th>answer</th>\n",
              "    </tr>\n",
              "  </thead>\n",
              "  <tbody>\n",
              "    <tr>\n",
              "      <th>0</th>\n",
              "      <td>apa tempat wisata alam terbaik di namadaerah</td>\n",
              "      <td>wisata_alam</td>\n",
              "      <td>di namadaerah anda bisa mengunjungi rekomendas...</td>\n",
              "    </tr>\n",
              "    <tr>\n",
              "      <th>1</th>\n",
              "      <td>apa tempat wisata alam terbaik di namadaerah</td>\n",
              "      <td>wisata_alam</td>\n",
              "      <td>namadaerah memiliki banyak tempat wisata alam ...</td>\n",
              "    </tr>\n",
              "    <tr>\n",
              "      <th>2</th>\n",
              "      <td>apa tempat wisata alam terbaik di namadaerah</td>\n",
              "      <td>wisata_alam</td>\n",
              "      <td>tempat wisata alam terbaik di namadaerah terma...</td>\n",
              "    </tr>\n",
              "    <tr>\n",
              "      <th>3</th>\n",
              "      <td>apa tempat wisata alam terbaik di namadaerah</td>\n",
              "      <td>wisata_alam</td>\n",
              "      <td>namadaerah adalah surga bagi pecinta alam deng...</td>\n",
              "    </tr>\n",
              "    <tr>\n",
              "      <th>4</th>\n",
              "      <td>apa tempat wisata alam terbaik di namadaerah</td>\n",
              "      <td>wisata_alam</td>\n",
              "      <td>jika anda mencari wisata alam di namadaerah pa...</td>\n",
              "    </tr>\n",
              "  </tbody>\n",
              "</table>\n",
              "</div>"
            ],
            "text/plain": [
              "                                       question       intent  \\\n",
              "0  apa tempat wisata alam terbaik di namadaerah  wisata_alam   \n",
              "1  apa tempat wisata alam terbaik di namadaerah  wisata_alam   \n",
              "2  apa tempat wisata alam terbaik di namadaerah  wisata_alam   \n",
              "3  apa tempat wisata alam terbaik di namadaerah  wisata_alam   \n",
              "4  apa tempat wisata alam terbaik di namadaerah  wisata_alam   \n",
              "\n",
              "                                              answer  \n",
              "0  di namadaerah anda bisa mengunjungi rekomendas...  \n",
              "1  namadaerah memiliki banyak tempat wisata alam ...  \n",
              "2  tempat wisata alam terbaik di namadaerah terma...  \n",
              "3  namadaerah adalah surga bagi pecinta alam deng...  \n",
              "4  jika anda mencari wisata alam di namadaerah pa...  "
            ]
          },
          "execution_count": 9,
          "metadata": {},
          "output_type": "execute_result"
        }
      ],
      "source": [
        "chatbot_cleaned_df['question'] = chatbot_cleaned_df['question'].apply(casefoldingText)\n",
        "chatbot_cleaned_df['answer'] = chatbot_cleaned_df['answer'].apply(casefoldingText)\n",
        "chatbot_cleaned_df.head()"
      ]
    },
    {
      "cell_type": "markdown",
      "metadata": {},
      "source": [
        "## Fix Slang Words"
      ]
    },
    {
      "cell_type": "code",
      "execution_count": 10,
      "metadata": {},
      "outputs": [
        {
          "data": {
            "text/html": [
              "<div>\n",
              "<style scoped>\n",
              "    .dataframe tbody tr th:only-of-type {\n",
              "        vertical-align: middle;\n",
              "    }\n",
              "\n",
              "    .dataframe tbody tr th {\n",
              "        vertical-align: top;\n",
              "    }\n",
              "\n",
              "    .dataframe thead th {\n",
              "        text-align: right;\n",
              "    }\n",
              "</style>\n",
              "<table border=\"1\" class=\"dataframe\">\n",
              "  <thead>\n",
              "    <tr style=\"text-align: right;\">\n",
              "      <th></th>\n",
              "      <th>question</th>\n",
              "      <th>intent</th>\n",
              "      <th>answer</th>\n",
              "    </tr>\n",
              "  </thead>\n",
              "  <tbody>\n",
              "    <tr>\n",
              "      <th>0</th>\n",
              "      <td>apa tempat wisata alam terbaik di namadaerah</td>\n",
              "      <td>wisata_alam</td>\n",
              "      <td>di namadaerah anda bisa mengunjungi rekomendas...</td>\n",
              "    </tr>\n",
              "    <tr>\n",
              "      <th>1</th>\n",
              "      <td>apa tempat wisata alam terbaik di namadaerah</td>\n",
              "      <td>wisata_alam</td>\n",
              "      <td>namadaerah memiliki banyak tempat wisata alam ...</td>\n",
              "    </tr>\n",
              "    <tr>\n",
              "      <th>2</th>\n",
              "      <td>apa tempat wisata alam terbaik di namadaerah</td>\n",
              "      <td>wisata_alam</td>\n",
              "      <td>tempat wisata alam terbaik di namadaerah terma...</td>\n",
              "    </tr>\n",
              "    <tr>\n",
              "      <th>3</th>\n",
              "      <td>apa tempat wisata alam terbaik di namadaerah</td>\n",
              "      <td>wisata_alam</td>\n",
              "      <td>namadaerah adalah surga bagi pecinta alam deng...</td>\n",
              "    </tr>\n",
              "    <tr>\n",
              "      <th>4</th>\n",
              "      <td>apa tempat wisata alam terbaik di namadaerah</td>\n",
              "      <td>wisata_alam</td>\n",
              "      <td>jika anda mencari wisata alam di namadaerah pa...</td>\n",
              "    </tr>\n",
              "  </tbody>\n",
              "</table>\n",
              "</div>"
            ],
            "text/plain": [
              "                                       question       intent  \\\n",
              "0  apa tempat wisata alam terbaik di namadaerah  wisata_alam   \n",
              "1  apa tempat wisata alam terbaik di namadaerah  wisata_alam   \n",
              "2  apa tempat wisata alam terbaik di namadaerah  wisata_alam   \n",
              "3  apa tempat wisata alam terbaik di namadaerah  wisata_alam   \n",
              "4  apa tempat wisata alam terbaik di namadaerah  wisata_alam   \n",
              "\n",
              "                                              answer  \n",
              "0  di namadaerah anda bisa mengunjungi rekomendas...  \n",
              "1  namadaerah memiliki banyak tempat wisata alam ...  \n",
              "2  tempat wisata alam terbaik di namadaerah terma...  \n",
              "3  namadaerah adalah surga bagi pecinta alam deng...  \n",
              "4  jika anda mencari wisata alam di namadaerah pa...  "
            ]
          },
          "execution_count": 10,
          "metadata": {},
          "output_type": "execute_result"
        }
      ],
      "source": [
        "chatbot_cleaned_df['question'] = chatbot_cleaned_df['question'].apply(fix_slangwords)\n",
        "# chatbot_cleaned_df['answer'] = chatbot_cleaned_df['answer'].apply(fix_slangwords)\n",
        "chatbot_cleaned_df.head()"
      ]
    },
    {
      "cell_type": "markdown",
      "metadata": {
        "id": "sZxbclwXCDsl"
      },
      "source": [
        "## Stemming Text"
      ]
    },
    {
      "cell_type": "code",
      "execution_count": 11,
      "metadata": {
        "colab": {
          "base_uri": "https://localhost:8080/",
          "height": 206
        },
        "id": "6j9H2vS0CFfl",
        "outputId": "e344c165-8e85-49b8-f6c8-ee36b86d084d"
      },
      "outputs": [
        {
          "data": {
            "text/html": [
              "<div>\n",
              "<style scoped>\n",
              "    .dataframe tbody tr th:only-of-type {\n",
              "        vertical-align: middle;\n",
              "    }\n",
              "\n",
              "    .dataframe tbody tr th {\n",
              "        vertical-align: top;\n",
              "    }\n",
              "\n",
              "    .dataframe thead th {\n",
              "        text-align: right;\n",
              "    }\n",
              "</style>\n",
              "<table border=\"1\" class=\"dataframe\">\n",
              "  <thead>\n",
              "    <tr style=\"text-align: right;\">\n",
              "      <th></th>\n",
              "      <th>question</th>\n",
              "      <th>intent</th>\n",
              "      <th>answer</th>\n",
              "    </tr>\n",
              "  </thead>\n",
              "  <tbody>\n",
              "    <tr>\n",
              "      <th>0</th>\n",
              "      <td>apa tempat wisata alam baik di namadaerah</td>\n",
              "      <td>wisata_alam</td>\n",
              "      <td>di namadaerah anda bisa mengunjungi rekomendas...</td>\n",
              "    </tr>\n",
              "    <tr>\n",
              "      <th>1</th>\n",
              "      <td>apa tempat wisata alam baik di namadaerah</td>\n",
              "      <td>wisata_alam</td>\n",
              "      <td>namadaerah memiliki banyak tempat wisata alam ...</td>\n",
              "    </tr>\n",
              "    <tr>\n",
              "      <th>2</th>\n",
              "      <td>apa tempat wisata alam baik di namadaerah</td>\n",
              "      <td>wisata_alam</td>\n",
              "      <td>tempat wisata alam terbaik di namadaerah terma...</td>\n",
              "    </tr>\n",
              "    <tr>\n",
              "      <th>3</th>\n",
              "      <td>apa tempat wisata alam baik di namadaerah</td>\n",
              "      <td>wisata_alam</td>\n",
              "      <td>namadaerah adalah surga bagi pecinta alam deng...</td>\n",
              "    </tr>\n",
              "    <tr>\n",
              "      <th>4</th>\n",
              "      <td>apa tempat wisata alam baik di namadaerah</td>\n",
              "      <td>wisata_alam</td>\n",
              "      <td>jika anda mencari wisata alam di namadaerah pa...</td>\n",
              "    </tr>\n",
              "  </tbody>\n",
              "</table>\n",
              "</div>"
            ],
            "text/plain": [
              "                                    question       intent  \\\n",
              "0  apa tempat wisata alam baik di namadaerah  wisata_alam   \n",
              "1  apa tempat wisata alam baik di namadaerah  wisata_alam   \n",
              "2  apa tempat wisata alam baik di namadaerah  wisata_alam   \n",
              "3  apa tempat wisata alam baik di namadaerah  wisata_alam   \n",
              "4  apa tempat wisata alam baik di namadaerah  wisata_alam   \n",
              "\n",
              "                                              answer  \n",
              "0  di namadaerah anda bisa mengunjungi rekomendas...  \n",
              "1  namadaerah memiliki banyak tempat wisata alam ...  \n",
              "2  tempat wisata alam terbaik di namadaerah terma...  \n",
              "3  namadaerah adalah surga bagi pecinta alam deng...  \n",
              "4  jika anda mencari wisata alam di namadaerah pa...  "
            ]
          },
          "execution_count": 11,
          "metadata": {},
          "output_type": "execute_result"
        }
      ],
      "source": [
        "chatbot_cleaned_df['question'] = chatbot_cleaned_df['question'].apply(stemmingText)\n",
        "# chatbot_cleaned_df['answer'] = chatbot_cleaned_df['answer'].apply(stemmingText)\n",
        "chatbot_cleaned_df.head()"
      ]
    },
    {
      "cell_type": "code",
      "execution_count": 12,
      "metadata": {
        "colab": {
          "base_uri": "https://localhost:8080/",
          "height": 206
        },
        "id": "csZNVK99BPxL",
        "outputId": "04990369-c6ca-4567-ab32-f33c81fae9c9"
      },
      "outputs": [],
      "source": [
        "def restore_placeholders(text):\n",
        "    text = text.replace('namadaerah', '[nama_daerah]')\n",
        "    for i in range(1, 5):\n",
        "        text = text.replace(f'rek{i}', f'[rekomendasi_{i}]')\n",
        "    return text\n",
        "\n",
        "# chatbot_cleaned_df['question'] = chatbot_cleaned_df['question'].apply(restore_placeholders)\n",
        "# chatbot_cleaned_df['answer'] = chatbot_cleaned_df['answer'].apply(restore_placeholders)\n",
        "# chatbot_cleaned_df.head()"
      ]
    },
    {
      "cell_type": "markdown",
      "metadata": {
        "id": "fP3BY9zF0TSY"
      },
      "source": [
        "## Encode Label Intent"
      ]
    },
    {
      "cell_type": "code",
      "execution_count": 13,
      "metadata": {
        "colab": {
          "base_uri": "https://localhost:8080/"
        },
        "id": "MaqbyHN30ScH",
        "outputId": "ef5b0da9-d2d3-4f98-9a1e-52e49b955245"
      },
      "outputs": [
        {
          "name": "stdout",
          "output_type": "stream",
          "text": [
            "aktivitas → 0\n",
            "budget → 1\n",
            "cuaca → 2\n",
            "detail_wisata → 3\n",
            "kuliner → 4\n",
            "lokasi_wisata → 5\n",
            "penginapan → 6\n",
            "transportasi → 7\n",
            "wisata_alam → 8\n",
            "wisata_bahari → 9\n",
            "wisata_budaya → 10\n",
            "wisata_edukasi → 11\n",
            "wisata_rekreasi → 12\n",
            "wisata_sejarah → 13\n"
          ]
        }
      ],
      "source": [
        "label_encoder = LabelEncoder()\n",
        "chatbot_cleaned_df['label'] = label_encoder.fit_transform(chatbot_cleaned_df['intent'])\n",
        "\n",
        "# Simpan untuk nanti decoding hasil prediksi\n",
        "label_mapping = dict(zip(label_encoder.classes_, label_encoder.transform(label_encoder.classes_)))\n",
        "for label, encoded in label_mapping.items():\n",
        "    print(f\"{label} → {encoded}\")"
      ]
    },
    {
      "cell_type": "code",
      "execution_count": 14,
      "metadata": {
        "colab": {
          "base_uri": "https://localhost:8080/",
          "height": 206
        },
        "id": "3mLOdR3c6GEp",
        "outputId": "08e72da8-56aa-4f43-d604-cb94ceeb035d"
      },
      "outputs": [
        {
          "data": {
            "text/html": [
              "<div>\n",
              "<style scoped>\n",
              "    .dataframe tbody tr th:only-of-type {\n",
              "        vertical-align: middle;\n",
              "    }\n",
              "\n",
              "    .dataframe tbody tr th {\n",
              "        vertical-align: top;\n",
              "    }\n",
              "\n",
              "    .dataframe thead th {\n",
              "        text-align: right;\n",
              "    }\n",
              "</style>\n",
              "<table border=\"1\" class=\"dataframe\">\n",
              "  <thead>\n",
              "    <tr style=\"text-align: right;\">\n",
              "      <th></th>\n",
              "      <th>question</th>\n",
              "      <th>intent</th>\n",
              "      <th>answer</th>\n",
              "      <th>label</th>\n",
              "    </tr>\n",
              "  </thead>\n",
              "  <tbody>\n",
              "    <tr>\n",
              "      <th>0</th>\n",
              "      <td>apa tempat wisata alam baik di namadaerah</td>\n",
              "      <td>wisata_alam</td>\n",
              "      <td>di namadaerah anda bisa mengunjungi rekomendas...</td>\n",
              "      <td>8</td>\n",
              "    </tr>\n",
              "    <tr>\n",
              "      <th>1</th>\n",
              "      <td>apa tempat wisata alam baik di namadaerah</td>\n",
              "      <td>wisata_alam</td>\n",
              "      <td>namadaerah memiliki banyak tempat wisata alam ...</td>\n",
              "      <td>8</td>\n",
              "    </tr>\n",
              "    <tr>\n",
              "      <th>2</th>\n",
              "      <td>apa tempat wisata alam baik di namadaerah</td>\n",
              "      <td>wisata_alam</td>\n",
              "      <td>tempat wisata alam terbaik di namadaerah terma...</td>\n",
              "      <td>8</td>\n",
              "    </tr>\n",
              "    <tr>\n",
              "      <th>3</th>\n",
              "      <td>apa tempat wisata alam baik di namadaerah</td>\n",
              "      <td>wisata_alam</td>\n",
              "      <td>namadaerah adalah surga bagi pecinta alam deng...</td>\n",
              "      <td>8</td>\n",
              "    </tr>\n",
              "    <tr>\n",
              "      <th>4</th>\n",
              "      <td>apa tempat wisata alam baik di namadaerah</td>\n",
              "      <td>wisata_alam</td>\n",
              "      <td>jika anda mencari wisata alam di namadaerah pa...</td>\n",
              "      <td>8</td>\n",
              "    </tr>\n",
              "  </tbody>\n",
              "</table>\n",
              "</div>"
            ],
            "text/plain": [
              "                                    question       intent  \\\n",
              "0  apa tempat wisata alam baik di namadaerah  wisata_alam   \n",
              "1  apa tempat wisata alam baik di namadaerah  wisata_alam   \n",
              "2  apa tempat wisata alam baik di namadaerah  wisata_alam   \n",
              "3  apa tempat wisata alam baik di namadaerah  wisata_alam   \n",
              "4  apa tempat wisata alam baik di namadaerah  wisata_alam   \n",
              "\n",
              "                                              answer  label  \n",
              "0  di namadaerah anda bisa mengunjungi rekomendas...      8  \n",
              "1  namadaerah memiliki banyak tempat wisata alam ...      8  \n",
              "2  tempat wisata alam terbaik di namadaerah terma...      8  \n",
              "3  namadaerah adalah surga bagi pecinta alam deng...      8  \n",
              "4  jika anda mencari wisata alam di namadaerah pa...      8  "
            ]
          },
          "execution_count": 14,
          "metadata": {},
          "output_type": "execute_result"
        }
      ],
      "source": [
        "chatbot_cleaned_df.head()"
      ]
    },
    {
      "cell_type": "markdown",
      "metadata": {},
      "source": [
        "## Filtering Text"
      ]
    },
    {
      "cell_type": "code",
      "execution_count": 15,
      "metadata": {},
      "outputs": [
        {
          "data": {
            "text/html": [
              "<div>\n",
              "<style scoped>\n",
              "    .dataframe tbody tr th:only-of-type {\n",
              "        vertical-align: middle;\n",
              "    }\n",
              "\n",
              "    .dataframe tbody tr th {\n",
              "        vertical-align: top;\n",
              "    }\n",
              "\n",
              "    .dataframe thead th {\n",
              "        text-align: right;\n",
              "    }\n",
              "</style>\n",
              "<table border=\"1\" class=\"dataframe\">\n",
              "  <thead>\n",
              "    <tr style=\"text-align: right;\">\n",
              "      <th></th>\n",
              "      <th>question</th>\n",
              "      <th>intent</th>\n",
              "      <th>answer</th>\n",
              "      <th>label</th>\n",
              "      <th>question_filtered</th>\n",
              "    </tr>\n",
              "  </thead>\n",
              "  <tbody>\n",
              "    <tr>\n",
              "      <th>0</th>\n",
              "      <td>apa tempat wisata alam baik di namadaerah</td>\n",
              "      <td>wisata_alam</td>\n",
              "      <td>di namadaerah anda bisa mengunjungi rekomendas...</td>\n",
              "      <td>8</td>\n",
              "      <td>[wisata, alam, namadaerah]</td>\n",
              "    </tr>\n",
              "    <tr>\n",
              "      <th>1</th>\n",
              "      <td>apa tempat wisata alam baik di namadaerah</td>\n",
              "      <td>wisata_alam</td>\n",
              "      <td>namadaerah memiliki banyak tempat wisata alam ...</td>\n",
              "      <td>8</td>\n",
              "      <td>[wisata, alam, namadaerah]</td>\n",
              "    </tr>\n",
              "    <tr>\n",
              "      <th>2</th>\n",
              "      <td>apa tempat wisata alam baik di namadaerah</td>\n",
              "      <td>wisata_alam</td>\n",
              "      <td>tempat wisata alam terbaik di namadaerah terma...</td>\n",
              "      <td>8</td>\n",
              "      <td>[wisata, alam, namadaerah]</td>\n",
              "    </tr>\n",
              "    <tr>\n",
              "      <th>3</th>\n",
              "      <td>apa tempat wisata alam baik di namadaerah</td>\n",
              "      <td>wisata_alam</td>\n",
              "      <td>namadaerah adalah surga bagi pecinta alam deng...</td>\n",
              "      <td>8</td>\n",
              "      <td>[wisata, alam, namadaerah]</td>\n",
              "    </tr>\n",
              "    <tr>\n",
              "      <th>4</th>\n",
              "      <td>apa tempat wisata alam baik di namadaerah</td>\n",
              "      <td>wisata_alam</td>\n",
              "      <td>jika anda mencari wisata alam di namadaerah pa...</td>\n",
              "      <td>8</td>\n",
              "      <td>[wisata, alam, namadaerah]</td>\n",
              "    </tr>\n",
              "  </tbody>\n",
              "</table>\n",
              "</div>"
            ],
            "text/plain": [
              "                                    question       intent  \\\n",
              "0  apa tempat wisata alam baik di namadaerah  wisata_alam   \n",
              "1  apa tempat wisata alam baik di namadaerah  wisata_alam   \n",
              "2  apa tempat wisata alam baik di namadaerah  wisata_alam   \n",
              "3  apa tempat wisata alam baik di namadaerah  wisata_alam   \n",
              "4  apa tempat wisata alam baik di namadaerah  wisata_alam   \n",
              "\n",
              "                                              answer  label  \\\n",
              "0  di namadaerah anda bisa mengunjungi rekomendas...      8   \n",
              "1  namadaerah memiliki banyak tempat wisata alam ...      8   \n",
              "2  tempat wisata alam terbaik di namadaerah terma...      8   \n",
              "3  namadaerah adalah surga bagi pecinta alam deng...      8   \n",
              "4  jika anda mencari wisata alam di namadaerah pa...      8   \n",
              "\n",
              "            question_filtered  \n",
              "0  [wisata, alam, namadaerah]  \n",
              "1  [wisata, alam, namadaerah]  \n",
              "2  [wisata, alam, namadaerah]  \n",
              "3  [wisata, alam, namadaerah]  \n",
              "4  [wisata, alam, namadaerah]  "
            ]
          },
          "execution_count": 15,
          "metadata": {},
          "output_type": "execute_result"
        }
      ],
      "source": [
        "chatbot_cleaned_df['question_filtered'] = chatbot_cleaned_df['question'].apply(tokenizingText)\n",
        "chatbot_cleaned_df['question_filtered'] = chatbot_cleaned_df['question_filtered'].apply(filteringText)\n",
        "# chatbot_cleaned_df['answer'] = chatbot_cleaned_df['answer'].apply(filteringText)\n",
        "chatbot_cleaned_df.head()"
      ]
    },
    {
      "cell_type": "markdown",
      "metadata": {
        "id": "vl9VYeQGxw_T"
      },
      "source": [
        "## Tokenizing Text"
      ]
    },
    {
      "cell_type": "code",
      "execution_count": 16,
      "metadata": {
        "colab": {
          "base_uri": "https://localhost:8080/",
          "height": 535,
          "referenced_widgets": [
            "91dd6832e9b14a75bfb2327b742d0bca",
            "4595a53fabc5462b8bd5b863954de91d",
            "e7a590922dfc4e868266d8da51ed500f",
            "0d34f48732bb454082652c76262e7ddf",
            "4533c99bc7164ca4aedc02b7bca8e5d3",
            "2d81cffe5a4c46a69170df3a418a2072",
            "029c92824cf84b798127417cee4980e2",
            "272261cba33e4c61ac3e29690e48ceae",
            "ff6bfa2689434af78688844f5e5ac530",
            "03c5cd24371f4fa9bf5f277cb67cd169",
            "2c5ee7506432470baf2355eb2bffe8a4"
          ]
        },
        "id": "uXH0VxmJxzv_",
        "outputId": "5108682c-088c-437d-aa81-320016986292"
      },
      "outputs": [
        {
          "name": "stderr",
          "output_type": "stream",
          "text": [
            "Map:   0%|          | 0/1100 [00:00<?, ? examples/s]Asking to truncate to max_length but no maximum length is provided and the model has no predefined maximum length. Default to no truncation.\n"
          ]
        },
        {
          "name": "stderr",
          "output_type": "stream",
          "text": [
            "Map: 100%|██████████| 1100/1100 [00:00<00:00, 7617.73 examples/s]\n"
          ]
        },
        {
          "data": {
            "text/plain": [
              "{'question': 'apa tempat wisata alam baik di namadaerah',\n",
              " 'intent': 'wisata_alam',\n",
              " 'answer': 'di namadaerah anda bisa mengunjungi rekomendasi1 rekomendasi2 dan rekomendasi3 yang terkenal dengan pemandangan alam yang menakjubkan jangan lewatkan juga rekomendasi4 untuk pengalaman yang tak terlupakan',\n",
              " 'label': 8,\n",
              " 'question_filtered': ['wisata', 'alam', 'namadaerah'],\n",
              " 'input_ids': [2,\n",
              "  387,\n",
              "  515,\n",
              "  1223,\n",
              "  668,\n",
              "  342,\n",
              "  26,\n",
              "  712,\n",
              "  10224,\n",
              "  3,\n",
              "  0,\n",
              "  0,\n",
              "  0,\n",
              "  0,\n",
              "  0,\n",
              "  0],\n",
              " 'token_type_ids': [0, 0, 0, 0, 0, 0, 0, 0, 0, 0, 0, 0, 0, 0, 0, 0],\n",
              " 'attention_mask': [1, 1, 1, 1, 1, 1, 1, 1, 1, 1, 0, 0, 0, 0, 0, 0],\n",
              " 'labels': 8}"
            ]
          },
          "execution_count": 16,
          "metadata": {},
          "output_type": "execute_result"
        }
      ],
      "source": [
        "# chatbot_cleaned_df['question'] = chatbot_cleaned_df['question'].apply(tokenizingText)\n",
        "# chatbot_cleaned_df['answer'] = chatbot_cleaned_df['answer'].apply(tokenizingText)\n",
        "\n",
        "dataset = Dataset.from_pandas(chatbot_cleaned_df)\n",
        "tokenized_dataset = dataset.map(tokenize, batched=True)\n",
        "\n",
        "tokenized_dataset[0]"
      ]
    },
    {
      "cell_type": "markdown",
      "metadata": {
        "id": "w0yJM-Zg16nr"
      },
      "source": [
        "# Modeling"
      ]
    },
    {
      "cell_type": "markdown",
      "metadata": {
        "id": "m99LPRX82Ovh"
      },
      "source": [
        "## Split Dataset"
      ]
    },
    {
      "cell_type": "code",
      "execution_count": 17,
      "metadata": {
        "id": "l5w1nm362DZg"
      },
      "outputs": [],
      "source": [
        "split_dataset = tokenized_dataset.train_test_split(test_size=0.2, seed=42)"
      ]
    },
    {
      "cell_type": "markdown",
      "metadata": {
        "id": "V4tpD39h2RFv"
      },
      "source": [
        "## Load Pretrained Model"
      ]
    },
    {
      "cell_type": "code",
      "execution_count": 18,
      "metadata": {
        "colab": {
          "base_uri": "https://localhost:8080/"
        },
        "id": "YqZ60_mn2VBZ",
        "outputId": "372ef815-c677-4109-ea24-73c7f4f9828e"
      },
      "outputs": [
        {
          "name": "stderr",
          "output_type": "stream",
          "text": [
            "Some weights of BertForSequenceClassification were not initialized from the model checkpoint at indobenchmark/indobert-base-p1 and are newly initialized: ['classifier.bias', 'classifier.weight']\n",
            "You should probably TRAIN this model on a down-stream task to be able to use it for predictions and inference.\n"
          ]
        }
      ],
      "source": [
        "num_labels = len(chatbot_cleaned_df['label'].unique())\n",
        "\n",
        "model = AutoModelForSequenceClassification.from_pretrained(\n",
        "    \"indobenchmark/indobert-base-p1\",\n",
        "    num_labels=num_labels\n",
        ")"
      ]
    },
    {
      "cell_type": "markdown",
      "metadata": {
        "id": "FtCil-Hp2t1f"
      },
      "source": [
        "## Training Argument"
      ]
    },
    {
      "cell_type": "code",
      "execution_count": 19,
      "metadata": {
        "colab": {
          "base_uri": "https://localhost:8080/"
        },
        "id": "hilFNvSd2wUv",
        "outputId": "01714bf9-2307-45a0-8f07-a2184ac067c0"
      },
      "outputs": [
        {
          "name": "stderr",
          "output_type": "stream",
          "text": [
            "c:\\Users\\ASUS\\Desktop\\arkanesia-dataset\\arkanesia_env\\Lib\\site-packages\\transformers\\training_args.py:1611: FutureWarning: `evaluation_strategy` is deprecated and will be removed in version 4.46 of 🤗 Transformers. Use `eval_strategy` instead\n",
            "  warnings.warn(\n"
          ]
        }
      ],
      "source": [
        "training_args = TrainingArguments(\n",
        "    output_dir=\"./results\",\n",
        "    evaluation_strategy=\"epoch\",\n",
        "    learning_rate=2e-5,\n",
        "    per_device_train_batch_size=8,\n",
        "    per_device_eval_batch_size=8,\n",
        "    num_train_epochs=4,\n",
        "    weight_decay=0.01\n",
        ")"
      ]
    },
    {
      "cell_type": "markdown",
      "metadata": {
        "id": "HbYf13zO27s1"
      },
      "source": [
        "## Training Setup"
      ]
    },
    {
      "cell_type": "code",
      "execution_count": 25,
      "metadata": {
        "colab": {
          "base_uri": "https://localhost:8080/"
        },
        "id": "ulJUeLzp29hp",
        "outputId": "1a4ad78c-f921-4e23-96e4-7d4cdc5e0a23"
      },
      "outputs": [
        {
          "name": "stderr",
          "output_type": "stream",
          "text": [
            "C:\\Users\\ASUS\\AppData\\Local\\Temp\\ipykernel_8504\\3151952263.py:5: FutureWarning: `tokenizer` is deprecated and will be removed in version 5.0.0 for `Trainer.__init__`. Use `processing_class` instead.\n",
            "  trainer = Trainer(\n"
          ]
        }
      ],
      "source": [
        "def compute_metrics(p):\n",
        "    preds = p.predictions.argmax(axis=1)\n",
        "    return {\"accuracy\": accuracy_score(p.label_ids, preds)}\n",
        "\n",
        "trainer = Trainer(\n",
        "    model=model,\n",
        "    args=training_args,\n",
        "    train_dataset=split_dataset['train'],\n",
        "    eval_dataset=split_dataset['test'],\n",
        "    tokenizer=tokenizer,\n",
        "    compute_metrics=compute_metrics\n",
        ")"
      ]
    },
    {
      "cell_type": "markdown",
      "metadata": {
        "id": "_Y7SsFDF3LwG"
      },
      "source": [
        "## Train The Model"
      ]
    },
    {
      "cell_type": "code",
      "execution_count": 26,
      "metadata": {
        "colab": {
          "base_uri": "https://localhost:8080/",
          "height": 428
        },
        "id": "1wss8dZp3Oak",
        "outputId": "ebbce6e9-892b-44c9-cd0d-bb9fefbc4908"
      },
      "outputs": [
        {
          "data": {
            "text/html": [
              "\n",
              "    <div>\n",
              "      \n",
              "      <progress value='440' max='440' style='width:300px; height:20px; vertical-align: middle;'></progress>\n",
              "      [440/440 16:09, Epoch 4/4]\n",
              "    </div>\n",
              "    <table border=\"1\" class=\"dataframe\">\n",
              "  <thead>\n",
              " <tr style=\"text-align: left;\">\n",
              "      <th>Epoch</th>\n",
              "      <th>Training Loss</th>\n",
              "      <th>Validation Loss</th>\n",
              "      <th>Accuracy</th>\n",
              "    </tr>\n",
              "  </thead>\n",
              "  <tbody>\n",
              "    <tr>\n",
              "      <td>1</td>\n",
              "      <td>No log</td>\n",
              "      <td>0.069657</td>\n",
              "      <td>1.000000</td>\n",
              "    </tr>\n",
              "    <tr>\n",
              "      <td>2</td>\n",
              "      <td>No log</td>\n",
              "      <td>0.011692</td>\n",
              "      <td>1.000000</td>\n",
              "    </tr>\n",
              "    <tr>\n",
              "      <td>3</td>\n",
              "      <td>No log</td>\n",
              "      <td>0.008111</td>\n",
              "      <td>1.000000</td>\n",
              "    </tr>\n",
              "    <tr>\n",
              "      <td>4</td>\n",
              "      <td>No log</td>\n",
              "      <td>0.007292</td>\n",
              "      <td>1.000000</td>\n",
              "    </tr>\n",
              "  </tbody>\n",
              "</table><p>"
            ],
            "text/plain": [
              "<IPython.core.display.HTML object>"
            ]
          },
          "metadata": {},
          "output_type": "display_data"
        },
        {
          "data": {
            "text/plain": [
              "TrainOutput(global_step=440, training_loss=0.2718481410633434, metrics={'train_runtime': 974.106, 'train_samples_per_second': 3.614, 'train_steps_per_second': 0.452, 'total_flos': 28945334415360.0, 'train_loss': 0.2718481410633434, 'epoch': 4.0})"
            ]
          },
          "execution_count": 26,
          "metadata": {},
          "output_type": "execute_result"
        }
      ],
      "source": [
        "import os\n",
        "os.environ[\"WANDB_DISABLED\"] = \"true\"\n",
        "\n",
        "trainer.train()"
      ]
    }
  ],
  "metadata": {
    "colab": {
      "provenance": []
    },
    "kernelspec": {
      "display_name": "Python 3",
      "name": "python3"
    },
    "language_info": {
      "codemirror_mode": {
        "name": "ipython",
        "version": 3
      },
      "file_extension": ".py",
      "mimetype": "text/x-python",
      "name": "python",
      "nbconvert_exporter": "python",
      "pygments_lexer": "ipython3",
      "version": "3.11.5"
    },
    "widgets": {
      "application/vnd.jupyter.widget-state+json": {
        "029c92824cf84b798127417cee4980e2": {
          "model_module": "@jupyter-widgets/controls",
          "model_module_version": "1.5.0",
          "model_name": "DescriptionStyleModel",
          "state": {
            "_model_module": "@jupyter-widgets/controls",
            "_model_module_version": "1.5.0",
            "_model_name": "DescriptionStyleModel",
            "_view_count": null,
            "_view_module": "@jupyter-widgets/base",
            "_view_module_version": "1.2.0",
            "_view_name": "StyleView",
            "description_width": ""
          }
        },
        "03c5cd24371f4fa9bf5f277cb67cd169": {
          "model_module": "@jupyter-widgets/base",
          "model_module_version": "1.2.0",
          "model_name": "LayoutModel",
          "state": {
            "_model_module": "@jupyter-widgets/base",
            "_model_module_version": "1.2.0",
            "_model_name": "LayoutModel",
            "_view_count": null,
            "_view_module": "@jupyter-widgets/base",
            "_view_module_version": "1.2.0",
            "_view_name": "LayoutView",
            "align_content": null,
            "align_items": null,
            "align_self": null,
            "border": null,
            "bottom": null,
            "display": null,
            "flex": null,
            "flex_flow": null,
            "grid_area": null,
            "grid_auto_columns": null,
            "grid_auto_flow": null,
            "grid_auto_rows": null,
            "grid_column": null,
            "grid_gap": null,
            "grid_row": null,
            "grid_template_areas": null,
            "grid_template_columns": null,
            "grid_template_rows": null,
            "height": null,
            "justify_content": null,
            "justify_items": null,
            "left": null,
            "margin": null,
            "max_height": null,
            "max_width": null,
            "min_height": null,
            "min_width": null,
            "object_fit": null,
            "object_position": null,
            "order": null,
            "overflow": null,
            "overflow_x": null,
            "overflow_y": null,
            "padding": null,
            "right": null,
            "top": null,
            "visibility": null,
            "width": null
          }
        },
        "0d34f48732bb454082652c76262e7ddf": {
          "model_module": "@jupyter-widgets/controls",
          "model_module_version": "1.5.0",
          "model_name": "HTMLModel",
          "state": {
            "_dom_classes": [],
            "_model_module": "@jupyter-widgets/controls",
            "_model_module_version": "1.5.0",
            "_model_name": "HTMLModel",
            "_view_count": null,
            "_view_module": "@jupyter-widgets/controls",
            "_view_module_version": "1.5.0",
            "_view_name": "HTMLView",
            "description": "",
            "description_tooltip": null,
            "layout": "IPY_MODEL_03c5cd24371f4fa9bf5f277cb67cd169",
            "placeholder": "​",
            "style": "IPY_MODEL_2c5ee7506432470baf2355eb2bffe8a4",
            "value": " 1100/1100 [00:00&lt;00:00, 6515.91 examples/s]"
          }
        },
        "272261cba33e4c61ac3e29690e48ceae": {
          "model_module": "@jupyter-widgets/base",
          "model_module_version": "1.2.0",
          "model_name": "LayoutModel",
          "state": {
            "_model_module": "@jupyter-widgets/base",
            "_model_module_version": "1.2.0",
            "_model_name": "LayoutModel",
            "_view_count": null,
            "_view_module": "@jupyter-widgets/base",
            "_view_module_version": "1.2.0",
            "_view_name": "LayoutView",
            "align_content": null,
            "align_items": null,
            "align_self": null,
            "border": null,
            "bottom": null,
            "display": null,
            "flex": null,
            "flex_flow": null,
            "grid_area": null,
            "grid_auto_columns": null,
            "grid_auto_flow": null,
            "grid_auto_rows": null,
            "grid_column": null,
            "grid_gap": null,
            "grid_row": null,
            "grid_template_areas": null,
            "grid_template_columns": null,
            "grid_template_rows": null,
            "height": null,
            "justify_content": null,
            "justify_items": null,
            "left": null,
            "margin": null,
            "max_height": null,
            "max_width": null,
            "min_height": null,
            "min_width": null,
            "object_fit": null,
            "object_position": null,
            "order": null,
            "overflow": null,
            "overflow_x": null,
            "overflow_y": null,
            "padding": null,
            "right": null,
            "top": null,
            "visibility": null,
            "width": null
          }
        },
        "2c5ee7506432470baf2355eb2bffe8a4": {
          "model_module": "@jupyter-widgets/controls",
          "model_module_version": "1.5.0",
          "model_name": "DescriptionStyleModel",
          "state": {
            "_model_module": "@jupyter-widgets/controls",
            "_model_module_version": "1.5.0",
            "_model_name": "DescriptionStyleModel",
            "_view_count": null,
            "_view_module": "@jupyter-widgets/base",
            "_view_module_version": "1.2.0",
            "_view_name": "StyleView",
            "description_width": ""
          }
        },
        "2d81cffe5a4c46a69170df3a418a2072": {
          "model_module": "@jupyter-widgets/base",
          "model_module_version": "1.2.0",
          "model_name": "LayoutModel",
          "state": {
            "_model_module": "@jupyter-widgets/base",
            "_model_module_version": "1.2.0",
            "_model_name": "LayoutModel",
            "_view_count": null,
            "_view_module": "@jupyter-widgets/base",
            "_view_module_version": "1.2.0",
            "_view_name": "LayoutView",
            "align_content": null,
            "align_items": null,
            "align_self": null,
            "border": null,
            "bottom": null,
            "display": null,
            "flex": null,
            "flex_flow": null,
            "grid_area": null,
            "grid_auto_columns": null,
            "grid_auto_flow": null,
            "grid_auto_rows": null,
            "grid_column": null,
            "grid_gap": null,
            "grid_row": null,
            "grid_template_areas": null,
            "grid_template_columns": null,
            "grid_template_rows": null,
            "height": null,
            "justify_content": null,
            "justify_items": null,
            "left": null,
            "margin": null,
            "max_height": null,
            "max_width": null,
            "min_height": null,
            "min_width": null,
            "object_fit": null,
            "object_position": null,
            "order": null,
            "overflow": null,
            "overflow_x": null,
            "overflow_y": null,
            "padding": null,
            "right": null,
            "top": null,
            "visibility": null,
            "width": null
          }
        },
        "4533c99bc7164ca4aedc02b7bca8e5d3": {
          "model_module": "@jupyter-widgets/base",
          "model_module_version": "1.2.0",
          "model_name": "LayoutModel",
          "state": {
            "_model_module": "@jupyter-widgets/base",
            "_model_module_version": "1.2.0",
            "_model_name": "LayoutModel",
            "_view_count": null,
            "_view_module": "@jupyter-widgets/base",
            "_view_module_version": "1.2.0",
            "_view_name": "LayoutView",
            "align_content": null,
            "align_items": null,
            "align_self": null,
            "border": null,
            "bottom": null,
            "display": null,
            "flex": null,
            "flex_flow": null,
            "grid_area": null,
            "grid_auto_columns": null,
            "grid_auto_flow": null,
            "grid_auto_rows": null,
            "grid_column": null,
            "grid_gap": null,
            "grid_row": null,
            "grid_template_areas": null,
            "grid_template_columns": null,
            "grid_template_rows": null,
            "height": null,
            "justify_content": null,
            "justify_items": null,
            "left": null,
            "margin": null,
            "max_height": null,
            "max_width": null,
            "min_height": null,
            "min_width": null,
            "object_fit": null,
            "object_position": null,
            "order": null,
            "overflow": null,
            "overflow_x": null,
            "overflow_y": null,
            "padding": null,
            "right": null,
            "top": null,
            "visibility": null,
            "width": null
          }
        },
        "4595a53fabc5462b8bd5b863954de91d": {
          "model_module": "@jupyter-widgets/controls",
          "model_module_version": "1.5.0",
          "model_name": "HTMLModel",
          "state": {
            "_dom_classes": [],
            "_model_module": "@jupyter-widgets/controls",
            "_model_module_version": "1.5.0",
            "_model_name": "HTMLModel",
            "_view_count": null,
            "_view_module": "@jupyter-widgets/controls",
            "_view_module_version": "1.5.0",
            "_view_name": "HTMLView",
            "description": "",
            "description_tooltip": null,
            "layout": "IPY_MODEL_2d81cffe5a4c46a69170df3a418a2072",
            "placeholder": "​",
            "style": "IPY_MODEL_029c92824cf84b798127417cee4980e2",
            "value": "Map: 100%"
          }
        },
        "91dd6832e9b14a75bfb2327b742d0bca": {
          "model_module": "@jupyter-widgets/controls",
          "model_module_version": "1.5.0",
          "model_name": "HBoxModel",
          "state": {
            "_dom_classes": [],
            "_model_module": "@jupyter-widgets/controls",
            "_model_module_version": "1.5.0",
            "_model_name": "HBoxModel",
            "_view_count": null,
            "_view_module": "@jupyter-widgets/controls",
            "_view_module_version": "1.5.0",
            "_view_name": "HBoxView",
            "box_style": "",
            "children": [
              "IPY_MODEL_4595a53fabc5462b8bd5b863954de91d",
              "IPY_MODEL_e7a590922dfc4e868266d8da51ed500f",
              "IPY_MODEL_0d34f48732bb454082652c76262e7ddf"
            ],
            "layout": "IPY_MODEL_4533c99bc7164ca4aedc02b7bca8e5d3"
          }
        },
        "e7a590922dfc4e868266d8da51ed500f": {
          "model_module": "@jupyter-widgets/controls",
          "model_module_version": "1.5.0",
          "model_name": "FloatProgressModel",
          "state": {
            "_dom_classes": [],
            "_model_module": "@jupyter-widgets/controls",
            "_model_module_version": "1.5.0",
            "_model_name": "FloatProgressModel",
            "_view_count": null,
            "_view_module": "@jupyter-widgets/controls",
            "_view_module_version": "1.5.0",
            "_view_name": "ProgressView",
            "bar_style": "success",
            "description": "",
            "description_tooltip": null,
            "layout": "IPY_MODEL_272261cba33e4c61ac3e29690e48ceae",
            "max": 1100,
            "min": 0,
            "orientation": "horizontal",
            "style": "IPY_MODEL_ff6bfa2689434af78688844f5e5ac530",
            "value": 1100
          }
        },
        "ff6bfa2689434af78688844f5e5ac530": {
          "model_module": "@jupyter-widgets/controls",
          "model_module_version": "1.5.0",
          "model_name": "ProgressStyleModel",
          "state": {
            "_model_module": "@jupyter-widgets/controls",
            "_model_module_version": "1.5.0",
            "_model_name": "ProgressStyleModel",
            "_view_count": null,
            "_view_module": "@jupyter-widgets/base",
            "_view_module_version": "1.2.0",
            "_view_name": "StyleView",
            "bar_color": null,
            "description_width": ""
          }
        }
      }
    }
  },
  "nbformat": 4,
  "nbformat_minor": 0
}
